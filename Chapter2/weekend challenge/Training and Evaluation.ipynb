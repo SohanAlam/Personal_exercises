{
 "cells": [
  {
   "cell_type": "markdown",
   "metadata": {},
   "source": [
    "## Import libraries"
   ]
  },
  {
   "cell_type": "code",
   "execution_count": 2,
   "metadata": {},
   "outputs": [],
   "source": [
    "# import libraries\n",
    "import data_handler as dh\n",
    "from sklearn.tree import DecisionTreeClassifier\n",
    "from sklearn.ensemble import RandomForestClassifier, ExtraTreesClassifier, GradientBoostingClassifier\n",
    "from sklearn.model_selection import GridSearchCV\n",
    "from joblib import dump\n",
    "import os\n",
    "import numpy as np\n",
    "import pandas as pd\n",
    "\n",
    "from sklearn import svm\n",
    "from sklearn.preprocessing import StandardScaler\n",
    "from sklearn.metrics import ConfusionMatrixDisplay\n",
    "\n",
    "from imblearn.over_sampling import SMOTE\n",
    "from imblearn.combine import SMOTEENN\n",
    "\n",
    "from collections import Counter\n",
    "from sklearn.metrics import ConfusionMatrixDisplay\n",
    "\n",
    "\n",
    "from sklearn.decomposition import PCA\n",
    "from sklearn.metrics import accuracy_score, f1_score, precision_score, recall_score, ConfusionMatrixDisplay"
   ]
  },
  {
   "cell_type": "markdown",
   "metadata": {},
   "source": [
    "## Get data"
   ]
  },
  {
   "cell_type": "code",
   "execution_count": 3,
   "metadata": {},
   "outputs": [],
   "source": [
    "data_path = 'C:\\practice_september\\Personalexercises_september\\Chapter2\\weekend challenge\\heart.csv'\n",
    "x_train, x_test, y_train, y_test = dh.get_data(data_path)"
   ]
  },
  {
   "cell_type": "markdown",
   "metadata": {},
   "source": [
    "## Process Data"
   ]
  },
  {
   "cell_type": "code",
   "execution_count": 4,
   "metadata": {},
   "outputs": [],
   "source": [
    "#Normalize data\n",
    "scalar = StandardScaler()\n",
    "scalar_x_train = scalar.fit_transform(x_train)\n",
    "scalar_x_test = scalar.transform(x_test)"
   ]
  },
  {
   "cell_type": "markdown",
   "metadata": {},
   "source": [
    "## Train Model"
   ]
  },
  {
   "cell_type": "code",
   "execution_count": 5,
   "metadata": {},
   "outputs": [
    {
     "name": "stdout",
     "output_type": "stream",
     "text": [
      " \n",
      "Train Accuracy: 0.8925619834710744,\tTest Accuracy: 0.8688524590163934\n",
      "F1 Score: 0.8888888888888888,\tPrecision  Score: 0.8421052631578947,\tRecall Score: 0.9411764705882353\n"
     ]
    },
    {
     "ename": "AttributeError",
     "evalue": "type object 'ConfusionMatrixDisplay' has no attribute 'from_estimator'",
     "output_type": "error",
     "traceback": [
      "\u001b[1;31m---------------------------------------------------------------------------\u001b[0m",
      "\u001b[1;31mAttributeError\u001b[0m                            Traceback (most recent call last)",
      "\u001b[1;32m<ipython-input-5-1000d3aa2b4a>\u001b[0m in \u001b[0;36m<module>\u001b[1;34m\u001b[0m\n\u001b[0;32m     11\u001b[0m \u001b[0mprint\u001b[0m\u001b[1;33m(\u001b[0m\u001b[1;34m\"F1 Score: {},\\tPrecision  Score: {},\\tRecall Score: {}\"\u001b[0m\u001b[1;33m.\u001b[0m\u001b[0mformat\u001b[0m\u001b[1;33m(\u001b[0m \u001b[0mf1_score\u001b[0m\u001b[1;33m(\u001b[0m\u001b[0my_test\u001b[0m\u001b[1;33m,\u001b[0m \u001b[0my_pred\u001b[0m\u001b[1;33m)\u001b[0m\u001b[1;33m,\u001b[0m \u001b[0mprecision_score\u001b[0m\u001b[1;33m(\u001b[0m\u001b[0my_test\u001b[0m\u001b[1;33m,\u001b[0m \u001b[0my_pred\u001b[0m\u001b[1;33m)\u001b[0m\u001b[1;33m,\u001b[0m \u001b[0mrecall_score\u001b[0m\u001b[1;33m(\u001b[0m\u001b[0my_test\u001b[0m\u001b[1;33m,\u001b[0m \u001b[0my_pred\u001b[0m\u001b[1;33m)\u001b[0m \u001b[1;33m)\u001b[0m \u001b[1;33m)\u001b[0m\u001b[1;33m\u001b[0m\u001b[1;33m\u001b[0m\u001b[0m\n\u001b[0;32m     12\u001b[0m \u001b[1;33m\u001b[0m\u001b[0m\n\u001b[1;32m---> 13\u001b[1;33m \u001b[0mconf\u001b[0m\u001b[1;33m=\u001b[0m\u001b[0mConfusionMatrixDisplay\u001b[0m\u001b[1;33m.\u001b[0m\u001b[0mfrom_estimator\u001b[0m\u001b[1;33m(\u001b[0m\u001b[0msvm_clf_best\u001b[0m\u001b[1;33m,\u001b[0m \u001b[0mscalar_x_test\u001b[0m\u001b[1;33m,\u001b[0m \u001b[0my_test\u001b[0m\u001b[1;33m)\u001b[0m\u001b[1;33m;\u001b[0m\u001b[1;31m#, display_labels=labels\u001b[0m\u001b[1;33m\u001b[0m\u001b[1;33m\u001b[0m\u001b[0m\n\u001b[0m\u001b[0;32m     14\u001b[0m \u001b[0mconf_mat\u001b[0m \u001b[1;33m=\u001b[0m \u001b[0mconf\u001b[0m\u001b[1;33m.\u001b[0m\u001b[0mconfusion_matrix\u001b[0m\u001b[1;33m\u001b[0m\u001b[1;33m\u001b[0m\u001b[0m\n",
      "\u001b[1;31mAttributeError\u001b[0m: type object 'ConfusionMatrixDisplay' has no attribute 'from_estimator'"
     ]
    }
   ],
   "source": [
    "#fit svm\n",
    "svm_clf_best = svm.SVC()\n",
    "svm_clf_best.fit(scalar_x_train,y_train)\n",
    "\n",
    "#check initial accuracy\n",
    "acc_train = svm_clf_best.score(scalar_x_train,y_train)\n",
    "acc_test = svm_clf_best.score(scalar_x_test,y_test)\n",
    "y_pred = svm_clf_best.predict(scalar_x_test)\n",
    "print(\" \")\n",
    "print(\"Train Accuracy: {},\\tTest Accuracy: {}\".format(acc_train,acc_test))\n",
    "print(\"F1 Score: {},\\tPrecision  Score: {},\\tRecall Score: {}\".format( f1_score(y_test, y_pred), precision_score(y_test, y_pred), recall_score(y_test, y_pred) ) )\n",
    "\n",
    "conf=ConfusionMatrixDisplay.from_estimator(svm_clf_best, scalar_x_test, y_test);#, display_labels=labels\n",
    "conf_mat = conf.confusion_matrix"
   ]
  },
  {
   "cell_type": "markdown",
   "metadata": {},
   "source": [
    "## Grid Search on svm"
   ]
  },
  {
   "cell_type": "code",
   "execution_count": null,
   "metadata": {},
   "outputs": [
    {
     "name": "stdout",
     "output_type": "stream",
     "text": [
      "Best estimator found by grid search: SVC(C=0.03125, gamma=0.03125, kernel='linear')\n",
      "\n",
      "kernel:\tlinear\n",
      "C:\t0.03125\n",
      "Decision Function Shape:\tovr\n",
      "Gamma:\t0.03125\n",
      "\n",
      "Score:\t0.8225\n"
     ]
    }
   ],
   "source": [
    "params_more = {'kernel':['linear','rbf','poly','sigmoid'],\\\n",
    "    'C':np.arange(2**(-5),2**5,2),\\\n",
    "        'decision_function_shape':['ovr','ovo'],\\\n",
    "            'gamma':np.arange(2**(-5),2**5,2)}\n",
    "\n",
    "svc = svm.SVC()\n",
    "grid_clf = GridSearchCV(svc, params_more, cv=10)\n",
    "grid_clf.fit(scalar_x_train, y_train)\n",
    "\n",
    "svm_model = grid_clf.best_estimator_\n",
    "print(\"Best estimator found by grid search: \"+str(svm_model))\n",
    "\n",
    "print('\\nkernel:\\t'+svm_model.kernel+'\\nC:\\t'+str(svm_model.C)\\\n",
    "    +'\\nDecision Function Shape:\\t'+svm_model.decision_function_shape\\\n",
    "        +'\\nGamma:\\t'+str(svm_model.gamma))\n",
    "print(\"\\nScore:\\t\"+str(grid_clf.best_score_))\n",
    "\n",
    "y_pred = svm_model.predict(scalar_x_test)\n",
    "print(\" \")\n",
    "print(\"Train Accuracy: {},\\tTest Accuracy: {}\".format(acc_train,acc_test))\n",
    "print(\"F1 Score: {},\\tPrecision  Score: {},\\tRecall Score: {}\".format( f1_score(y_test, y_pred), precision_score(y_test, y_pred), recall_score(y_test, y_pred) ) )"
   ]
  },
  {
   "cell_type": "code",
   "execution_count": null,
   "metadata": {},
   "outputs": [
    {
     "data": {
      "image/png": "[encoded data removed]",
      "text/plain": [
       "<Figure size 432x288 with 2 Axes>"
      ]
     },
     "metadata": {
      "needs_background": "light"
     },
     "output_type": "display_data"
    }
   ],
   "source": [
    "conf=ConfusionMatrixDisplay.from_estimator(grid_clf, scalar_x_test, y_test);#, display_labels=labels\n",
    "conf_mat = conf.confusion_matrix"
   ]
  },
  {
   "cell_type": "markdown",
   "metadata": {},
   "source": [
    "## Data Argmentation"
   ]
  },
  {
   "cell_type": "code",
   "execution_count": null,
   "metadata": {},
   "outputs": [
    {
     "name": "stdout",
     "output_type": "stream",
     "text": [
      "0.08264462809917356\n",
      "0.8931297709923665 0.8688524590163934\n",
      " \n",
      "Train Accuracy: 0.8931297709923665,\tTest Accuracy: 0.8688524590163934\n",
      "F1 Score: 0.8888888888888888,\tPrecision  Score: 0.8421052631578947,\tRecall Score: 0.9411764705882353\n"
     ]
    },
    {
     "data": {
      "image/png": "[encoded data removed]",
      "text/plain": [
       "<Figure size 432x288 with 2 Axes>"
      ]
     },
     "metadata": {
      "needs_background": "light"
     },
     "output_type": "display_data"
    }
   ],
   "source": [
    "#Over Sampling\n",
    "\n",
    "sm = SMOTE(random_state=12)\n",
    "\n",
    "x_train_res, y_train_res = sm.fit_resample(x_train, y_train)\n",
    "print( (x_train_res.shape[0] - x_train.shape[0]) / x_train.shape[0] )\n",
    "\n",
    "#Normalize data\n",
    "scalar = StandardScaler()\n",
    "scalar_x_train = scalar.fit_transform(x_train_res)\n",
    "scalar_x_test = scalar.transform(x_test)\n",
    "\n",
    "#fit svm\n",
    "svm_clf = svm.SVC()\n",
    "svm_clf.fit(scalar_x_train,y_train_res)\n",
    "\n",
    "#check initial accuracy\n",
    "acc_train = svm_clf.score(scalar_x_train,y_train_res)\n",
    "acc_test = svm_clf.score(scalar_x_test,y_test)\n",
    "print(acc_train,acc_test)\n",
    "\n",
    "y_pred = svm_clf.predict(scalar_x_test)\n",
    "print(\" \")\n",
    "print(\"Train Accuracy: {},\\tTest Accuracy: {}\".format(acc_train,acc_test))\n",
    "print(\"F1 Score: {},\\tPrecision  Score: {},\\tRecall Score: {}\".format( f1_score(y_test, y_pred), precision_score(y_test, y_pred), recall_score(y_test, y_pred) ) )\n",
    "\n",
    "conf=ConfusionMatrixDisplay.from_estimator(svm_clf, scalar_x_test, y_test);#, display_labels=labels\n",
    "conf_mat = conf.confusion_matrix\n",
    "#SMOTEENN\n"
   ]
  },
  {
   "cell_type": "code",
   "execution_count": null,
   "metadata": {},
   "outputs": [
    {
     "ename": "NameError",
     "evalue": "name 'SMOTEENN' is not defined",
     "output_type": "error",
     "traceback": [
      "\u001b[1;31m---------------------------------------------------------------------------\u001b[0m",
      "\u001b[1;31mNameError\u001b[0m                                 Traceback (most recent call last)",
      "\u001b[1;32m<ipython-input-1-11542e4bdf30>\u001b[0m in \u001b[0;36m<module>\u001b[1;34m\u001b[0m\n\u001b[1;32m----> 1\u001b[1;33m \u001b[0msm\u001b[0m \u001b[1;33m=\u001b[0m \u001b[0mSMOTEENN\u001b[0m\u001b[1;33m(\u001b[0m\u001b[0mrandom_state\u001b[0m\u001b[1;33m=\u001b[0m\u001b[1;36m12\u001b[0m\u001b[1;33m)\u001b[0m\u001b[1;33m\u001b[0m\u001b[1;33m\u001b[0m\u001b[0m\n\u001b[0m\u001b[0;32m      2\u001b[0m \u001b[1;33m\u001b[0m\u001b[0m\n\u001b[0;32m      3\u001b[0m \u001b[0mx_train_res\u001b[0m\u001b[1;33m,\u001b[0m \u001b[0my_train_res\u001b[0m \u001b[1;33m=\u001b[0m \u001b[0msm\u001b[0m\u001b[1;33m.\u001b[0m\u001b[0mfit_resample\u001b[0m\u001b[1;33m(\u001b[0m\u001b[0mx_train\u001b[0m\u001b[1;33m,\u001b[0m \u001b[0my_train\u001b[0m\u001b[1;33m)\u001b[0m\u001b[1;33m\u001b[0m\u001b[1;33m\u001b[0m\u001b[0m\n\u001b[0;32m      4\u001b[0m \u001b[1;33m\u001b[0m\u001b[0m\n\u001b[0;32m      5\u001b[0m \u001b[1;31m#Normalize data\u001b[0m\u001b[1;33m\u001b[0m\u001b[1;33m\u001b[0m\u001b[1;33m\u001b[0m\u001b[0m\n",
      "\u001b[1;31mNameError\u001b[0m: name 'SMOTEENN' is not defined"
     ]
    }
   ],
   "source": [
    "\n",
    "\n",
    "sm = SMOTEENN(random_state=12)\n",
    "\n",
    "x_train_res, y_train_res = sm.fit_resample(x_train, y_train)\n",
    "\n",
    "#Normalize data\n",
    "scalar = StandardScaler()\n",
    "scalar_x_train = scalar.fit_transform(x_train_res)\n",
    "scalar_x_test = scalar.transform(x_test)\n",
    "\n",
    "#fit svm\n",
    "svm_clf = svm.SVC()\n",
    "svm_clf.fit(scalar_x_train,y_train_res)\n",
    "\n",
    "#check initial accuracy\n",
    "acc_train = svm_clf.score(scalar_x_train,y_train_res)\n",
    "acc_test = svm_clf.score(scalar_x_test,y_test)\n",
    "print(acc_train,acc_test)\n",
    "\n",
    "y_pred = svm_clf.predict(scalar_x_test)\n",
    "print(\" \")\n",
    "print(\"Train Accuracy: {},\\tTest Accuracy: {}\".format(acc_train,acc_test))\n",
    "print(\"F1 Score: {},\\tPrecision  Score: {},\\tRecall Score: {}\".format( f1_score(y_test, y_pred), precision_score(y_test, y_pred), recall_score(y_test, y_pred) ) )\n",
    "\n",
    "conf=ConfusionMatrixDisplay.from_estimator(svm_clf, scalar_x_test, y_test);#, display_labels=labels\n",
    "conf_mat = conf.confusion_matrix\n"
   ]
  },
  {
   "cell_type": "code",
   "execution_count": null,
   "metadata": {},
   "outputs": [
    {
     "name": "stdout",
     "output_type": "stream",
     "text": [
      "0.9442148760330579 0.8852459016393442\n",
      " \n",
      "Train Accuracy: 0.9442148760330579,\tTest Accuracy: 0.8852459016393442\n",
      "F1 Score: 0.8985507246376812,\tPrecision  Score: 0.8857142857142857,\tRecall Score: 0.9117647058823529\n"
     ]
    },
    {
     "data": {
      "image/png": "[encoded data removed]",
      "text/plain": [
       "<Figure size 432x288 with 2 Axes>"
      ]
     },
     "metadata": {
      "needs_background": "light"
     },
     "output_type": "display_data"
    }
   ],
   "source": [
    "#Under Sampling\n",
    "\n",
    "random_train = np.random.normal(0,.1,size=x_train.shape) +  x_train\n",
    "x_train_res = np.concatenate([x_train,random_train],axis=0)\n",
    "y_train_res = np.concatenate([y_train,y_train],axis=0)\n",
    "\n",
    "\n",
    "#Normalize data\n",
    "scalar = StandardScaler()\n",
    "scalar_x_train = scalar.fit_transform(x_train_res)\n",
    "scalar_x_test = scalar.transform(x_test)\n",
    "\n",
    "#fit svm\n",
    "svm_clf = svm.SVC()\n",
    "svm_clf.fit(scalar_x_train,y_train_res)\n",
    "\n",
    "#check initial accuracy\n",
    "acc_train = svm_clf.score(scalar_x_train,y_train_res)\n",
    "acc_test = svm_clf.score(scalar_x_test,y_test)\n",
    "print(acc_train,acc_test)\n",
    "\n",
    "y_pred = svm_clf.predict(scalar_x_test)\n",
    "print(\" \")\n",
    "print(\"Train Accuracy: {},\\tTest Accuracy: {}\".format(acc_train,acc_test))\n",
    "print(\"F1 Score: {},\\tPrecision  Score: {},\\tRecall Score: {}\".format( f1_score(y_test, y_pred), precision_score(y_test, y_pred), recall_score(y_test, y_pred) ) )\n",
    "\n",
    "conf=ConfusionMatrixDisplay.from_estimator(svm_clf, scalar_x_test, y_test);#, display_labels=labels\n",
    "conf_mat = conf.confusion_matrix\n"
   ]
  },
  {
   "cell_type": "markdown",
   "metadata": {},
   "source": [
    "## Gradient Boost"
   ]
  },
  {
   "cell_type": "code",
   "execution_count": null,
   "metadata": {},
   "outputs": [
    {
     "name": "stdout",
     "output_type": "stream",
     "text": [
      "1.0 0.8032786885245902\n"
     ]
    },
    {
     "data": {
      "image/png": "[encoded data removed]",
      "text/plain": [
       "<Figure size 432x288 with 2 Axes>"
      ]
     },
     "metadata": {
      "needs_background": "light"
     },
     "output_type": "display_data"
    }
   ],
   "source": [
    "#fit gdb\n",
    "gdb_clf = GradientBoostingClassifier()\n",
    "gdb_clf.fit(x_train,y_train)\n",
    "\n",
    "#check initial accuracy\n",
    "acc_train = gdb_clf.score(x_train,y_train)\n",
    "acc_test = gdb_clf.score(x_test,y_test)\n",
    "print(acc_train,acc_test)\n",
    "\n",
    "conf=ConfusionMatrixDisplay.from_estimator(gdb_clf, x_test, y_test);#, display_labels=labels\n",
    "conf_mat = conf.confusion_matrix"
   ]
  },
  {
   "cell_type": "code",
   "execution_count": null,
   "metadata": {},
   "outputs": [
    {
     "name": "stdout",
     "output_type": "stream",
     "text": [
      "1.0 0.8852459016393442\n"
     ]
    },
    {
     "data": {
      "image/png": "[encoded data removed]",
      "text/plain": [
       "<Figure size 432x288 with 2 Axes>"
      ]
     },
     "metadata": {
      "needs_background": "light"
     },
     "output_type": "display_data"
    }
   ],
   "source": [
    "#fit gdb\n",
    "gdb_clf = RandomForestClassifier()\n",
    "gdb_clf.fit(x_train,y_train)\n",
    "\n",
    "#check initial accuracy\n",
    "acc_train = gdb_clf.score(x_train,y_train)\n",
    "acc_test = gdb_clf.score(x_test,y_test)\n",
    "print(acc_train,acc_test)\n",
    "\n",
    "conf=ConfusionMatrixDisplay.from_estimator(gdb_clf, x_test, y_test);#, display_labels=labels\n",
    "conf_mat = conf.confusion_matrix"
   ]
  },
  {
   "cell_type": "code",
   "execution_count": null,
   "metadata": {},
   "outputs": [
    {
     "name": "stdout",
     "output_type": "stream",
     "text": [
      "1.0 0.8360655737704918\n"
     ]
    },
    {
     "data": {
      "image/png": "[encoded data removed]",
      "text/plain": [
       "<Figure size 432x288 with 2 Axes>"
      ]
     },
     "metadata": {
      "needs_background": "light"
     },
     "output_type": "display_data"
    }
   ],
   "source": [
    "sm = SMOTE(random_state=12)\n",
    "newx_col = x_train[:,3]-x_train[:,4]\n",
    "newx_test_col = x_test[:,3]-x_test[:,4]\n",
    "\n",
    "new_x_test = np.concatenate((x_test,newx_test_col.reshape(-1,1)),axis=1)\n",
    "\n",
    "nx_train = np.concatenate((x_train,newx_col.reshape(-1,1)),axis=1)\n",
    "\n",
    "x_train_res, y_train_res = sm.fit_resample(nx_train, y_train)\n",
    "\n",
    "#fit gdb\n",
    "gdb_clf = RandomForestClassifier()\n",
    "gdb_clf.fit(x_train_res,y_train_res)\n",
    "\n",
    "#check initial accuracy\n",
    "acc_train = gdb_clf.score(x_train_res,y_train_res)\n",
    "acc_test = gdb_clf.score(new_x_test,y_test)\n",
    "print(acc_train,acc_test)\n",
    "\n",
    "conf=ConfusionMatrixDisplay.from_estimator(gdb_clf, new_x_test, y_test);#, display_labels=labels\n",
    "conf_mat = conf.confusion_matrix"
   ]
  },
  {
   "cell_type": "code",
   "execution_count": null,
   "metadata": {},
   "outputs": [],
   "source": [
    "pca = PCA(n_components=2)\n",
    "x_train_pca = pca.fit_transform(x_train)\n",
    "x_test_pca = pca.transform(x_test)\n"
   ]
  },
  {
   "cell_type": "code",
   "execution_count": null,
   "metadata": {},
   "outputs": [
    {
     "name": "stdout",
     "output_type": "stream",
     "text": [
      "1.0 0.7049180327868853\n"
     ]
    },
    {
     "data": {
      "image/png": "[encoded data removed]",
      "text/plain": [
       "<Figure size 432x288 with 2 Axes>"
      ]
     },
     "metadata": {
      "needs_background": "light"
     },
     "output_type": "display_data"
    }
   ],
   "source": [
    "\n",
    "#fit gdb\n",
    "gdb_clf = RandomForestClassifier()\n",
    "gdb_clf.fit(x_train_pca,y_train)\n",
    "\n",
    "#check initial accuracy\n",
    "acc_train = gdb_clf.score(x_train_pca,y_train)\n",
    "acc_test = gdb_clf.score(x_test_pca,y_test)\n",
    "print(acc_train,acc_test)\n",
    "\n",
    "conf=ConfusionMatrixDisplay.from_estimator(gdb_clf, x_test_pca, y_test);#, display_labels=labels\n",
    "conf_mat = conf.confusion_matrix"
   ]
  },
  {
   "cell_type": "markdown",
   "metadata": {},
   "source": [
    "## Retrain Model"
   ]
  },
  {
   "cell_type": "code",
   "execution_count": null,
   "metadata": {},
   "outputs": [],
   "source": [
    "model = GradientBoostingRegressor(random_state=0)\n",
    "gs = GridSearchCV(model, param_grid, cv=10)\n",
    "gs = gs.fit(x_train, y_train)"
   ]
  },
  {
   "cell_type": "markdown",
   "metadata": {},
   "source": [
    "## Check Accuracy"
   ]
  },
  {
   "cell_type": "code",
   "execution_count": null,
   "metadata": {},
   "outputs": [],
   "source": []
  },
  {
   "cell_type": "markdown",
   "metadata": {},
   "source": [
    "## Choose and Save Best model"
   ]
  },
  {
   "cell_type": "code",
   "execution_count": null,
   "id": "dynamic-service",
   "metadata": {
    "ExecuteTime": {
     "end_time": "2021-07-06T19:46:00.582453Z",
     "start_time": "2021-07-06T19:45:59.979728Z"
    }
   },
   "outputs": [
    {
     "data": {
      "text/plain": [
       "['./data/best_model.joblib']"
      ]
     },
     "execution_count": 146,
     "metadata": {},
     "output_type": "execute_result"
    }
   ],
   "source": [
    "#save model\n",
    "path = './data/best_model.joblib'\n",
    "try:\n",
    "    os.remove(path)\n",
    "except:\n",
    "    pass\n",
    "dump(svm_clf_best, path)\n"
   ]
  },
  {
   "cell_type": "markdown",
   "metadata": {},
   "source": []
  }
 ],
 "metadata": {
  "interpreter": {
   "hash": "83a2f9ca03f55ceb7ba34fffa46dc6dbeecdfd74c901df231d91189a23c4b669"
  },
  "kernelspec": {
   "display_name": "Python 3.8.8 64-bit ('base': conda)",
   "name": "python3"
  },
  "language_info": {
   "codemirror_mode": {
    "name": "ipython",
    "version": 3
   },
   "file_extension": ".py",
   "mimetype": "text/x-python",
   "name": "python",
   "nbconvert_exporter": "python",
   "pygments_lexer": "ipython3",
   "version": "3.8.8"
  },
  "varInspector": {
   "cols": {
    "lenName": 16,
    "lenType": 16,
    "lenVar": 40
   },
   "kernels_config": {
    "python": {
     "delete_cmd_postfix": "",
     "delete_cmd_prefix": "del ",
     "library": "var_list.py",
     "varRefreshCmd": "print(var_dic_list())"
    },
    "r": {
     "delete_cmd_postfix": ") ",
     "delete_cmd_prefix": "rm(",
     "library": "var_list.r",
     "varRefreshCmd": "cat(var_dic_list()) "
    }
   },
   "types_to_exclude": [
    "module",
    "function",
    "builtin_function_or_method",
    "instance",
    "_Feature"
   ],
   "window_display": false
  }
 },
 "nbformat": 4,
 "nbformat_minor": 5
}
