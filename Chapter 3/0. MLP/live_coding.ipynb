{
 "cells": [
  {
   "cell_type": "code",
   "execution_count": 1,
   "metadata": {},
   "outputs": [],
   "source": [
    "import matplotlib.pyplot as plt\n",
    "import numpy as np\n",
    "import pandas as pd"
   ]
  },
  {
   "cell_type": "code",
   "execution_count": 2,
   "metadata": {},
   "outputs": [],
   "source": [
    "data = pd.read_csv(\"data.csv\", header=None)"
   ]
  },
  {
   "cell_type": "code",
   "execution_count": 3,
   "metadata": {},
   "outputs": [
    {
     "data": {
      "text/html": [
       "<div>\n",
       "<style scoped>\n",
       "    .dataframe tbody tr th:only-of-type {\n",
       "        vertical-align: middle;\n",
       "    }\n",
       "\n",
       "    .dataframe tbody tr th {\n",
       "        vertical-align: top;\n",
       "    }\n",
       "\n",
       "    .dataframe thead th {\n",
       "        text-align: right;\n",
       "    }\n",
       "</style>\n",
       "<table border=\"1\" class=\"dataframe\">\n",
       "  <thead>\n",
       "    <tr style=\"text-align: right;\">\n",
       "      <th></th>\n",
       "      <th>0</th>\n",
       "      <th>1</th>\n",
       "      <th>2</th>\n",
       "    </tr>\n",
       "  </thead>\n",
       "  <tbody>\n",
       "    <tr>\n",
       "      <th>0</th>\n",
       "      <td>0.78051</td>\n",
       "      <td>-0.063669</td>\n",
       "      <td>1</td>\n",
       "    </tr>\n",
       "    <tr>\n",
       "      <th>1</th>\n",
       "      <td>0.28774</td>\n",
       "      <td>0.291390</td>\n",
       "      <td>1</td>\n",
       "    </tr>\n",
       "    <tr>\n",
       "      <th>2</th>\n",
       "      <td>0.40714</td>\n",
       "      <td>0.178780</td>\n",
       "      <td>1</td>\n",
       "    </tr>\n",
       "    <tr>\n",
       "      <th>3</th>\n",
       "      <td>0.29230</td>\n",
       "      <td>0.421700</td>\n",
       "      <td>1</td>\n",
       "    </tr>\n",
       "    <tr>\n",
       "      <th>4</th>\n",
       "      <td>0.50922</td>\n",
       "      <td>0.352560</td>\n",
       "      <td>1</td>\n",
       "    </tr>\n",
       "    <tr>\n",
       "      <th>...</th>\n",
       "      <td>...</td>\n",
       "      <td>...</td>\n",
       "      <td>...</td>\n",
       "    </tr>\n",
       "    <tr>\n",
       "      <th>95</th>\n",
       "      <td>0.77029</td>\n",
       "      <td>0.701400</td>\n",
       "      <td>0</td>\n",
       "    </tr>\n",
       "    <tr>\n",
       "      <th>96</th>\n",
       "      <td>0.73156</td>\n",
       "      <td>0.717820</td>\n",
       "      <td>0</td>\n",
       "    </tr>\n",
       "    <tr>\n",
       "      <th>97</th>\n",
       "      <td>0.44556</td>\n",
       "      <td>0.579910</td>\n",
       "      <td>0</td>\n",
       "    </tr>\n",
       "    <tr>\n",
       "      <th>98</th>\n",
       "      <td>0.85275</td>\n",
       "      <td>0.859870</td>\n",
       "      <td>0</td>\n",
       "    </tr>\n",
       "    <tr>\n",
       "      <th>99</th>\n",
       "      <td>0.51912</td>\n",
       "      <td>0.623590</td>\n",
       "      <td>0</td>\n",
       "    </tr>\n",
       "  </tbody>\n",
       "</table>\n",
       "<p>100 rows × 3 columns</p>\n",
       "</div>"
      ],
      "text/plain": [
       "          0         1  2\n",
       "0   0.78051 -0.063669  1\n",
       "1   0.28774  0.291390  1\n",
       "2   0.40714  0.178780  1\n",
       "3   0.29230  0.421700  1\n",
       "4   0.50922  0.352560  1\n",
       "..      ...       ... ..\n",
       "95  0.77029  0.701400  0\n",
       "96  0.73156  0.717820  0\n",
       "97  0.44556  0.579910  0\n",
       "98  0.85275  0.859870  0\n",
       "99  0.51912  0.623590  0\n",
       "\n",
       "[100 rows x 3 columns]"
      ]
     },
     "execution_count": 3,
     "metadata": {},
     "output_type": "execute_result"
    }
   ],
   "source": [
    "data"
   ]
  },
  {
   "cell_type": "code",
   "execution_count": 4,
   "metadata": {},
   "outputs": [],
   "source": [
    "X = np.array(data[[0,1]])"
   ]
  },
  {
   "cell_type": "code",
   "execution_count": 5,
   "metadata": {},
   "outputs": [],
   "source": [
    "y = np.array(data[2])"
   ]
  },
  {
   "cell_type": "code",
   "execution_count": 7,
   "metadata": {},
   "outputs": [
    {
     "data": {
      "image/png": "[encoded data removed]",
      "text/plain": [
       "<Figure size 640x480 with 1 Axes>"
      ]
     },
     "metadata": {},
     "output_type": "display_data"
    }
   ],
   "source": [
    "plt.scatter(X[:,0], X[:,1], c=y)\n",
    "plt.show()"
   ]
  },
  {
   "cell_type": "code",
   "execution_count": 8,
   "metadata": {},
   "outputs": [],
   "source": [
    "def sigmoid(x):\n",
    "    return 1/(1+np.exp(-x))"
   ]
  },
  {
   "cell_type": "code",
   "execution_count": 13,
   "metadata": {},
   "outputs": [],
   "source": [
    "# Probability and score\n",
    "def output_formula(features, weights, bias):\n",
    "    return sigmoid(np.dot(features,weights)+bias)"
   ]
  },
  {
   "cell_type": "code",
   "execution_count": 9,
   "metadata": {},
   "outputs": [],
   "source": [
    "# Cross entropy formula\n",
    "def error_formula(y, output):\n",
    "    return -y*np.log(output) - (1-y)*np.log(1-output)"
   ]
  },
  {
   "cell_type": "code",
   "execution_count": 10,
   "metadata": {},
   "outputs": [],
   "source": [
    "def update_weights(x, y, weights, bias, learning_rate):\n",
    "    output = output_formula(x, weights, bias)\n",
    "    d_error = y - output\n",
    "    weights = weights + learning_rate*d_error*x\n",
    "    bias = bias + learning_rate*d_error\n",
    "    return weights, bias"
   ]
  },
  {
   "cell_type": "code",
   "execution_count": 11,
   "metadata": {},
   "outputs": [
    {
     "data": {
      "text/plain": [
       "(100, 2)"
      ]
     },
     "execution_count": 11,
     "metadata": {},
     "output_type": "execute_result"
    }
   ],
   "source": [
    "X.shape\n"
   ]
  },
  {
   "cell_type": "code",
   "execution_count": 14,
   "metadata": {},
   "outputs": [],
   "source": [
    "weights = np.random.normal(size=X.shape[1])\n",
    "bias = 0\n",
    "out = output_formula(X, weights, bias)\n",
    "loss = error_formula(y, out)"
   ]
  },
  {
   "cell_type": "code",
   "execution_count": 15,
   "metadata": {},
   "outputs": [
    {
     "data": {
      "text/plain": [
       "1.0"
      ]
     },
     "execution_count": 15,
     "metadata": {},
     "output_type": "execute_result"
    }
   ],
   "source": [
    "np.mean(out > 0.5)"
   ]
  },
  {
   "cell_type": "code",
   "execution_count": 16,
   "metadata": {},
   "outputs": [
    {
     "data": {
      "text/plain": [
       "array([0.80033311, 0.66802564, 0.70065542, 0.68679415, 0.75775459,\n",
       "       0.63923321, 0.66836361, 0.72909236, 0.70455628, 0.64042765,\n",
       "       0.52416732, 0.60514008, 0.67312367, 0.74641774, 0.74698857,\n",
       "       0.70914579, 0.73756653, 0.67004708, 0.72911331, 0.69751277,\n",
       "       0.72793707, 0.70462189, 0.76445046, 0.5926375 , 0.81750639,\n",
       "       0.72283361, 0.64959516, 0.61430121, 0.65499739, 0.75997081,\n",
       "       0.64013014, 0.68069133, 0.67207223, 0.77286633, 0.6618361 ,\n",
       "       0.63818873, 0.81799151, 0.72557462, 0.76475342, 0.73909868,\n",
       "       0.71277272, 0.79848712, 0.6590261 , 0.75741037, 0.555333  ,\n",
       "       0.60056165, 0.74895851, 0.69656154, 0.65283843, 0.71427783,\n",
       "       0.83290734, 0.76160355, 0.87545598, 0.83478687, 0.82267579,\n",
       "       0.90759701, 0.86013122, 0.84493353, 0.85638402, 0.85345717,\n",
       "       0.7729666 , 0.8681899 , 0.83251141, 0.83827341, 0.85679446,\n",
       "       0.85139209, 0.81062397, 0.77499928, 0.83596319, 0.87167713,\n",
       "       0.86659625, 0.8356792 , 0.85341406, 0.83235723, 0.82030245,\n",
       "       0.88693395, 0.87413103, 0.83388125, 0.85553237, 0.81803351,\n",
       "       0.81452097, 0.83622084, 0.85031298, 0.81085268, 0.75282555,\n",
       "       0.87069561, 0.808483  , 0.85355313, 0.85654057, 0.85273286,\n",
       "       0.86051089, 0.84820717, 0.85188287, 0.8313897 , 0.85572349,\n",
       "       0.86118182, 0.85372758, 0.76122684, 0.887969  , 0.78915525])"
      ]
     },
     "execution_count": 16,
     "metadata": {},
     "output_type": "execute_result"
    }
   ],
   "source": [
    "out"
   ]
  },
  {
   "cell_type": "code",
   "execution_count": 17,
   "metadata": {},
   "outputs": [
    {
     "data": {
      "text/plain": [
       "0.5"
      ]
     },
     "execution_count": 17,
     "metadata": {},
     "output_type": "execute_result"
    }
   ],
   "source": [
    "np.mean((out > 0.5) == y)"
   ]
  },
  {
   "cell_type": "code",
   "execution_count": 18,
   "metadata": {},
   "outputs": [],
   "source": [
    "from sklearn.model_selection import train_test_split\n",
    "\n",
    "X_train, X_test, y_train, y_test = train_test_split(X, y, test_size=0.3, random_state=42)"
   ]
  },
  {
   "cell_type": "code",
   "execution_count": 19,
   "metadata": {},
   "outputs": [],
   "source": [
    "import time\n",
    "np.random.seed(42)\n",
    "\n",
    "epochs = 1000\n",
    "learning_rate = 0.01\n",
    "\n",
    "def train(train_features, train_targets, test_features, test_targets, epochs, learning_rate):\n",
    "    weights = np.random.normal(size=train_features.shape[1])\n",
    "    bias = 0\n",
    "    errors = []\n",
    "    test_errors = []\n",
    "    for epoch in range(epochs):\n",
    "        for x, y in zip(train_features, train_targets):\n",
    "            output = output_formula(x, weights, bias)\n",
    "            weights, bias = update_weights(x, y, weights, bias, learning_rate)\n",
    "        # at the end of one epoch\n",
    "        out = output_formula(train_features, weights, bias)\n",
    "        loss = np.mean(error_formula(train_targets, out))\n",
    "        errors.append(loss)\n",
    "        out_test = output_formula(test_features, weights, bias)\n",
    "        loss_test = np.mean(error_formula(test_targets, out_test))\n",
    "        test_errors.append(loss_test)\n",
    "        \n",
    "        if epoch % 10 == 0:\n",
    "            print(\"Epoch:\", epoch)\n",
    "            print(\"Train loss\", loss)\n",
    "            predictions = out > 0.5\n",
    "            accuracy = np.mean(predictions == train_targets)\n",
    "            print(\"Train Accuracy\", accuracy)\n",
    "            print(\"Test loss\", loss_test)\n",
    "            predictions = out_test > 0.5\n",
    "            accuracy = np.mean(predictions == test_targets)\n",
    "            print(\"Test Accuracy\", accuracy)\n",
    "        plt.plot(errors)\n",
    "        plt.plot(test_errors)\n",
    "        "
   ]
  },
  {
   "cell_type": "code",
   "execution_count": null,
   "metadata": {},
   "outputs": [],
   "source": [
    "train(X_train, y_train, X_test, y_test, epochs, learning_rate)"
   ]
  }
 ],
 "metadata": {
  "interpreter": {
   "hash": "91d158f5f8f297025a74a3cd5ef2517830248c1bc1ba04635a1f663a868de3a0"
  },
  "kernelspec": {
   "display_name": "Python 3.8.11 64-bit ('shrek': conda)",
   "language": "python",
   "name": "python3"
  },
  "language_info": {
   "codemirror_mode": {
    "name": "ipython",
    "version": 3
   },
   "file_extension": ".py",
   "mimetype": "text/x-python",
   "name": "python",
   "nbconvert_exporter": "python",
   "pygments_lexer": "ipython3",
   "version": "3.8.11"
  },
  "orig_nbformat": 4
 },
 "nbformat": 4,
 "nbformat_minor": 2
}
