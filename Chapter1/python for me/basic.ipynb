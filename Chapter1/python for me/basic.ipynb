{
 "cells": [
  {
   "cell_type": "code",
   "execution_count": 4,
   "metadata": {},
   "outputs": [
    {
     "data": {
      "text/plain": [
       "'3.8.8 (default, Apr 13 2021, 15:08:03) [MSC v.1916 64 bit (AMD64)]'"
      ]
     },
     "execution_count": 4,
     "metadata": {},
     "output_type": "execute_result"
    }
   ],
   "source": [
    "#how to check python version\n",
    "import sys\n",
    "sys.version"
   ]
  },
  {
   "cell_type": "code",
   "execution_count": 7,
   "metadata": {},
   "outputs": [
    {
     "name": "stdout",
     "output_type": "stream",
     "text": [
      "The area of the circle with radius 3.0 is: 28.274333882308138\n"
     ]
    }
   ],
   "source": [
    "#calculation area\n",
    "\n",
    "\n",
    "from math import pi\n",
    "\n",
    "r = float(input(\"The radius is :\"))\n",
    "\n",
    "\n",
    "print (\"The area of the circle with radius \" + str(r) + \" is: \" + str(pi * r**2)) #problem\n"
   ]
  },
  {
   "cell_type": "code",
   "execution_count": 9,
   "metadata": {},
   "outputs": [
    {
     "name": "stdout",
     "output_type": "stream",
     "text": [
      "Last name is :Alam,First name is:SOhan\n"
     ]
    }
   ],
   "source": [
    "#user's first and last name and print them in reverse order\n",
    "\n",
    "f = str(input(\"First name :\"))\n",
    "l = str(input(\"Last name :\"))\n",
    "\n",
    "print(\"Last name is :\" + str(l) + \",\" + \"First name is:\" + str(f))\n"
   ]
  },
  {
   "cell_type": "code",
   "execution_count": 54,
   "metadata": {},
   "outputs": [
    {
     "ename": "ValueError",
     "evalue": "could not convert string to float: '1,2,3'",
     "output_type": "error",
     "traceback": [
      "\u001b[1;31m---------------------------------------------------------------------------\u001b[0m",
      "\u001b[1;31mValueError\u001b[0m                                Traceback (most recent call last)",
      "\u001b[1;32m<ipython-input-54-95cc39503a9e>\u001b[0m in \u001b[0;36m<module>\u001b[1;34m\u001b[0m\n\u001b[0;32m      1\u001b[0m \u001b[1;31m#list and tuples\u001b[0m\u001b[1;33m\u001b[0m\u001b[1;33m\u001b[0m\u001b[1;33m\u001b[0m\u001b[0m\n\u001b[0;32m      2\u001b[0m \u001b[1;33m\u001b[0m\u001b[0m\n\u001b[1;32m----> 3\u001b[1;33m \u001b[0mlist\u001b[0m \u001b[1;33m=\u001b[0m \u001b[0mfloat\u001b[0m\u001b[1;33m(\u001b[0m\u001b[0minput\u001b[0m\u001b[1;33m(\u001b[0m\u001b[1;34m\"Put some value:\"\u001b[0m\u001b[1;33m)\u001b[0m\u001b[1;33m)\u001b[0m \u001b[1;31m#why cannt i use float\u001b[0m\u001b[1;33m\u001b[0m\u001b[1;33m\u001b[0m\u001b[0m\n\u001b[0m\u001b[0;32m      4\u001b[0m \u001b[0ml\u001b[0m \u001b[1;33m=\u001b[0m  \u001b[0mlist\u001b[0m\u001b[1;33m.\u001b[0m\u001b[0msplit\u001b[0m\u001b[1;33m(\u001b[0m\u001b[1;34m\",\"\u001b[0m\u001b[1;33m)\u001b[0m\u001b[1;33m\u001b[0m\u001b[1;33m\u001b[0m\u001b[0m\n\u001b[0;32m      5\u001b[0m \u001b[0mt\u001b[0m \u001b[1;33m=\u001b[0m \u001b[0mtuple\u001b[0m\u001b[1;33m(\u001b[0m\u001b[0ml\u001b[0m\u001b[1;33m)\u001b[0m\u001b[1;33m\u001b[0m\u001b[1;33m\u001b[0m\u001b[0m\n",
      "\u001b[1;31mValueError\u001b[0m: could not convert string to float: '1,2,3'"
     ]
    }
   ],
   "source": [
    "#list and tuples\n",
    "\n",
    "list = float(input(\"Put some value:\")) #why cannt i use float\n",
    "l =  list.split(\",\")\n",
    "t = tuple(l)\n",
    "print(\"list:\" + str(l))\n",
    "print(\"tuple:\" + str(t))\n"
   ]
  },
  {
   "cell_type": "code",
   "execution_count": 14,
   "metadata": {},
   "outputs": [
    {
     "name": "stdout",
     "output_type": "stream",
     "text": [
      "The file extension is:py\n"
     ]
    }
   ],
   "source": [
    "#accept a filename from the user and print the extension of that\n",
    "\n",
    "file =str(input(\"Input a file name:\"))\n",
    "\n",
    "f = file.split(\".\")\n",
    "\n",
    "print(\"The file extension is:\" + str(f[-1]))"
   ]
  },
  {
   "cell_type": "code",
   "execution_count": 16,
   "metadata": {},
   "outputs": [
    {
     "name": "stdout",
     "output_type": "stream",
     "text": [
      "red blue\n"
     ]
    }
   ],
   "source": [
    "#list serial\n",
    "\n",
    "x = [\"red\",\"Yellow\",\"blue\"]\n",
    "print(x[0] +\" \" + x[-1])"
   ]
  },
  {
   "cell_type": "code",
   "execution_count": 55,
   "metadata": {},
   "outputs": [
    {
     "data": {
      "text/plain": [
       "'problem'"
      ]
     },
     "execution_count": 55,
     "metadata": {},
     "output_type": "execute_result"
    }
   ],
   "source": [
    "#docstring will show in output\n",
    "\n",
    "'''problem'''"
   ]
  },
  {
   "cell_type": "code",
   "execution_count": 17,
   "metadata": {},
   "outputs": [
    {
     "name": "stdout",
     "output_type": "stream",
     "text": [
      "     July 1995\n",
      "Mo Tu We Th Fr Sa Su\n",
      "                1  2\n",
      " 3  4  5  6  7  8  9\n",
      "10 11 12 13 14 15 16\n",
      "17 18 19 20 21 22 23\n",
      "24 25 26 27 28 29 30\n",
      "31\n",
      "\n"
     ]
    }
   ],
   "source": [
    "#calender\n",
    "\n",
    "import calendar\n",
    "y = int(input(\"Input the year : \"))\n",
    "m = int(input(\"Input the month : \"))\n",
    "print(calendar.month(y, m))"
   ]
  },
  {
   "cell_type": "code",
   "execution_count": 18,
   "metadata": {},
   "outputs": [
    {
     "name": "stdout",
     "output_type": "stream",
     "text": [
      "9\n"
     ]
    }
   ],
   "source": [
    "#date and time\n",
    "from datetime import date\n",
    "f_date = date(2014, 7, 2)\n",
    "l_date = date(2014, 7, 11)\n",
    "delta = l_date - f_date\n",
    "print(delta.days)\n"
   ]
  },
  {
   "cell_type": "code",
   "execution_count": 25,
   "metadata": {},
   "outputs": [
    {
     "name": "stdout",
     "output_type": "stream",
     "text": [
      "Double the absolute difference26.0\n"
     ]
    }
   ],
   "source": [
    "# Python program to get the difference between a given number and 17, if the number is greater than 17 return double the absolute difference\n",
    "\n",
    "num = float(input(\"Given number:\"))\n",
    "\n",
    "if num < 17 :\n",
    "    print(\"The difference is \" + str(17-num))\n",
    "else:\n",
    "    print(\"Double the absolute difference\" + str((num-17)*2))"
   ]
  },
  {
   "cell_type": "code",
   "execution_count": 26,
   "metadata": {},
   "outputs": [
    {
     "data": {
      "text/plain": [
       "10"
      ]
     },
     "execution_count": 26,
     "metadata": {},
     "output_type": "execute_result"
    }
   ],
   "source": [
    "# Python program to get the difference between a given number and 17, if the number is greater than 17 return double the absolute difference using function\n",
    "\n",
    "def idk(n):\n",
    "    if n < 17:\n",
    "        return 17-n\n",
    "    else:\n",
    "        return (n-17)*2\n",
    "\n",
    "idk(7)"
   ]
  },
  {
   "cell_type": "code",
   "execution_count": 30,
   "metadata": {},
   "outputs": [
    {
     "name": "stdout",
     "output_type": "stream",
     "text": [
      "the number is less than 2000\n"
     ]
    }
   ],
   "source": [
    "#Python program to test whether a number is within 100 of 1000 or 2000\n",
    "\n",
    "def check(n):\n",
    "\n",
    "    if 0 < n < 100:\n",
    "        print(\"the number is less than 100\")\n",
    "    elif 100 < n < 1000:\n",
    "        print(\"the number is less than 1000\")\n",
    "    elif 1000< n < 2000:\n",
    "        print(\"the number is less than 2000\")\n",
    "    else:\n",
    "        print(\"Invalid\")\n",
    "\n",
    "check(1990)"
   ]
  },
  {
   "cell_type": "code",
   "execution_count": 56,
   "metadata": {},
   "outputs": [
    {
     "name": "stdout",
     "output_type": "stream",
     "text": [
      "Is Array is not good\n",
      "IsEmpty\n"
     ]
    }
   ],
   "source": [
    "#Write a Python program to get a new string from a given string where \"Is\" has been added to the front. If the given string already begins with \"Is\" then return the string unchanged\n",
    "\n",
    "def new_string(str):\n",
    "  if len(str) >= 2 and str[:2] == \"Is\": #problem\n",
    "    return str\n",
    "  return \"Is\"+ \" \" + str\n",
    "\n",
    "print(new_string(\"Array is not good\"))\n",
    "print(new_string(\"IsEmpty\"))\n"
   ]
  },
  {
   "cell_type": "code",
   "execution_count": 50,
   "metadata": {},
   "outputs": [
    {
     "name": "stdout",
     "output_type": "stream",
     "text": [
      "even\n"
     ]
    }
   ],
   "source": [
    "# Write a Python program to find whether a given number (accept from the user) is even or odd, print out an appropriate message to the use\n",
    "\n",
    "def eo(n):\n",
    "    x = n % 2\n",
    "    if x > 0:\n",
    "        print(\"the number is odd\")\n",
    "    else:\n",
    "        print(\"even\")\n",
    "eo(10)"
   ]
  },
  {
   "cell_type": "code",
   "execution_count": 51,
   "metadata": {},
   "outputs": [
    {
     "name": "stdout",
     "output_type": "stream",
     "text": [
      "2\n",
      "3\n"
     ]
    }
   ],
   "source": [
    "\n",
    "#Write a Python program to count the number 4 in a given list.\n",
    "\n",
    "def counting(nums):\n",
    "  count = 0  \n",
    "  for num in nums:\n",
    "    if num == 4:\n",
    "      count = count + 1\n",
    "\n",
    "  return count\n",
    "\n",
    "print(counting([1, 4, 6, 7, 4]))\n",
    "print(counting([1, 4, 6, 4, 7, 4]))"
   ]
  },
  {
   "cell_type": "code",
   "execution_count": 59,
   "metadata": {},
   "outputs": [
    {
     "ename": "SyntaxError",
     "evalue": "invalid syntax (<ipython-input-59-e5d29edf3c18>, line 2)",
     "output_type": "error",
     "traceback": [
      "\u001b[1;36m  File \u001b[1;32m\"<ipython-input-59-e5d29edf3c18>\"\u001b[1;36m, line \u001b[1;32m2\u001b[0m\n\u001b[1;33m    print((i-) * '#')\u001b[0m\n\u001b[1;37m             ^\u001b[0m\n\u001b[1;31mSyntaxError\u001b[0m\u001b[1;31m:\u001b[0m invalid syntax\n"
     ]
    }
   ],
   "source": [
    "for i in range (10):\n",
    "    print((i-) * '#')"
   ]
  },
  {
   "cell_type": "code",
   "execution_count": null,
   "metadata": {},
   "outputs": [],
   "source": []
  },
  {
   "cell_type": "code",
   "execution_count": null,
   "metadata": {},
   "outputs": [],
   "source": []
  },
  {
   "cell_type": "code",
   "execution_count": null,
   "metadata": {},
   "outputs": [],
   "source": []
  },
  {
   "cell_type": "code",
   "execution_count": null,
   "metadata": {},
   "outputs": [],
   "source": []
  },
  {
   "cell_type": "code",
   "execution_count": null,
   "metadata": {},
   "outputs": [],
   "source": []
  }
 ],
 "metadata": {
  "interpreter": {
   "hash": "83a2f9ca03f55ceb7ba34fffa46dc6dbeecdfd74c901df231d91189a23c4b669"
  },
  "kernelspec": {
   "display_name": "Python 3.8.8 64-bit ('base': conda)",
   "language": "python",
   "name": "python3"
  },
  "language_info": {
   "codemirror_mode": {
    "name": "ipython",
    "version": 3
   },
   "file_extension": ".py",
   "mimetype": "text/x-python",
   "name": "python",
   "nbconvert_exporter": "python",
   "pygments_lexer": "ipython3",
   "version": "3.8.8"
  },
  "orig_nbformat": 4
 },
 "nbformat": 4,
 "nbformat_minor": 2
}
