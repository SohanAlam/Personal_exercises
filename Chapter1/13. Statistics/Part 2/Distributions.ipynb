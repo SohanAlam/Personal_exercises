{
 "cells": [
  {
   "cell_type": "markdown",
   "id": "b83fce88",
   "metadata": {},
   "source": [
    "We have seen that a **random variable** is a variable that has possible values the numerical outcomes of a random phenomenon. \n",
    "\n",
    "Examples of random variables: \n",
    "\n",
    "1. the outcome of tossing a coin,\n",
    "2. the outcome of throwing a die, \n",
    "3. the birthday of a randomly selected person in a room\n",
    "4. the height of a person by randomly selecting one person in a room,\n",
    "5. the weight of a randomly selected person in a room.\n",
    "\n",
    "In the examples above, the first three are examples of a *discrete* random variable, while the last two (4 and 5) are the *continuous* random variables. The difference is that discrete random variables have a finite number of possible outcomes (if you think at tossing a coin: either *head* or *tail*, for the birthday you have 366 possibilities, but still a finite number) while continuous random variable can potentially have an infinite amount of outcomes: in theory, a person can have whatever weight from 0 to infinity! \n",
    "\n",
    "We have also seen that in Math there is this concept of \"functions\", that express relationship between an input and an output. Let's represent it with the following notation:\n",
    "\n",
    "$$f: X \\longrightarrow Y$$\n",
    "\n",
    "where X is the set containing all the inputs, Y is the set containing all the outputs.\n",
    "\n",
    "Do you remember what is a sample space? It is the set of all the possible outcome a random variable can take.\n",
    "\n",
    "Do you remember what is an event? It is one or more of the possible outcomes a random variable can have. \n",
    "\n",
    "Do you remember what is the probability of an event? It is how likely a certain event is, between 0 and 1. \n",
    "\n",
    "Well, it would be nice to have a *function* that send an event to its probability, so that goes from the *sample space* to the interval \\[0, 1\\].\n",
    "\n",
    "That function is called **Probability distribution**.\n",
    "\n",
    "$$f:S\\longrightarrow [0,1]$$\n",
    "that given a certain $x$ (value of the sample space) associate the probability of a certain random variable $X$ to be that value:\n",
    "$$ x \\rightarrow P(X=x)$$\n",
    "\n",
    "Ok, too mathy jargon. Let's do an example with throwing a die. There, the random variable $X$ is \"the outcome of throwing a die\". Let's pick a possible value $x$ in the sample space of $X$. Which are the suitable ones? Well, 1, 2, 3, 4, 5 and 6. Ok, let's pick 3. This means, we are giving to $x$ the value 3. So the probability distribution will give us $P(X=3)$, that is the probability that $X=3$, where $X$ is \"the outcome of throwing a die\". Don't make confusion with $X$ and $x$! $X$ is the random variable (\"the outcome of throwing a die\") while $x$ is one of the potential values a die can take (between 1 and 6).\n",
    "\n",
    "Then don't get confused by probability and probability distributions: we compute the probability of *an event* (for example $X=3$, or in another words \"the outcome of throwing a die is 3\") while the probability distribution is the function that assign a probability to a generic, among the possible, events! Not a specific one. This is why we say $P(X=x)$ and not $P(X=2)$ or $P(X=3)$, because we consider a *generic* outcome $x$. "
   ]
  },
  {
   "cell_type": "markdown",
   "id": "b9c02c5a",
   "metadata": {},
   "source": [
    "Now that we have defined a *probability distribution* as a *function*, we can... plot it!\n",
    "\n",
    "So what do we have on the x-axis? All the possible values from the sample space. \n",
    "\n",
    "So what do we have on the y-axis? All the possible probabilities, so the numbers between 0 and 1. So the plot will have as points the couples\n",
    "\n",
    "(possible_outcome_of_the_random_variable, probability_that_the_random_variable_has_actually_that_possible_outcome_that_I've_drawn_on_the_x-axis)\n",
    "\n",
    ".\n",
    "\n",
    "Let's start with the random variable \"tossing a coin\". We have two possible events, each of them will have $\\frac{1}{2}$ probability. So the plot is pretty straightforward and it can be represented by a bar chart:"
   ]
  },
  {
   "cell_type": "code",
   "execution_count": 2,
   "id": "7ea26c15",
   "metadata": {
    "ExecuteTime": {
     "end_time": "2021-07-22T05:49:58.737359Z",
     "start_time": "2021-07-22T05:49:58.451829Z"
    }
   },
   "outputs": [],
   "source": [
    "import matplotlib.pyplot as plt"
   ]
  },
  {
   "cell_type": "code",
   "execution_count": 3,
   "id": "ac69fccf",
   "metadata": {
    "ExecuteTime": {
     "end_time": "2021-07-22T05:49:58.843907Z",
     "start_time": "2021-07-22T05:49:58.744829Z"
    }
   },
   "outputs": [
    {
     "data": {
      "text/plain": [
       "<BarContainer object of 2 artists>"
      ]
     },
     "execution_count": 3,
     "metadata": {},
     "output_type": "execute_result"
    },
    {
     "data": {
      "image/png": "[encoded data removed]",
      "text/plain": [
       "<Figure size 432x288 with 1 Axes>"
      ]
     },
     "metadata": {
      "needs_background": "light"
     },
     "output_type": "display_data"
    }
   ],
   "source": [
    "x = [\"T\", \"H\"]\n",
    "y = [1/2, 1/2]\n",
    "\n",
    "plt.bar(x=x, height=y)"
   ]
  },
  {
   "cell_type": "markdown",
   "id": "e66057b8",
   "metadata": {},
   "source": [
    "Not so interesting! Same thing for throwing a die:"
   ]
  },
  {
   "cell_type": "code",
   "execution_count": 4,
   "id": "5740c80e",
   "metadata": {
    "ExecuteTime": {
     "end_time": "2021-07-22T05:49:58.928938Z",
     "start_time": "2021-07-22T05:49:58.851275Z"
    }
   },
   "outputs": [
    {
     "data": {
      "text/plain": [
       "<BarContainer object of 6 artists>"
      ]
     },
     "execution_count": 4,
     "metadata": {},
     "output_type": "execute_result"
    },
    {
     "data": {
      "image/png": "[encoded data removed]",
      "text/plain": [
       "<Figure size 432x288 with 1 Axes>"
      ]
     },
     "metadata": {
      "needs_background": "light"
     },
     "output_type": "display_data"
    }
   ],
   "source": [
    "x = range(1,7)\n",
    "y = [1/6]*6\n",
    "\n",
    "plt.bar(x=x, height=y)"
   ]
  },
  {
   "cell_type": "markdown",
   "id": "82984f0f",
   "metadata": {},
   "source": [
    "We can generalize for whatever discrete outcome from a discrete uniform distribution:"
   ]
  },
  {
   "cell_type": "code",
   "execution_count": 5,
   "id": "3496d115",
   "metadata": {
    "ExecuteTime": {
     "end_time": "2021-07-22T05:49:59.250646Z",
     "start_time": "2021-07-22T05:49:58.935924Z"
    }
   },
   "outputs": [
    {
     "data": {
      "text/plain": [
       "<BarContainer object of 364 artists>"
      ]
     },
     "execution_count": 5,
     "metadata": {},
     "output_type": "execute_result"
    },
    {
     "data": {
      "image/png": "[encoded data removed]",
      "text/plain": [
       "<Figure size 432x288 with 1 Axes>"
      ]
     },
     "metadata": {
      "needs_background": "light"
     },
     "output_type": "display_data"
    }
   ],
   "source": [
    "N = 366\n",
    "\n",
    "x = range(1,365)\n",
    "y = [1/len(x)]*len(x)\n",
    "\n",
    "plt.bar(x=x, height=y)"
   ]
  },
  {
   "cell_type": "markdown",
   "id": "322f0530",
   "metadata": {},
   "source": [
    "The above chart represent the probability of being born a specific day of the year (counting the year as 366 days equally probable. Not so true, since the 29th of February is less luckily, but forgive my laziness and take it for good.).\n",
    "\n"
   ]
  },
  {
   "cell_type": "markdown",
   "id": "b4b41f1b",
   "metadata": {},
   "source": [
    "What if we want to sample a number between 0 and 1? Just randomly! Let's say that all the points are equally likely. How do you reason? Ok, let's follow the same reasoning of before:\n",
    "\n",
    "- Each point is equally likely, so each point has probability 1/(amount of possible outcomes)\n",
    "- How many possible outcomes do we have in the interval \\[0,1\\]? Well... infinity! 0, 0.1, 0.001, 0.0001, 0.00001... Should I continue?\n",
    "- What is the result of $\\frac{1}{\\infty}$? 0!\n",
    "- So all the points have probability 0. Are they impossible? I'm confused...\n",
    "\n",
    "Well, don't worry, you're just measuring the wrong way! Instead of *counting* the possible outcomes, let's *measure* them in another way: as the area under the curve given by the function:\n",
    "\n",
    "$$f(x) = \\frac{1}{b-a}$$ if $a\\le x\\le b$ and $$f(x)=0$$ otherwise.\n",
    "\n",
    "In fact, this function looks like this:\n",
    "\n",
    "![image](https://res.cloudinary.com/dyd911kmh/image/upload/c_scale,f_auto,q_auto:best,w_400/v1620756662/visualize-uniform-distribution_kpf2hb.png)\n",
    "\n",
    "where a and b are the extreme of the interval, that in our example is between 0 and 1, so a=0 and b=1.\n",
    "\n",
    "That function is called **probability density function (PDF)** and the area under the curve is the **probability distribution function** that a certain random variable gives as output a value between a certain range.\n",
    "\n",
    "Let's make an example. I'm at the bus stop, and I know that the next bus can arrive anytime from now to 15 minutes from now. How likely is that it arrives in five minutes?\n",
    "\n",
    "Here the random variable is:\n",
    "\n",
    "$X$: the arrival time of the bus in minutes from now\n",
    "\n",
    "The a and b here are 0 and 15 minutes, that is my sample space. I want to know the probability of getting a number between 0 and 5 if I sample a number between 0 and 15.\n",
    "\n",
    "This will be given by the area under the curve of the function defined above. But if you look at the plot, it's like computing the area of the rectangle under the curve with base \\[0, 5\\] and height $\\frac{1}{15}$. So the formula is $(5-0)\\times\\frac{1}{15}=\\frac{1}{3}$.\n",
    "\n",
    "It makes sense, isn't it? 5 minutes are just one third of the total 15 minutes of the possible arrival of the bus.\n",
    "\n",
    "Let's generate some experiments: let's try to randomly sample data points between 0 and 15 and let's count how many of them are actually between 0 a 5:"
   ]
  },
  {
   "cell_type": "code",
   "execution_count": 6,
   "id": "68edb0f9",
   "metadata": {
    "ExecuteTime": {
     "end_time": "2021-07-22T05:49:59.261892Z",
     "start_time": "2021-07-22T05:49:59.258027Z"
    }
   },
   "outputs": [],
   "source": [
    "experiments = np.random.uniform(0,15, size=[1000])"
   ]
  },
  {
   "cell_type": "code",
   "execution_count": 7,
   "id": "49056883",
   "metadata": {
    "ExecuteTime": {
     "end_time": "2021-07-22T05:49:59.283372Z",
     "start_time": "2021-07-22T05:49:59.280975Z"
    },
    "scrolled": false
   },
   "outputs": [
    {
     "name": "stdout",
     "output_type": "stream",
     "text": [
      "Shape: (1000,)\n",
      "Min: 0.02128550974328347\n",
      "Max: 14.976656709106223\n"
     ]
    }
   ],
   "source": [
    "print(\"Shape:\", experiments.shape)\n",
    "print(\"Min:\", experiments.min())\n",
    "print(\"Max:\", experiments.max())"
   ]
  },
  {
   "cell_type": "markdown",
   "id": "c0be1386",
   "metadata": {},
   "source": [
    "We have obtained around 1000 points between 0.0163 and 14.99. Let's count how many of them are between 0 and 5:"
   ]
  },
  {
   "cell_type": "code",
   "execution_count": 8,
   "id": "cef80fbb",
   "metadata": {
    "ExecuteTime": {
     "end_time": "2021-07-22T05:49:59.318071Z",
     "start_time": "2021-07-22T05:49:59.316196Z"
    }
   },
   "outputs": [],
   "source": [
    "between_zero_and_five = (experiments<=5).sum()"
   ]
  },
  {
   "cell_type": "code",
   "execution_count": 9,
   "id": "7bdfdecd",
   "metadata": {
    "ExecuteTime": {
     "end_time": "2021-07-22T05:49:59.524355Z",
     "start_time": "2021-07-22T05:49:59.518834Z"
    }
   },
   "outputs": [
    {
     "name": "stdout",
     "output_type": "stream",
     "text": [
      "There are are 327 values between zero and five, that is 32.7 percent of the total!\n"
     ]
    }
   ],
   "source": [
    "print(f\"There are are {between_zero_and_five} values between zero and five, that is {between_zero_and_five*100/len(experiments)} percent of the total!\")"
   ]
  },
  {
   "cell_type": "markdown",
   "id": "0fe14871",
   "metadata": {},
   "source": [
    "Very close to our predicted 1/3! The more points we take, the closer you would become to the prediction:"
   ]
  },
  {
   "cell_type": "code",
   "execution_count": 10,
   "id": "ea106d42",
   "metadata": {
    "ExecuteTime": {
     "end_time": "2021-07-22T05:49:59.972653Z",
     "start_time": "2021-07-22T05:49:59.961966Z"
    }
   },
   "outputs": [
    {
     "name": "stdout",
     "output_type": "stream",
     "text": [
      "Shape: (10000,)\n",
      "Min: 0.014421341117655806\n",
      "Max: 14.996147838361003\n",
      "There are are 3321 values between zero and five, that is 33.21 percent of the total!\n"
     ]
    }
   ],
   "source": [
    "experiments = np.random.uniform(0,15, size=[10000])\n",
    "print(\"Shape:\", experiments.shape)\n",
    "print(\"Min:\", experiments.min())\n",
    "print(\"Max:\", experiments.max())\n",
    "between_zero_and_five = (experiments<=5).sum()\n",
    "print(f\"There are are {between_zero_and_five} values between zero and five, that is {between_zero_and_five*100/len(experiments)} percent of the total!\")"
   ]
  },
  {
   "cell_type": "markdown",
   "id": "87037787",
   "metadata": {},
   "source": [
    "We can use `seaborn`'s `distplot` method to plot the histogram of the distribution"
   ]
  },
  {
   "cell_type": "code",
   "execution_count": 11,
   "id": "ad689f7a",
   "metadata": {
    "ExecuteTime": {
     "end_time": "2021-07-22T05:50:01.369015Z",
     "start_time": "2021-07-22T05:50:00.312276Z"
    }
   },
   "outputs": [],
   "source": [
    "import seaborn as sns"
   ]
  },
  {
   "cell_type": "code",
   "execution_count": 12,
   "id": "19ec81f3",
   "metadata": {
    "ExecuteTime": {
     "end_time": "2021-07-22T05:50:01.586030Z",
     "start_time": "2021-07-22T05:50:01.377282Z"
    }
   },
   "outputs": [
    {
     "name": "stderr",
     "output_type": "stream",
     "text": [
      "/opt/homebrew/anaconda3/envs/condaenv/lib/python3.9/site-packages/seaborn/distributions.py:2557: FutureWarning: `distplot` is a deprecated function and will be removed in a future version. Please adapt your code to use either `displot` (a figure-level function with similar flexibility) or `histplot` (an axes-level function for histograms).\n",
      "  warnings.warn(msg, FutureWarning)\n"
     ]
    },
    {
     "data": {
      "text/plain": [
       "[Text(0.5, 0, 'Uniform Distribution '), Text(0, 0.5, 'Frequency')]"
      ]
     },
     "execution_count": 12,
     "metadata": {},
     "output_type": "execute_result"
    },
    {
     "data": {
      "image/png": "[encoded data removed]",
      "text/plain": [
       "<Figure size 432x288 with 1 Axes>"
      ]
     },
     "metadata": {
      "needs_background": "light"
     },
     "output_type": "display_data"
    }
   ],
   "source": [
    "ax = sns.distplot(experiments,\n",
    "                  bins=100,\n",
    "                  kde=True,\n",
    "                  hist_kws={\"linewidth\": 15,'alpha':0.8})\n",
    "ax.set(xlabel='Uniform Distribution ', ylabel='Frequency')\n"
   ]
  },
  {
   "cell_type": "markdown",
   "id": "96211c32",
   "metadata": {},
   "source": [
    "Ok, nice, what if we extend it to other kind of probabilities? For example, it's not that all the things in life are equally likely. There are ones that are more likely then others: for example, the height of a person in a country. It's more likely that is a person is above the mean of the heights than being far from it.\n",
    "\n",
    "Another example comes from the diabetes dataset:"
   ]
  },
  {
   "cell_type": "code",
   "execution_count": 13,
   "id": "f32aa614",
   "metadata": {
    "ExecuteTime": {
     "end_time": "2021-07-22T05:50:01.605484Z",
     "start_time": "2021-07-22T05:50:01.596991Z"
    }
   },
   "outputs": [],
   "source": [
    "import pandas as pd\n",
    "df = pd.read_csv(\"diabetes.csv\")"
   ]
  },
  {
   "cell_type": "code",
   "execution_count": 14,
   "id": "9011fa75",
   "metadata": {
    "ExecuteTime": {
     "end_time": "2021-07-22T05:50:02.072480Z",
     "start_time": "2021-07-22T05:50:02.042212Z"
    }
   },
   "outputs": [
    {
     "data": {
      "text/html": [
       "<div>\n",
       "<style scoped>\n",
       "    .dataframe tbody tr th:only-of-type {\n",
       "        vertical-align: middle;\n",
       "    }\n",
       "\n",
       "    .dataframe tbody tr th {\n",
       "        vertical-align: top;\n",
       "    }\n",
       "\n",
       "    .dataframe thead th {\n",
       "        text-align: right;\n",
       "    }\n",
       "</style>\n",
       "<table border=\"1\" class=\"dataframe\">\n",
       "  <thead>\n",
       "    <tr style=\"text-align: right;\">\n",
       "      <th></th>\n",
       "      <th>Pregnancies</th>\n",
       "      <th>Glucose</th>\n",
       "      <th>BloodPressure</th>\n",
       "      <th>SkinThickness</th>\n",
       "      <th>Insulin</th>\n",
       "      <th>BMI</th>\n",
       "      <th>DiabetesPedigreeFunction</th>\n",
       "      <th>Age</th>\n",
       "      <th>Outcome</th>\n",
       "    </tr>\n",
       "  </thead>\n",
       "  <tbody>\n",
       "    <tr>\n",
       "      <th>0</th>\n",
       "      <td>6</td>\n",
       "      <td>148</td>\n",
       "      <td>72</td>\n",
       "      <td>35</td>\n",
       "      <td>0</td>\n",
       "      <td>33.6</td>\n",
       "      <td>0.627</td>\n",
       "      <td>50</td>\n",
       "      <td>1</td>\n",
       "    </tr>\n",
       "    <tr>\n",
       "      <th>1</th>\n",
       "      <td>1</td>\n",
       "      <td>85</td>\n",
       "      <td>66</td>\n",
       "      <td>29</td>\n",
       "      <td>0</td>\n",
       "      <td>26.6</td>\n",
       "      <td>0.351</td>\n",
       "      <td>31</td>\n",
       "      <td>0</td>\n",
       "    </tr>\n",
       "    <tr>\n",
       "      <th>2</th>\n",
       "      <td>8</td>\n",
       "      <td>183</td>\n",
       "      <td>64</td>\n",
       "      <td>0</td>\n",
       "      <td>0</td>\n",
       "      <td>23.3</td>\n",
       "      <td>0.672</td>\n",
       "      <td>32</td>\n",
       "      <td>1</td>\n",
       "    </tr>\n",
       "    <tr>\n",
       "      <th>3</th>\n",
       "      <td>1</td>\n",
       "      <td>89</td>\n",
       "      <td>66</td>\n",
       "      <td>23</td>\n",
       "      <td>94</td>\n",
       "      <td>28.1</td>\n",
       "      <td>0.167</td>\n",
       "      <td>21</td>\n",
       "      <td>0</td>\n",
       "    </tr>\n",
       "    <tr>\n",
       "      <th>4</th>\n",
       "      <td>0</td>\n",
       "      <td>137</td>\n",
       "      <td>40</td>\n",
       "      <td>35</td>\n",
       "      <td>168</td>\n",
       "      <td>43.1</td>\n",
       "      <td>2.288</td>\n",
       "      <td>33</td>\n",
       "      <td>1</td>\n",
       "    </tr>\n",
       "    <tr>\n",
       "      <th>...</th>\n",
       "      <td>...</td>\n",
       "      <td>...</td>\n",
       "      <td>...</td>\n",
       "      <td>...</td>\n",
       "      <td>...</td>\n",
       "      <td>...</td>\n",
       "      <td>...</td>\n",
       "      <td>...</td>\n",
       "      <td>...</td>\n",
       "    </tr>\n",
       "    <tr>\n",
       "      <th>763</th>\n",
       "      <td>10</td>\n",
       "      <td>101</td>\n",
       "      <td>76</td>\n",
       "      <td>48</td>\n",
       "      <td>180</td>\n",
       "      <td>32.9</td>\n",
       "      <td>0.171</td>\n",
       "      <td>63</td>\n",
       "      <td>0</td>\n",
       "    </tr>\n",
       "    <tr>\n",
       "      <th>764</th>\n",
       "      <td>2</td>\n",
       "      <td>122</td>\n",
       "      <td>70</td>\n",
       "      <td>27</td>\n",
       "      <td>0</td>\n",
       "      <td>36.8</td>\n",
       "      <td>0.340</td>\n",
       "      <td>27</td>\n",
       "      <td>0</td>\n",
       "    </tr>\n",
       "    <tr>\n",
       "      <th>765</th>\n",
       "      <td>5</td>\n",
       "      <td>121</td>\n",
       "      <td>72</td>\n",
       "      <td>23</td>\n",
       "      <td>112</td>\n",
       "      <td>26.2</td>\n",
       "      <td>0.245</td>\n",
       "      <td>30</td>\n",
       "      <td>0</td>\n",
       "    </tr>\n",
       "    <tr>\n",
       "      <th>766</th>\n",
       "      <td>1</td>\n",
       "      <td>126</td>\n",
       "      <td>60</td>\n",
       "      <td>0</td>\n",
       "      <td>0</td>\n",
       "      <td>30.1</td>\n",
       "      <td>0.349</td>\n",
       "      <td>47</td>\n",
       "      <td>1</td>\n",
       "    </tr>\n",
       "    <tr>\n",
       "      <th>767</th>\n",
       "      <td>1</td>\n",
       "      <td>93</td>\n",
       "      <td>70</td>\n",
       "      <td>31</td>\n",
       "      <td>0</td>\n",
       "      <td>30.4</td>\n",
       "      <td>0.315</td>\n",
       "      <td>23</td>\n",
       "      <td>0</td>\n",
       "    </tr>\n",
       "  </tbody>\n",
       "</table>\n",
       "<p>768 rows × 9 columns</p>\n",
       "</div>"
      ],
      "text/plain": [
       "     Pregnancies  Glucose  BloodPressure  SkinThickness  Insulin   BMI  \\\n",
       "0              6      148             72             35        0  33.6   \n",
       "1              1       85             66             29        0  26.6   \n",
       "2              8      183             64              0        0  23.3   \n",
       "3              1       89             66             23       94  28.1   \n",
       "4              0      137             40             35      168  43.1   \n",
       "..           ...      ...            ...            ...      ...   ...   \n",
       "763           10      101             76             48      180  32.9   \n",
       "764            2      122             70             27        0  36.8   \n",
       "765            5      121             72             23      112  26.2   \n",
       "766            1      126             60              0        0  30.1   \n",
       "767            1       93             70             31        0  30.4   \n",
       "\n",
       "     DiabetesPedigreeFunction  Age  Outcome  \n",
       "0                       0.627   50        1  \n",
       "1                       0.351   31        0  \n",
       "2                       0.672   32        1  \n",
       "3                       0.167   21        0  \n",
       "4                       2.288   33        1  \n",
       "..                        ...  ...      ...  \n",
       "763                     0.171   63        0  \n",
       "764                     0.340   27        0  \n",
       "765                     0.245   30        0  \n",
       "766                     0.349   47        1  \n",
       "767                     0.315   23        0  \n",
       "\n",
       "[768 rows x 9 columns]"
      ]
     },
     "execution_count": 14,
     "metadata": {},
     "output_type": "execute_result"
    }
   ],
   "source": [
    "df"
   ]
  },
  {
   "cell_type": "markdown",
   "id": "ab481b23",
   "metadata": {},
   "source": [
    "If we visualize the histogram of the BMI column, we notice that the values around the mean are much more frequent then the other, and that we have a kind of symmetrical behaviour:"
   ]
  },
  {
   "cell_type": "code",
   "execution_count": 15,
   "id": "a61d64cb",
   "metadata": {
    "ExecuteTime": {
     "end_time": "2021-07-22T05:50:03.185924Z",
     "start_time": "2021-07-22T05:50:03.041643Z"
    }
   },
   "outputs": [
    {
     "data": {
      "text/plain": [
       "<AxesSubplot:>"
      ]
     },
     "execution_count": 15,
     "metadata": {},
     "output_type": "execute_result"
    },
    {
     "data": {
      "image/png": "[encoded data removed]",
      "text/plain": [
       "<Figure size 432x288 with 1 Axes>"
      ]
     },
     "metadata": {
      "needs_background": "light"
     },
     "output_type": "display_data"
    }
   ],
   "source": [
    "df.BMI.hist(bins=50)"
   ]
  },
  {
   "cell_type": "code",
   "execution_count": 16,
   "id": "f099b825",
   "metadata": {
    "ExecuteTime": {
     "end_time": "2021-07-22T05:50:03.784824Z",
     "start_time": "2021-07-22T05:50:03.587525Z"
    }
   },
   "outputs": [
    {
     "name": "stderr",
     "output_type": "stream",
     "text": [
      "/opt/homebrew/anaconda3/envs/condaenv/lib/python3.9/site-packages/seaborn/distributions.py:2557: FutureWarning: `distplot` is a deprecated function and will be removed in a future version. Please adapt your code to use either `displot` (a figure-level function with similar flexibility) or `histplot` (an axes-level function for histograms).\n",
      "  warnings.warn(msg, FutureWarning)\n"
     ]
    },
    {
     "data": {
      "text/plain": [
       "[Text(0.5, 0, 'Uniform Distribution '), Text(0, 0.5, 'Frequency')]"
      ]
     },
     "execution_count": 16,
     "metadata": {},
     "output_type": "execute_result"
    },
    {
     "data": {
      "image/png": "[encoded data removed]",
      "text/plain": [
       "<Figure size 432x288 with 1 Axes>"
      ]
     },
     "metadata": {
      "needs_background": "light"
     },
     "output_type": "display_data"
    }
   ],
   "source": [
    "ax = sns.distplot(df.BMI,\n",
    "                  bins=100,\n",
    "                  kde=True,\n",
    "                  hist_kws={\"linewidth\": 15,'alpha':0.8})\n",
    "ax.set(xlabel='Uniform Distribution ', ylabel='Frequency')\n"
   ]
  },
  {
   "cell_type": "markdown",
   "id": "68bafc92",
   "metadata": {},
   "source": [
    "This is similar to what we define a *Normal Distribution* of the data! For these kind of events, we define the *probability density function* as:\n",
    "\n",
    "$$f(x) = \\frac{1}{\\sqrt{2\\pi\\sigma^{2}}}e^{-\\frac{(x-\\mu)^{2}}{2\\sigma^{2}}}$$\n",
    "\n",
    "What The Fu...nction??\n",
    "\n",
    "Chill. It's just a bell. Let's give a meaning to all the letters you see in the formula:\n",
    "\n",
    "- $x$ is a possible outcome of a random variable, like the *height of a person*\n",
    "- $\\mu$ is the mean of the data\n",
    "- $\\sigma$ is the standard deviation of the data\n",
    "- $e$ is a constant value\n",
    "- $\\pi$ is a constant value\n",
    "- $2$ is a number, like the constant values before..............\n",
    "- the dash \"-\" is a minus sign.............\n",
    "\n",
    "This was the probability density function of a normal/gaussian distribution. It helps to answer questions like: what is the probability that, if I sample the height of a person of a class, it will be between this and that height? If I know the mean height of a population and the standard deviation of it, I can compute the probability density function as above, and compute the area under the curve of that interval!\n",
    "\n",
    "Let's see it in practice!\n"
   ]
  },
  {
   "cell_type": "markdown",
   "id": "e9799f8c",
   "metadata": {},
   "source": [
    "Let's say that I know that the average height is 1.80 and the standard deviation is 10 in my country. I want to know what is the probability that my son is between 1.70 and 1.90.\n",
    "\n",
    "Well, I can create the curve:"
   ]
  },
  {
   "cell_type": "code",
   "execution_count": 17,
   "id": "e3c32cd8",
   "metadata": {
    "ExecuteTime": {
     "end_time": "2021-07-22T05:50:05.540954Z",
     "start_time": "2021-07-22T05:50:05.534875Z"
    }
   },
   "outputs": [],
   "source": [
    "x = np.linspace(120, 250, 1000)\n",
    "mean = 180\n",
    "std = 10\n",
    "\n",
    "def normal(x, mean, std):\n",
    "    return 1/np.sqrt(2*np.pi*(std**2))*np.exp(-(x-mean)**2/(2*std**2))"
   ]
  },
  {
   "cell_type": "code",
   "execution_count": 18,
   "id": "1938a008",
   "metadata": {
    "ExecuteTime": {
     "end_time": "2021-07-22T05:50:06.776281Z",
     "start_time": "2021-07-22T05:50:06.665653Z"
    }
   },
   "outputs": [
    {
     "data": {
      "text/plain": [
       "[<matplotlib.lines.Line2D at 0x7fa172fd1fd0>]"
      ]
     },
     "execution_count": 18,
     "metadata": {},
     "output_type": "execute_result"
    },
    {
     "data": {
      "image/png": "[encoded data removed]",
      "text/plain": [
       "<Figure size 432x288 with 1 Axes>"
      ]
     },
     "metadata": {
      "needs_background": "light"
     },
     "output_type": "display_data"
    }
   ],
   "source": [
    "plt.plot(x,normal(x, mean=mean, std=std))"
   ]
  },
  {
   "cell_type": "code",
   "execution_count": 19,
   "id": "a2d7a08f",
   "metadata": {
    "ExecuteTime": {
     "end_time": "2021-07-22T05:50:07.153933Z",
     "start_time": "2021-07-22T05:50:07.147611Z"
    }
   },
   "outputs": [],
   "source": [
    "interval = x[np.logical_and(x>=170, x<=190)]"
   ]
  },
  {
   "cell_type": "code",
   "execution_count": 20,
   "id": "1cd321db",
   "metadata": {
    "ExecuteTime": {
     "end_time": "2021-07-22T05:50:07.613868Z",
     "start_time": "2021-07-22T05:50:07.605327Z"
    }
   },
   "outputs": [
    {
     "data": {
      "text/plain": [
       "(153,)"
      ]
     },
     "execution_count": 20,
     "metadata": {},
     "output_type": "execute_result"
    }
   ],
   "source": [
    "interval.shape"
   ]
  },
  {
   "cell_type": "code",
   "execution_count": 21,
   "id": "a7437d90",
   "metadata": {
    "ExecuteTime": {
     "end_time": "2021-07-22T05:50:08.153478Z",
     "start_time": "2021-07-22T05:50:08.036741Z"
    }
   },
   "outputs": [
    {
     "data": {
      "text/plain": [
       "<matplotlib.collections.PolyCollection at 0x7fa150491250>"
      ]
     },
     "execution_count": 21,
     "metadata": {},
     "output_type": "execute_result"
    },
    {
     "data": {
      "image/png": "[encoded data removed]",
      "text/plain": [
       "<Figure size 432x288 with 1 Axes>"
      ]
     },
     "metadata": {
      "needs_background": "light"
     },
     "output_type": "display_data"
    }
   ],
   "source": [
    "plt.plot(x,normal(x, mean=mean, std=std))\n",
    "plt.fill_between(interval, normal(interval, mean=mean, std=std))"
   ]
  },
  {
   "cell_type": "markdown",
   "id": "968c0bf9",
   "metadata": {},
   "source": [
    "To compute the area under the curve, we could use the integral for example:"
   ]
  },
  {
   "cell_type": "code",
   "execution_count": 22,
   "id": "43212c2c",
   "metadata": {
    "ExecuteTime": {
     "end_time": "2021-07-22T05:50:08.829764Z",
     "start_time": "2021-07-22T05:50:08.817896Z"
    }
   },
   "outputs": [
    {
     "data": {
      "text/plain": [
       "0.6826894921370859"
      ]
     },
     "execution_count": 22,
     "metadata": {},
     "output_type": "execute_result"
    }
   ],
   "source": [
    "from scipy import integrate\n",
    "normal_dist = lambda x: normal(x, mean=mean, std=std)\n",
    "result = integrate.quad(normal_dist, 170, 190)\n",
    "result[0]"
   ]
  },
  {
   "cell_type": "markdown",
   "id": "5fb12c23",
   "metadata": {},
   "source": [
    "68% of probability of it! \n",
    "\n",
    "What if I want to know if he'll be higher than 190?\n",
    "\n"
   ]
  },
  {
   "cell_type": "code",
   "execution_count": 23,
   "id": "8c7eea79",
   "metadata": {
    "ExecuteTime": {
     "end_time": "2021-07-22T05:50:09.633967Z",
     "start_time": "2021-07-22T05:50:09.622570Z"
    }
   },
   "outputs": [
    {
     "data": {
      "text/plain": [
       "0.15865525393145705"
      ]
     },
     "execution_count": 23,
     "metadata": {},
     "output_type": "execute_result"
    }
   ],
   "source": [
    "result = integrate.quad(normal_dist, 190, np.inf)\n",
    "result[0]"
   ]
  },
  {
   "cell_type": "markdown",
   "id": "0467f2f7",
   "metadata": {},
   "source": [
    "Only 16%. I'm 160, it's ok.\n",
    "\n",
    "Ok, now what if I have some data like the diabetes one and I want to compute "
   ]
  },
  {
   "cell_type": "code",
   "execution_count": 24,
   "id": "c5bf18bb",
   "metadata": {
    "ExecuteTime": {
     "end_time": "2021-07-22T05:50:10.735909Z",
     "start_time": "2021-07-22T05:50:10.625452Z"
    }
   },
   "outputs": [
    {
     "data": {
      "text/plain": [
       "[<matplotlib.lines.Line2D at 0x7fa16125e2b0>]"
      ]
     },
     "execution_count": 24,
     "metadata": {},
     "output_type": "execute_result"
    },
    {
     "data": {
      "image/png": "[encoded data removed]",
      "text/plain": [
       "<Figure size 432x288 with 1 Axes>"
      ]
     },
     "metadata": {
      "needs_background": "light"
     },
     "output_type": "display_data"
    }
   ],
   "source": [
    "mean = df.BMI.mean()\n",
    "std = df.BMI.std()\n",
    "x = np.linspace(mean-30, mean+30, 1000)\n",
    "plt.plot(x, normal(x, mean=mean, std=std))"
   ]
  },
  {
   "cell_type": "markdown",
   "id": "5ac27175",
   "metadata": {},
   "source": [
    "What is the probability to have a BMI between 20 and 40? According to our dataset, it's:"
   ]
  },
  {
   "cell_type": "code",
   "execution_count": 25,
   "id": "1a5cfdd0",
   "metadata": {
    "ExecuteTime": {
     "end_time": "2021-07-22T05:50:13.841473Z",
     "start_time": "2021-07-22T05:50:13.830914Z"
    },
    "scrolled": true
   },
   "outputs": [
    {
     "name": "stdout",
     "output_type": "stream",
     "text": [
      "0.84375\n"
     ]
    }
   ],
   "source": [
    "between_20_and_40 = df.BMI[np.logical_and(df.BMI<=40, df.BMI>=20)]\n",
    "probability_between_20_and_40 = len(between_20_and_40)/len(df.BMI)\n",
    "print(probability_between_20_and_40)"
   ]
  },
  {
   "cell_type": "code",
   "execution_count": 26,
   "id": "255451ae",
   "metadata": {
    "ExecuteTime": {
     "end_time": "2021-07-22T05:50:14.230353Z",
     "start_time": "2021-07-22T05:50:14.047960Z"
    }
   },
   "outputs": [
    {
     "data": {
      "text/plain": [
       "<AxesSubplot:>"
      ]
     },
     "execution_count": 26,
     "metadata": {},
     "output_type": "execute_result"
    },
    {
     "data": {
      "image/png": "[encoded data removed]",
      "text/plain": [
       "<Figure size 432x288 with 1 Axes>"
      ]
     },
     "metadata": {
      "needs_background": "light"
     },
     "output_type": "display_data"
    }
   ],
   "source": [
    "df.BMI.hist(bins=100)"
   ]
  },
  {
   "cell_type": "markdown",
   "id": "a19d7fee",
   "metadata": {},
   "source": [
    "Around 84%! What about the bell curve we just build? Let's compute the area under the curve:"
   ]
  },
  {
   "cell_type": "code",
   "execution_count": 27,
   "id": "58cb1899",
   "metadata": {
    "ExecuteTime": {
     "end_time": "2021-07-22T05:50:15.099574Z",
     "start_time": "2021-07-22T05:50:15.090952Z"
    }
   },
   "outputs": [
    {
     "data": {
      "text/plain": [
       "0.780980503122916"
      ]
     },
     "execution_count": 27,
     "metadata": {},
     "output_type": "execute_result"
    }
   ],
   "source": [
    "normal_dist = lambda x: normal(x, mean=mean, std=std)\n",
    "result = integrate.quad(normal_dist, 20, 40)\n",
    "result[0]"
   ]
  },
  {
   "cell_type": "markdown",
   "id": "380fe0e2",
   "metadata": {},
   "source": [
    "78%, close enough!"
   ]
  },
  {
   "cell_type": "markdown",
   "id": "a57de5bc",
   "metadata": {},
   "source": [
    "So far we have seen a general normal/gaussian distribution, that can have any mean and any standard deviation. In case the mean is 0 and the standard deviation is 1, it is called: **standard normal distribution**. We can always standardize the data by subtracting the mean (so that the mean - the mean will be 0) and dividing by the standard deviation (so that the standard deviation divided by the standard deviation gives 1):\n",
    "\n",
    "$$z = \\frac{x-\\mu}{\\sigma}$$\n",
    "\n",
    "If we take the example above:"
   ]
  },
  {
   "cell_type": "code",
   "execution_count": 34,
   "id": "46f7d5bd",
   "metadata": {
    "ExecuteTime": {
     "end_time": "2021-07-22T05:52:30.654463Z",
     "start_time": "2021-07-22T05:52:30.477794Z"
    }
   },
   "outputs": [
    {
     "data": {
      "text/plain": [
       "<AxesSubplot:>"
      ]
     },
     "execution_count": 34,
     "metadata": {},
     "output_type": "execute_result"
    },
    {
     "data": {
      "image/png": "[encoded data removed]",
      "text/plain": [
       "<Figure size 432x288 with 1 Axes>"
      ]
     },
     "metadata": {
      "needs_background": "light"
     },
     "output_type": "display_data"
    }
   ],
   "source": [
    "x = df.BMI\n",
    "mean = df.BMI.mean()\n",
    "std = df.BMI.std()\n",
    "x.hist(bins=100)"
   ]
  },
  {
   "cell_type": "markdown",
   "id": "9c8096e4",
   "metadata": {},
   "source": [
    "we can normalize by doing:"
   ]
  },
  {
   "cell_type": "code",
   "execution_count": 35,
   "id": "a00e5212",
   "metadata": {
    "ExecuteTime": {
     "end_time": "2021-07-22T05:52:55.261697Z",
     "start_time": "2021-07-22T05:52:55.093836Z"
    }
   },
   "outputs": [
    {
     "data": {
      "text/plain": [
       "<AxesSubplot:>"
      ]
     },
     "execution_count": 35,
     "metadata": {},
     "output_type": "execute_result"
    },
    {
     "data": {
      "image/png": "[encoded data removed]",
      "text/plain": [
       "<Figure size 432x288 with 1 Axes>"
      ]
     },
     "metadata": {
      "needs_background": "light"
     },
     "output_type": "display_data"
    }
   ],
   "source": [
    "z = (x-mean)/std\n",
    "z.hist(bins=100)"
   ]
  },
  {
   "cell_type": "markdown",
   "id": "aa5e9905",
   "metadata": {
    "ExecuteTime": {
     "end_time": "2021-07-22T05:51:04.167762Z",
     "start_time": "2021-07-22T05:51:04.063382Z"
    }
   },
   "source": [
    "That you can noticed to be centered in zero this time. If we compute mean and standard deviation from this new distribution we see that:"
   ]
  },
  {
   "cell_type": "code",
   "execution_count": 37,
   "id": "48e25f55",
   "metadata": {
    "ExecuteTime": {
     "end_time": "2021-07-22T05:54:03.463793Z",
     "start_time": "2021-07-22T05:54:03.458984Z"
    }
   },
   "outputs": [
    {
     "name": "stdout",
     "output_type": "stream",
     "text": [
      "Standard mean: 2.9660157431961784e-15\n",
      "Standard std: 1.0000000000000004\n"
     ]
    }
   ],
   "source": [
    "new_mean = z.mean()\n",
    "new_std = z.std()\n",
    "print(\"Standard mean:\", new_mean)\n",
    "print(\"Standard std:\", new_std)"
   ]
  },
  {
   "cell_type": "markdown",
   "id": "e30ceed8",
   "metadata": {
    "ExecuteTime": {
     "end_time": "2021-07-22T05:54:29.038721Z",
     "start_time": "2021-07-22T05:54:29.032034Z"
    }
   },
   "source": [
    "The first number is a very small number (so 0) and the second is around 1."
   ]
  },
  {
   "cell_type": "markdown",
   "id": "d0cad1d1",
   "metadata": {},
   "source": [
    "Let's compare normal curve with different means but fixed std:"
   ]
  },
  {
   "cell_type": "code",
   "execution_count": 41,
   "id": "a46d8970",
   "metadata": {
    "ExecuteTime": {
     "end_time": "2021-07-22T05:58:24.898326Z",
     "start_time": "2021-07-22T05:58:24.709444Z"
    }
   },
   "outputs": [
    {
     "data": {
      "image/png": "[encoded data removed]",
      "text/plain": [
       "<Figure size 432x288 with 1 Axes>"
      ]
     },
     "metadata": {
      "needs_background": "light"
     },
     "output_type": "display_data"
    }
   ],
   "source": [
    "fig, ax = plt.subplots()\n",
    "x = np.linspace(-10,10,100)\n",
    "means = [0.0, 1.0, 2.0, 5.0]\n",
    "for mean in means:\n",
    "    ax.plot(x, normal(x, mean=mean, std=1), label=f\"mean={mean}\")\n",
    "    \n",
    "ax.set_xlabel('x')\n",
    "ax.set_ylabel('PDF(x)')\n",
    "ax.set_title('Normal Distribution')\n",
    "ax.legend(loc='best', frameon=True)\n",
    "ax.set_ylim(0,0.45)\n",
    "ax.grid(True)"
   ]
  },
  {
   "cell_type": "markdown",
   "id": "0a148ac0",
   "metadata": {},
   "source": [
    "And now let's compare normal distributions with same mean but different standard deviations:"
   ]
  },
  {
   "cell_type": "code",
   "execution_count": 43,
   "id": "c504803e",
   "metadata": {
    "ExecuteTime": {
     "end_time": "2021-07-22T05:59:48.295825Z",
     "start_time": "2021-07-22T05:59:48.148545Z"
    }
   },
   "outputs": [
    {
     "data": {
      "image/png": "[encoded data removed]",
      "text/plain": [
       "<Figure size 432x288 with 1 Axes>"
      ]
     },
     "metadata": {
      "needs_background": "light"
     },
     "output_type": "display_data"
    }
   ],
   "source": [
    "fig, ax = plt.subplots()\n",
    "x = np.linspace(-10,10,100)\n",
    "stdvs = [1.0, 2.0, 3.0, 4.0]\n",
    "for std in stdvs:\n",
    "    ax.plot(x, normal(x, mean=0, std=std), label=f\"std={std}\")\n",
    "    \n",
    "ax.set_xlabel('x')\n",
    "ax.set_ylabel('pdf(x)')\n",
    "ax.set_title('Normal Distribution')\n",
    "ax.legend(loc='best', frameon=True)\n",
    "ax.set_ylim(0,0.45)\n",
    "ax.grid(True)"
   ]
  },
  {
   "cell_type": "markdown",
   "id": "caba8004",
   "metadata": {},
   "source": [
    "The bigger the standard deviation, the highest the spread of the data, the shorter (in terms of height) and the wider the curve."
   ]
  },
  {
   "cell_type": "markdown",
   "id": "8c8e9432",
   "metadata": {},
   "source": [
    "To describe the density function (the bell curve plotted above) if a guassian distribution we can say that it is symmetrical, centered at the mean (where also the mode and the median are) and its spread is determined by its standard deviation. The standard deviation ($\\sigma$ in the formula) is also used to divide the curve into intervals that contains a certain percentage of all the points."
   ]
  },
  {
   "cell_type": "markdown",
   "id": "1ca1d2d2",
   "metadata": {},
   "source": [
    "In fact, between the interval $[\\mu -\\sigma, \\mu+\\sigma]$ there are around 68.2% of the data points, between $[\\mu -2\\sigma, \\mu+2\\sigma]$ around 95.4% of the data points and between $[\\mu -3\\sigma, \\mu+3\\sigma]$ there are around 99.6% of the data points! \n",
    "\n",
    "![image](https://upload.wikimedia.org/wikipedia/commons/thumb/8/8c/Standard_deviation_diagram.svg/1200px-Standard_deviation_diagram.svg.png)"
   ]
  },
  {
   "cell_type": "markdown",
   "id": "ec13946f",
   "metadata": {},
   "source": [
    "And this is true for whatever mean and standard deviation!\n",
    "\n",
    "Trying with real data:"
   ]
  },
  {
   "cell_type": "code",
   "execution_count": 53,
   "id": "42224bd1",
   "metadata": {
    "ExecuteTime": {
     "end_time": "2021-07-22T06:20:09.847783Z",
     "start_time": "2021-07-22T06:20:09.834555Z"
    },
    "scrolled": true
   },
   "outputs": [
    {
     "data": {
      "text/plain": [
       "0.7513020833333334"
      ]
     },
     "execution_count": 53,
     "metadata": {},
     "output_type": "execute_result"
    }
   ],
   "source": [
    "mask_sigma = np.logical_and(df.BMI<= (df.BMI.mean() + df.BMI.std()), df.BMI>= (df.BMI.mean() - df.BMI.std()))\n",
    "len(df.BMI[mask_sigma])/len(df)"
   ]
  },
  {
   "cell_type": "markdown",
   "id": "a774dc22",
   "metadata": {
    "ExecuteTime": {
     "end_time": "2021-07-22T06:20:25.776295Z",
     "start_time": "2021-07-22T06:20:25.767034Z"
    }
   },
   "source": [
    "A bit more, because the data are not perfectly normally distributed!"
   ]
  },
  {
   "cell_type": "code",
   "execution_count": 57,
   "id": "c12841ef",
   "metadata": {
    "ExecuteTime": {
     "end_time": "2021-07-22T06:21:26.645198Z",
     "start_time": "2021-07-22T06:21:26.635092Z"
    }
   },
   "outputs": [
    {
     "data": {
      "text/plain": [
       "0.96484375"
      ]
     },
     "execution_count": 57,
     "metadata": {},
     "output_type": "execute_result"
    }
   ],
   "source": [
    "mask_2sigma = np.logical_and(df.BMI<= (df.BMI.mean() + 2*df.BMI.std()), df.BMI>= (df.BMI.mean() - 2*df.BMI.std()))\n",
    "len(df.BMI[mask_2sigma])/len(df)"
   ]
  },
  {
   "cell_type": "code",
   "execution_count": 58,
   "id": "afde6b51",
   "metadata": {
    "ExecuteTime": {
     "end_time": "2021-07-22T06:21:42.982214Z",
     "start_time": "2021-07-22T06:21:42.964493Z"
    }
   },
   "outputs": [
    {
     "data": {
      "text/plain": [
       "0.9817708333333334"
      ]
     },
     "execution_count": 58,
     "metadata": {},
     "output_type": "execute_result"
    }
   ],
   "source": [
    "mask_3sigma = np.logical_and(df.BMI<= (df.BMI.mean() + 3*df.BMI.std()), df.BMI>= (df.BMI.mean() - 3*df.BMI.std()))\n",
    "len(df.BMI[mask_3sigma])/len(df)"
   ]
  },
  {
   "cell_type": "markdown",
   "id": "bd31871b",
   "metadata": {},
   "source": [
    "That's it? Do we have this two distributions only? Well, no. There is plenty of them. However, in most data science problems, we assume that certain features of the data are normally distributed.\n",
    "\n",
    "In fact, there's an important theorem that help us:\n",
    "\n",
    "### Central Limit Theorem\n",
    "\n",
    "This theorem says that certain operations (like the mean, or the sum) on random sampled data, tends to have a normal distribution.\n",
    "\n",
    "What does it mean?\n",
    "\n",
    "Well, imagine you're waiting at the bus station. Even if the bus can arrive between 0 and 15 minutes with equal probability, the *average waiting time* will be normally distributed!\n",
    "\n",
    "Isn't it awesome? \n",
    "\n",
    "Let's make a simulation."
   ]
  },
  {
   "cell_type": "code",
   "execution_count": 59,
   "id": "ca80997b",
   "metadata": {
    "ExecuteTime": {
     "end_time": "2021-07-22T06:26:20.473552Z",
     "start_time": "2021-07-22T06:26:20.463510Z"
    }
   },
   "outputs": [],
   "source": [
    "arrival_times = np.random.uniform(0, 15, 1000)"
   ]
  },
  {
   "cell_type": "markdown",
   "id": "98fafc9e",
   "metadata": {},
   "source": [
    "`arrival_times` contains 1000 points of numbers between 0 and 15, randomly sampled between 0 and 15 with the same probability of each of them. In fact, let's plot the histogram:"
   ]
  },
  {
   "cell_type": "code",
   "execution_count": 60,
   "id": "f884d52a",
   "metadata": {
    "ExecuteTime": {
     "end_time": "2021-07-22T06:27:46.032033Z",
     "start_time": "2021-07-22T06:27:45.896095Z"
    }
   },
   "outputs": [
    {
     "data": {
      "text/plain": [
       "(array([ 95.,  87.,  92., 108.,  99., 112.,  85., 114., 107., 101.]),\n",
       " array([1.35762553e-02, 1.51136205e+00, 3.00914785e+00, 4.50693365e+00,\n",
       "        6.00471945e+00, 7.50250525e+00, 9.00029105e+00, 1.04980769e+01,\n",
       "        1.19958627e+01, 1.34936485e+01, 1.49914343e+01]),\n",
       " <BarContainer object of 10 artists>)"
      ]
     },
     "execution_count": 60,
     "metadata": {},
     "output_type": "execute_result"
    },
    {
     "data": {
      "image/png": "[encoded data removed]",
      "text/plain": [
       "<Figure size 432x288 with 1 Axes>"
      ]
     },
     "metadata": {
      "needs_background": "light"
     },
     "output_type": "display_data"
    }
   ],
   "source": [
    "plt.hist(arrival_times)"
   ]
  },
  {
   "cell_type": "markdown",
   "id": "6e9661bf",
   "metadata": {},
   "source": [
    "There's no particular difference between each of the interval.\n",
    "\n",
    "Ok, now let's say that we generate 1000 points for 300 times, and each time we compute the mean of the points.\n",
    "    \n"
   ]
  },
  {
   "cell_type": "code",
   "execution_count": 64,
   "id": "666ed80b",
   "metadata": {
    "ExecuteTime": {
     "end_time": "2021-07-22T06:32:22.129710Z",
     "start_time": "2021-07-22T06:32:22.103813Z"
    }
   },
   "outputs": [],
   "source": [
    "experiments = 300\n",
    "means = []\n",
    "for experiment in range(experiments):\n",
    "    arrival_times = np.random.uniform(0, 15, 1000)\n",
    "    mean_arrival_time = np.mean(arrival_times)\n",
    "    means.append(mean_arrival_time)"
   ]
  },
  {
   "cell_type": "markdown",
   "id": "f3839d3d",
   "metadata": {},
   "source": [
    "The `means` list contains all the calculated means. Remember that the points were uniformly sampled! Let's see the distributions of the mean:"
   ]
  },
  {
   "cell_type": "code",
   "execution_count": 67,
   "id": "a3bb8446",
   "metadata": {
    "ExecuteTime": {
     "end_time": "2021-07-22T06:32:32.041128Z",
     "start_time": "2021-07-22T06:32:31.876395Z"
    }
   },
   "outputs": [
    {
     "data": {
      "text/plain": [
       "(array([ 1.,  0.,  0.,  0.,  0.,  0.,  1.,  0.,  0.,  1.,  0.,  0.,  0.,\n",
       "         1.,  1.,  3.,  0.,  0.,  2.,  3.,  0.,  5.,  3.,  0.,  5.,  1.,\n",
       "         1.,  2.,  3.,  2.,  2.,  4.,  5.,  2.,  9.,  4.,  2.,  6.,  5.,\n",
       "        12.,  4., 14.,  5.,  9.,  2.,  2.,  9.,  8., 12.,  3.,  8., 11.,\n",
       "        10.,  9.,  7.,  4.,  3.,  4.,  4.,  5.,  6.,  6.,  3., 15.,  4.,\n",
       "         6.,  4.,  2.,  6.,  4.,  2.,  2.,  2.,  0.,  1.,  0.,  3.,  2.,\n",
       "         1.,  2.,  1.,  0.,  2.,  1.,  2.,  0.,  0.,  0.,  1.,  1.,  0.,\n",
       "         0.,  1.,  0.,  0.,  0.,  0.,  0.,  0.,  1.]),\n",
       " array([7.08339055, 7.09208861, 7.10078668, 7.10948475, 7.11818281,\n",
       "        7.12688088, 7.13557895, 7.14427702, 7.15297508, 7.16167315,\n",
       "        7.17037122, 7.17906929, 7.18776735, 7.19646542, 7.20516349,\n",
       "        7.21386155, 7.22255962, 7.23125769, 7.23995576, 7.24865382,\n",
       "        7.25735189, 7.26604996, 7.27474803, 7.28344609, 7.29214416,\n",
       "        7.30084223, 7.30954029, 7.31823836, 7.32693643, 7.3356345 ,\n",
       "        7.34433256, 7.35303063, 7.3617287 , 7.37042676, 7.37912483,\n",
       "        7.3878229 , 7.39652097, 7.40521903, 7.4139171 , 7.42261517,\n",
       "        7.43131324, 7.4400113 , 7.44870937, 7.45740744, 7.4661055 ,\n",
       "        7.47480357, 7.48350164, 7.49219971, 7.50089777, 7.50959584,\n",
       "        7.51829391, 7.52699198, 7.53569004, 7.54438811, 7.55308618,\n",
       "        7.56178424, 7.57048231, 7.57918038, 7.58787845, 7.59657651,\n",
       "        7.60527458, 7.61397265, 7.62267071, 7.63136878, 7.64006685,\n",
       "        7.64876492, 7.65746298, 7.66616105, 7.67485912, 7.68355719,\n",
       "        7.69225525, 7.70095332, 7.70965139, 7.71834945, 7.72704752,\n",
       "        7.73574559, 7.74444366, 7.75314172, 7.76183979, 7.77053786,\n",
       "        7.77923593, 7.78793399, 7.79663206, 7.80533013, 7.81402819,\n",
       "        7.82272626, 7.83142433, 7.8401224 , 7.84882046, 7.85751853,\n",
       "        7.8662166 , 7.87491466, 7.88361273, 7.8923108 , 7.90100887,\n",
       "        7.90970693, 7.918405  , 7.92710307, 7.93580114, 7.9444992 ,\n",
       "        7.95319727]),\n",
       " <BarContainer object of 100 artists>)"
      ]
     },
     "execution_count": 67,
     "metadata": {},
     "output_type": "execute_result"
    },
    {
     "data": {
      "image/png": "[encoded data removed]",
      "text/plain": [
       "<Figure size 432x288 with 1 Axes>"
      ]
     },
     "metadata": {
      "needs_background": "light"
     },
     "output_type": "display_data"
    }
   ],
   "source": [
    "plt.hist(means, bins=100)"
   ]
  },
  {
   "cell_type": "markdown",
   "id": "23629b84",
   "metadata": {},
   "source": [
    "Wow, it looks more a normal distribution! Let's do more experiments!"
   ]
  },
  {
   "cell_type": "code",
   "execution_count": 68,
   "id": "501166ce",
   "metadata": {
    "ExecuteTime": {
     "end_time": "2021-07-22T06:33:14.715222Z",
     "start_time": "2021-07-22T06:33:14.352483Z"
    }
   },
   "outputs": [
    {
     "data": {
      "text/plain": [
       "(array([  5.,   0.,   2.,   2.,   1.,   1.,   1.,   8.,   6.,   4.,   6.,\n",
       "         13.,   9.,  11.,  18.,  27.,  28.,  16.,  35.,  36.,  41.,  55.,\n",
       "         65.,  63.,  85., 113., 103., 122., 155., 146., 153., 185., 182.,\n",
       "        209., 227., 208., 229., 273., 258., 285., 286., 298., 350., 330.,\n",
       "        291., 334., 275., 291., 269., 259., 288., 291., 280., 254., 241.,\n",
       "        221., 205., 195., 187., 178., 133., 133., 123., 115., 100., 115.,\n",
       "         82.,  59.,  56.,  56.,  52.,  46.,  46.,  25.,  26.,  18.,  25.,\n",
       "          9.,  16.,  13.,   4.,  16.,   4.,   2.,   1.,   4.,   3.,   1.,\n",
       "          2.,   1.,   1.,   0.,   1.,   1.,   1.,   0.,   0.,   0.,   0.,\n",
       "          1.]),\n",
       " array([7.02021159, 7.03081321, 7.04141482, 7.05201644, 7.06261806,\n",
       "        7.07321967, 7.08382129, 7.09442291, 7.10502452, 7.11562614,\n",
       "        7.12622776, 7.13682937, 7.14743099, 7.15803261, 7.16863423,\n",
       "        7.17923584, 7.18983746, 7.20043908, 7.21104069, 7.22164231,\n",
       "        7.23224393, 7.24284554, 7.25344716, 7.26404878, 7.27465039,\n",
       "        7.28525201, 7.29585363, 7.30645524, 7.31705686, 7.32765848,\n",
       "        7.33826009, 7.34886171, 7.35946333, 7.37006494, 7.38066656,\n",
       "        7.39126818, 7.4018698 , 7.41247141, 7.42307303, 7.43367465,\n",
       "        7.44427626, 7.45487788, 7.4654795 , 7.47608111, 7.48668273,\n",
       "        7.49728435, 7.50788596, 7.51848758, 7.5290892 , 7.53969081,\n",
       "        7.55029243, 7.56089405, 7.57149566, 7.58209728, 7.5926989 ,\n",
       "        7.60330052, 7.61390213, 7.62450375, 7.63510537, 7.64570698,\n",
       "        7.6563086 , 7.66691022, 7.67751183, 7.68811345, 7.69871507,\n",
       "        7.70931668, 7.7199183 , 7.73051992, 7.74112153, 7.75172315,\n",
       "        7.76232477, 7.77292638, 7.783528  , 7.79412962, 7.80473124,\n",
       "        7.81533285, 7.82593447, 7.83653609, 7.8471377 , 7.85773932,\n",
       "        7.86834094, 7.87894255, 7.88954417, 7.90014579, 7.9107474 ,\n",
       "        7.92134902, 7.93195064, 7.94255225, 7.95315387, 7.96375549,\n",
       "        7.9743571 , 7.98495872, 7.99556034, 8.00616196, 8.01676357,\n",
       "        8.02736519, 8.03796681, 8.04856842, 8.05917004, 8.06977166,\n",
       "        8.08037327]),\n",
       " <BarContainer object of 100 artists>)"
      ]
     },
     "execution_count": 68,
     "metadata": {},
     "output_type": "execute_result"
    },
    {
     "data": {
      "image/png": "[encoded data removed]",
      "text/plain": [
       "<Figure size 432x288 with 1 Axes>"
      ]
     },
     "metadata": {
      "needs_background": "light"
     },
     "output_type": "display_data"
    }
   ],
   "source": [
    "experiments = 10000\n",
    "means = []\n",
    "for experiment in range(experiments):\n",
    "    arrival_times = np.random.uniform(0, 15, 1000)\n",
    "    mean_arrival_time = np.mean(arrival_times)\n",
    "    means.append(mean_arrival_time)\n",
    "\n",
    "plt.hist(means, bins=100)"
   ]
  },
  {
   "cell_type": "markdown",
   "id": "4aa07763",
   "metadata": {},
   "source": [
    "Self explanatory! What about the sum of all the points? Let's do the same:"
   ]
  },
  {
   "cell_type": "code",
   "execution_count": 71,
   "id": "7ab3cf48",
   "metadata": {
    "ExecuteTime": {
     "end_time": "2021-07-22T06:34:35.756720Z",
     "start_time": "2021-07-22T06:34:35.581513Z"
    }
   },
   "outputs": [],
   "source": [
    "experiments = 10000\n",
    "sums = []\n",
    "for experiment in range(experiments):\n",
    "    arrival_times = np.random.uniform(0, 15, 1000)\n",
    "    sum_arrival_time = np.sum(arrival_times)\n",
    "    sums.append(sum_arrival_time)"
   ]
  },
  {
   "cell_type": "code",
   "execution_count": 72,
   "id": "fe39f8e7",
   "metadata": {
    "ExecuteTime": {
     "end_time": "2021-07-22T06:34:36.704492Z",
     "start_time": "2021-07-22T06:34:36.508903Z"
    },
    "scrolled": true
   },
   "outputs": [
    {
     "data": {
      "text/plain": [
       "(array([  2.,   0.,   0.,   0.,   2.,   1.,   1.,   0.,   1.,   2.,   6.,\n",
       "          5.,   7.,   7.,   9.,  15.,  11.,  16.,  22.,  21.,  23.,  30.,\n",
       "         38.,  42.,  45.,  51.,  78.,  62.,  95.,  90., 106., 113., 113.,\n",
       "        145., 145., 164., 176., 192., 206., 232., 223., 263., 226., 261.,\n",
       "        286., 264., 270., 283., 292., 283., 294., 278., 287., 295., 303.,\n",
       "        283., 293., 257., 234., 234., 228., 214., 169., 193., 178., 155.,\n",
       "        151., 132., 123., 109.,  84.,  78.,  81.,  68.,  54.,  39.,  47.,\n",
       "         35.,  25.,  23.,  24.,  16.,  15.,  17.,  12.,  12.,   7.,   7.,\n",
       "          2.,   4.,   3.,   5.,   1.,   2.,   1.,   0.,   0.,   1.,   1.,\n",
       "          1.]),\n",
       " array([6984.26886985, 6994.52834758, 7004.78782531, 7015.04730304,\n",
       "        7025.30678077, 7035.5662585 , 7045.82573623, 7056.08521396,\n",
       "        7066.3446917 , 7076.60416943, 7086.86364716, 7097.12312489,\n",
       "        7107.38260262, 7117.64208035, 7127.90155808, 7138.16103581,\n",
       "        7148.42051354, 7158.67999127, 7168.939469  , 7179.19894673,\n",
       "        7189.45842446, 7199.71790219, 7209.97737992, 7220.23685765,\n",
       "        7230.49633538, 7240.75581311, 7251.01529084, 7261.27476857,\n",
       "        7271.5342463 , 7281.79372403, 7292.05320176, 7302.31267949,\n",
       "        7312.57215722, 7322.83163495, 7333.09111268, 7343.35059041,\n",
       "        7353.61006814, 7363.86954587, 7374.1290236 , 7384.38850133,\n",
       "        7394.64797906, 7404.90745679, 7415.16693452, 7425.42641225,\n",
       "        7435.68588998, 7445.94536771, 7456.20484544, 7466.46432317,\n",
       "        7476.7238009 , 7486.98327863, 7497.24275636, 7507.50223409,\n",
       "        7517.76171182, 7528.02118955, 7538.28066728, 7548.54014501,\n",
       "        7558.79962275, 7569.05910048, 7579.31857821, 7589.57805594,\n",
       "        7599.83753367, 7610.0970114 , 7620.35648913, 7630.61596686,\n",
       "        7640.87544459, 7651.13492232, 7661.39440005, 7671.65387778,\n",
       "        7681.91335551, 7692.17283324, 7702.43231097, 7712.6917887 ,\n",
       "        7722.95126643, 7733.21074416, 7743.47022189, 7753.72969962,\n",
       "        7763.98917735, 7774.24865508, 7784.50813281, 7794.76761054,\n",
       "        7805.02708827, 7815.286566  , 7825.54604373, 7835.80552146,\n",
       "        7846.06499919, 7856.32447692, 7866.58395465, 7876.84343238,\n",
       "        7887.10291011, 7897.36238784, 7907.62186557, 7917.8813433 ,\n",
       "        7928.14082103, 7938.40029876, 7948.65977649, 7958.91925422,\n",
       "        7969.17873195, 7979.43820968, 7989.69768741, 7999.95716514,\n",
       "        8010.21664287]),\n",
       " <BarContainer object of 100 artists>)"
      ]
     },
     "execution_count": 72,
     "metadata": {},
     "output_type": "execute_result"
    },
    {
     "data": {
      "image/png": "[encoded data removed]",
      "text/plain": [
       "<Figure size 432x288 with 1 Axes>"
      ]
     },
     "metadata": {
      "needs_background": "light"
     },
     "output_type": "display_data"
    }
   ],
   "source": [
    "plt.hist(sums, bins=100)"
   ]
  },
  {
   "cell_type": "markdown",
   "id": "7060dd81",
   "metadata": {
    "ExecuteTime": {
     "end_time": "2021-07-22T06:37:06.823996Z",
     "start_time": "2021-07-22T06:37:06.805201Z"
    }
   },
   "source": [
    "Same story! Pretty cool, isn't it?\n",
    "\n",
    "What if I randomly created 2D points?"
   ]
  },
  {
   "cell_type": "code",
   "execution_count": 89,
   "id": "eb2d73a5",
   "metadata": {
    "ExecuteTime": {
     "end_time": "2021-07-22T06:40:51.512479Z",
     "start_time": "2021-07-22T06:40:51.508112Z"
    }
   },
   "outputs": [],
   "source": [
    "points = np.random.uniform(size=[30,2])"
   ]
  },
  {
   "cell_type": "code",
   "execution_count": 90,
   "id": "a4c7ad10",
   "metadata": {
    "ExecuteTime": {
     "end_time": "2021-07-22T06:40:51.741168Z",
     "start_time": "2021-07-22T06:40:51.677129Z"
    },
    "scrolled": true
   },
   "outputs": [
    {
     "data": {
      "text/plain": [
       "<matplotlib.collections.PathCollection at 0x7fa140fbb190>"
      ]
     },
     "execution_count": 90,
     "metadata": {},
     "output_type": "execute_result"
    },
    {
     "data": {
      "image/png": "[encoded data removed]",
      "text/plain": [
       "<Figure size 432x288 with 1 Axes>"
      ]
     },
     "metadata": {
      "needs_background": "light"
     },
     "output_type": "display_data"
    }
   ],
   "source": [
    "plt.scatter(points[:,0], points[:,1])"
   ]
  },
  {
   "cell_type": "markdown",
   "id": "7f4323cc",
   "metadata": {},
   "source": [
    "The mean of these points is:"
   ]
  },
  {
   "cell_type": "code",
   "execution_count": 91,
   "id": "8423008e",
   "metadata": {
    "ExecuteTime": {
     "end_time": "2021-07-22T06:40:52.355049Z",
     "start_time": "2021-07-22T06:40:52.351448Z"
    }
   },
   "outputs": [],
   "source": [
    "mean_point = points.mean(axis=0)"
   ]
  },
  {
   "cell_type": "code",
   "execution_count": 92,
   "id": "91afb5d9",
   "metadata": {
    "ExecuteTime": {
     "end_time": "2021-07-22T06:40:52.676520Z",
     "start_time": "2021-07-22T06:40:52.668128Z"
    }
   },
   "outputs": [
    {
     "data": {
      "text/plain": [
       "array([0.48596309, 0.51354612])"
      ]
     },
     "execution_count": 92,
     "metadata": {},
     "output_type": "execute_result"
    }
   ],
   "source": [
    "mean_point"
   ]
  },
  {
   "cell_type": "code",
   "execution_count": 93,
   "id": "cb0048a2",
   "metadata": {
    "ExecuteTime": {
     "end_time": "2021-07-22T06:40:53.084968Z",
     "start_time": "2021-07-22T06:40:52.983266Z"
    }
   },
   "outputs": [
    {
     "data": {
      "text/plain": [
       "<matplotlib.collections.PathCollection at 0x7fa1410153d0>"
      ]
     },
     "execution_count": 93,
     "metadata": {},
     "output_type": "execute_result"
    },
    {
     "data": {
      "image/png": "[encoded data removed]",
      "text/plain": [
       "<Figure size 432x288 with 1 Axes>"
      ]
     },
     "metadata": {
      "needs_background": "light"
     },
     "output_type": "display_data"
    }
   ],
   "source": [
    "plt.scatter(points[:,0], points[:,1])\n",
    "plt.scatter(mean_point[0], mean_point[1])"
   ]
  },
  {
   "cell_type": "markdown",
   "id": "9c354ba4",
   "metadata": {},
   "source": [
    "What if I run different experiments and sample the mean all the times?"
   ]
  },
  {
   "cell_type": "code",
   "execution_count": 94,
   "id": "337bef3e",
   "metadata": {
    "ExecuteTime": {
     "end_time": "2021-07-22T06:43:18.005044Z",
     "start_time": "2021-07-22T06:43:17.864499Z"
    },
    "scrolled": true
   },
   "outputs": [
    {
     "data": {
      "text/plain": [
       "<matplotlib.collections.PathCollection at 0x7fa17394c2b0>"
      ]
     },
     "execution_count": 94,
     "metadata": {},
     "output_type": "execute_result"
    },
    {
     "data": {
      "image/png": "[encoded data removed]",
      "text/plain": [
       "<Figure size 432x288 with 1 Axes>"
      ]
     },
     "metadata": {
      "needs_background": "light"
     },
     "output_type": "display_data"
    }
   ],
   "source": [
    "experiments = 1000\n",
    "X_means = []\n",
    "Y_means = []\n",
    "for experiment in range(experiments):\n",
    "    points = np.random.uniform(size=[20, 2])\n",
    "    mean_point = points.mean(axis=0)\n",
    "    X_means.append(mean_point[0])\n",
    "    Y_means.append(mean_point[1])\n",
    "    \n",
    "plt.scatter(X_means, Y_means)"
   ]
  },
  {
   "cell_type": "markdown",
   "id": "e3fb0698",
   "metadata": {},
   "source": [
    "This is how a normal distribution looks like in two variables!"
   ]
  },
  {
   "cell_type": "markdown",
   "id": "813af577",
   "metadata": {},
   "source": [
    "\n",
    "\n",
    "## Goal of this part:\n",
    "\n",
    "Build a Streamlit app to run sampling experiements and update plots when you update parameters.\n",
    "\n",
    "I'll give you some ideas, but surprises are always good. \n",
    "\n",
    "- Sampling from different shapes: squares, triangles, circles...\n",
    "- Find some datasets containing normal distributed features (height, weight, IQ...) and show how the distributions vary by changing the amount of individuals in it. \n",
    "- Filter the individuals of different groups (still in an interactive way)\n",
    "\n",
    "Good luck!"
   ]
  },
  {
   "cell_type": "code",
   "execution_count": null,
   "id": "df0f2d29",
   "metadata": {},
   "outputs": [],
   "source": []
  }
 ],
 "metadata": {
  "kernelspec": {
   "display_name": "Python 3",
   "language": "python",
   "name": "python3"
  },
  "language_info": {
   "codemirror_mode": {
    "name": "ipython",
    "version": 3
   },
   "file_extension": ".py",
   "mimetype": "text/x-python",
   "name": "python",
   "nbconvert_exporter": "python",
   "pygments_lexer": "ipython3",
   "version": "3.9.5"
  },
  "varInspector": {
   "cols": {
    "lenName": 16,
    "lenType": 16,
    "lenVar": 40
   },
   "kernels_config": {
    "python": {
     "delete_cmd_postfix": "",
     "delete_cmd_prefix": "del ",
     "library": "var_list.py",
     "varRefreshCmd": "print(var_dic_list())"
    },
    "r": {
     "delete_cmd_postfix": ") ",
     "delete_cmd_prefix": "rm(",
     "library": "var_list.r",
     "varRefreshCmd": "cat(var_dic_list()) "
    }
   },
   "types_to_exclude": [
    "module",
    "function",
    "builtin_function_or_method",
    "instance",
    "_Feature"
   ],
   "window_display": false
  }
 },
 "nbformat": 4,
 "nbformat_minor": 5
}
