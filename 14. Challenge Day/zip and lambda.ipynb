{
 "cells": [
  {
   "cell_type": "markdown",
   "id": "f4cd5bed",
   "metadata": {},
   "source": [
    "## The zip method"
   ]
  },
  {
   "cell_type": "markdown",
   "id": "1e778283",
   "metadata": {},
   "source": [
    "The `zip` method is very useful for Machine Learning or Data Science problem, because it comes handy when you need to iterate over features and labels at the same time.\n",
    "\n",
    "I think it's easier to see it with an example: let's say you have some coordinates, `X`and `y`. If you have only one point, you can think to have something like:"
   ]
  },
  {
   "cell_type": "code",
   "execution_count": 1,
   "id": "c51a0ac7",
   "metadata": {
    "ExecuteTime": {
     "end_time": "2021-07-15T20:11:34.149447Z",
     "start_time": "2021-07-15T20:11:34.143783Z"
    }
   },
   "outputs": [],
   "source": [
    "X = 5\n",
    "y = 1"
   ]
  },
  {
   "cell_type": "markdown",
   "id": "2506bd75",
   "metadata": {},
   "source": [
    "and then to plot it you could do:"
   ]
  },
  {
   "cell_type": "code",
   "execution_count": 3,
   "id": "e69dfe7a",
   "metadata": {
    "ExecuteTime": {
     "end_time": "2021-07-15T20:11:59.928584Z",
     "start_time": "2021-07-15T20:11:59.788993Z"
    }
   },
   "outputs": [
    {
     "data": {
      "text/plain": [
       "<matplotlib.collections.PathCollection at 0x7fe0306d2d90>"
      ]
     },
     "execution_count": 3,
     "metadata": {},
     "output_type": "execute_result"
    },
    {
     "data": {
      "image/png": "[encoded data removed]",
      "text/plain": [
       "<Figure size 432x288 with 1 Axes>"
      ]
     },
     "metadata": {
      "needs_background": "light"
     },
     "output_type": "display_data"
    }
   ],
   "source": [
    "import matplotlib.pyplot as plt\n",
    "\n",
    "plt.scatter(X,y)"
   ]
  },
  {
   "cell_type": "markdown",
   "id": "80219de3",
   "metadata": {},
   "source": [
    "and you get your point. If you have multiple points, they are usually given with all the values of `X` in one list, and the value of the corresponding `y`s in another list, for example:"
   ]
  },
  {
   "cell_type": "code",
   "execution_count": 4,
   "id": "da985583",
   "metadata": {
    "ExecuteTime": {
     "end_time": "2021-07-15T20:15:30.599274Z",
     "start_time": "2021-07-15T20:15:30.488076Z"
    }
   },
   "outputs": [
    {
     "data": {
      "text/plain": [
       "<matplotlib.collections.PathCollection at 0x7fe030803b80>"
      ]
     },
     "execution_count": 4,
     "metadata": {},
     "output_type": "execute_result"
    },
    {
     "data": {
      "image/png": "[encoded data removed]",
      "text/plain": [
       "<Figure size 432x288 with 1 Axes>"
      ]
     },
     "metadata": {
      "needs_background": "light"
     },
     "output_type": "display_data"
    }
   ],
   "source": [
    "X = [0,5,3,2,1,0]\n",
    "y = [1,1,0,2,1,0]\n",
    "\n",
    "plt.scatter(X,y)"
   ]
  },
  {
   "cell_type": "markdown",
   "id": "5a681d7c",
   "metadata": {},
   "source": [
    "To plot a single point, you need to select the $i$-th term of `X` and the $i$-th term of `y`, for example doing something like this to plot the third (index 2, since Python starts from 0) point of the two lists:"
   ]
  },
  {
   "cell_type": "code",
   "execution_count": 7,
   "id": "c7a9c453",
   "metadata": {
    "ExecuteTime": {
     "end_time": "2021-07-15T20:17:52.963953Z",
     "start_time": "2021-07-15T20:17:52.851904Z"
    }
   },
   "outputs": [
    {
     "data": {
      "text/plain": [
       "<matplotlib.collections.PathCollection at 0x7fe022135b50>"
      ]
     },
     "execution_count": 7,
     "metadata": {},
     "output_type": "execute_result"
    },
    {
     "data": {
      "image/png": "[encoded data removed]",
      "text/plain": [
       "<Figure size 432x288 with 1 Axes>"
      ]
     },
     "metadata": {
      "needs_background": "light"
     },
     "output_type": "display_data"
    }
   ],
   "source": [
    "plt.scatter(X[2], y[2])"
   ]
  },
  {
   "cell_type": "markdown",
   "id": "450d46ad",
   "metadata": {},
   "source": [
    "Now, what if you want to get the coordinates iteratively? \n",
    "For example in case you want to plot all the points one after the other, by using a for loop. How can you iterate over two lists at the same time?\n",
    "\n",
    "This is where `zip`comes handy:"
   ]
  },
  {
   "cell_type": "code",
   "execution_count": 8,
   "id": "1b31dcee",
   "metadata": {
    "ExecuteTime": {
     "end_time": "2021-07-15T20:19:16.217606Z",
     "start_time": "2021-07-15T20:19:16.213363Z"
    }
   },
   "outputs": [
    {
     "name": "stdout",
     "output_type": "stream",
     "text": [
      "0 1\n",
      "5 1\n",
      "3 0\n",
      "2 2\n",
      "1 1\n",
      "0 0\n"
     ]
    }
   ],
   "source": [
    "for i, j in zip(X, y):\n",
    "    print(i, j)"
   ]
  },
  {
   "cell_type": "markdown",
   "id": "c260aa22",
   "metadata": {},
   "source": [
    "If you want to inspect what it does:"
   ]
  },
  {
   "cell_type": "code",
   "execution_count": 9,
   "id": "6a1de127",
   "metadata": {
    "ExecuteTime": {
     "end_time": "2021-07-15T20:19:35.882705Z",
     "start_time": "2021-07-15T20:19:35.875404Z"
    }
   },
   "outputs": [
    {
     "data": {
      "text/plain": [
       "[(0, 1), (5, 1), (3, 0), (2, 2), (1, 1), (0, 0)]"
      ]
     },
     "execution_count": 9,
     "metadata": {},
     "output_type": "execute_result"
    }
   ],
   "source": [
    "list(zip(X,y))"
   ]
  },
  {
   "cell_type": "markdown",
   "id": "3d19e8a8",
   "metadata": {},
   "source": [
    "It's basically creating a list with tuples containing the $i$-th value of `X` with the $i$-th value of `y`!"
   ]
  },
  {
   "cell_type": "markdown",
   "id": "f5cfcb3a",
   "metadata": {
    "ExecuteTime": {
     "end_time": "2021-07-15T20:20:35.823233Z",
     "start_time": "2021-07-15T20:20:35.818442Z"
    }
   },
   "source": [
    "You can use zip with multiple lists too:\n",
    "    "
   ]
  },
  {
   "cell_type": "code",
   "execution_count": 11,
   "id": "3d5adbf2",
   "metadata": {
    "ExecuteTime": {
     "end_time": "2021-07-15T20:21:09.626851Z",
     "start_time": "2021-07-15T20:21:09.622142Z"
    }
   },
   "outputs": [],
   "source": [
    "a = [1,2,3,4,5]\n",
    "b = [\"a\", \"b\", \"c\", \"d\", \"e\"]\n",
    "c = [10, 9, 8, 7, 6]"
   ]
  },
  {
   "cell_type": "code",
   "execution_count": 13,
   "id": "ac6a3837",
   "metadata": {
    "ExecuteTime": {
     "end_time": "2021-07-15T20:21:37.625713Z",
     "start_time": "2021-07-15T20:21:37.620994Z"
    }
   },
   "outputs": [
    {
     "name": "stdout",
     "output_type": "stream",
     "text": [
      "1 a 10\n",
      "2 b 9\n",
      "3 c 8\n",
      "4 d 7\n",
      "5 e 6\n"
     ]
    }
   ],
   "source": [
    "for i, j, k in zip(a, b, c):\n",
    "    print(i, j, k)"
   ]
  },
  {
   "cell_type": "code",
   "execution_count": 14,
   "id": "913f1b81",
   "metadata": {
    "ExecuteTime": {
     "end_time": "2021-07-15T20:21:54.738196Z",
     "start_time": "2021-07-15T20:21:54.731940Z"
    }
   },
   "outputs": [
    {
     "data": {
      "text/plain": [
       "[(1, 'a', 10), (2, 'b', 9), (3, 'c', 8), (4, 'd', 7), (5, 'e', 6)]"
      ]
     },
     "execution_count": 14,
     "metadata": {},
     "output_type": "execute_result"
    }
   ],
   "source": [
    "list(zip(a, b, c))"
   ]
  },
  {
   "cell_type": "markdown",
   "id": "11625e22",
   "metadata": {},
   "source": [
    "What if the lists have different lengths? Let's try out:"
   ]
  },
  {
   "cell_type": "code",
   "execution_count": 15,
   "id": "db0936b4",
   "metadata": {
    "ExecuteTime": {
     "end_time": "2021-07-15T20:22:26.485684Z",
     "start_time": "2021-07-15T20:22:26.482034Z"
    }
   },
   "outputs": [],
   "source": [
    "a = [1,2,3]\n",
    "b = [\"a\", \"b\", \"c\", \"d\"]\n",
    "c = [10, 9, 8, 7, 6]"
   ]
  },
  {
   "cell_type": "code",
   "execution_count": 16,
   "id": "86264345",
   "metadata": {
    "ExecuteTime": {
     "end_time": "2021-07-15T20:22:44.348631Z",
     "start_time": "2021-07-15T20:22:44.344215Z"
    }
   },
   "outputs": [
    {
     "name": "stdout",
     "output_type": "stream",
     "text": [
      "1 a 10\n",
      "2 b 9\n",
      "3 c 8\n"
     ]
    }
   ],
   "source": [
    "for i, j, k in zip(a, b, c):\n",
    "    print(i, j, k)"
   ]
  },
  {
   "cell_type": "markdown",
   "id": "9275f7e9",
   "metadata": {},
   "source": [
    "It will stop at the length of the shortest one!"
   ]
  },
  {
   "cell_type": "markdown",
   "id": "81308d82",
   "metadata": {},
   "source": [
    "### Exercise\n",
    "\n",
    "Given the following X and y, can you get an output like the one given as output\n",
    "```\n",
    "(1, 2) 1\n",
    "(1, 3) 1\n",
    "(3, 4) 1\n",
    "(4, 5) 0\n",
    "```\n",
    "?"
   ]
  },
  {
   "cell_type": "code",
   "execution_count": 17,
   "id": "33c87b1a",
   "metadata": {
    "ExecuteTime": {
     "end_time": "2021-07-15T20:25:16.726895Z",
     "start_time": "2021-07-15T20:25:16.722721Z"
    }
   },
   "outputs": [],
   "source": [
    "X = [(1,2), (1,3), (3,4), (4,5)]\n",
    "y = [1, 1, 1, 0]"
   ]
  },
  {
   "cell_type": "code",
   "execution_count": 18,
   "id": "ee48e180",
   "metadata": {
    "ExecuteTime": {
     "end_time": "2021-07-15T20:25:35.737304Z",
     "start_time": "2021-07-15T20:25:35.733450Z"
    }
   },
   "outputs": [
    {
     "name": "stdout",
     "output_type": "stream",
     "text": [
      "(1, 2) 1\n",
      "(1, 3) 1\n",
      "(3, 4) 1\n",
      "(4, 5) 0\n"
     ]
    }
   ],
   "source": []
  },
  {
   "cell_type": "markdown",
   "id": "72320350",
   "metadata": {},
   "source": [
    "## Lambda functions\n",
    "\n",
    "To define functions, usually you use a syntax like this:"
   ]
  },
  {
   "cell_type": "code",
   "execution_count": 20,
   "id": "34d7a142",
   "metadata": {
    "ExecuteTime": {
     "end_time": "2021-07-15T20:35:27.857427Z",
     "start_time": "2021-07-15T20:35:27.851381Z"
    }
   },
   "outputs": [],
   "source": [
    "def add_one(x):\n",
    "    return x + 1"
   ]
  },
  {
   "cell_type": "markdown",
   "id": "749e3d1b",
   "metadata": {},
   "source": [
    "What this function is doing is to take an input `x`\n",
    " and return `x + 1`."
   ]
  },
  {
   "cell_type": "code",
   "execution_count": 21,
   "id": "d0f07154",
   "metadata": {
    "ExecuteTime": {
     "end_time": "2021-07-15T20:35:35.381441Z",
     "start_time": "2021-07-15T20:35:35.375380Z"
    }
   },
   "outputs": [
    {
     "data": {
      "text/plain": [
       "6"
      ]
     },
     "execution_count": 21,
     "metadata": {},
     "output_type": "execute_result"
    }
   ],
   "source": [
    "add_one(5)"
   ]
  },
  {
   "cell_type": "markdown",
   "id": "cdbcfced",
   "metadata": {},
   "source": [
    "You can define that function also by using a lambda expression:"
   ]
  },
  {
   "cell_type": "code",
   "execution_count": 22,
   "id": "101ebe3f",
   "metadata": {
    "ExecuteTime": {
     "end_time": "2021-07-15T20:36:17.415864Z",
     "start_time": "2021-07-15T20:36:17.412264Z"
    }
   },
   "outputs": [],
   "source": [
    "add_one_lambda = lambda x: x + 1"
   ]
  },
  {
   "cell_type": "markdown",
   "id": "5e0c3850",
   "metadata": {
    "ExecuteTime": {
     "end_time": "2021-07-15T20:33:30.753777Z",
     "start_time": "2021-07-15T20:33:30.747008Z"
    }
   },
   "source": [
    "In the example above, the expression is composed of:\n",
    "\n",
    "The keyword: `lambda`\n",
    "\n",
    "A bound variable: `x`\n",
    "\n",
    "A body: `x + 1`\n",
    "\n",
    "and the result is exactly the same as before:\n"
   ]
  },
  {
   "cell_type": "code",
   "execution_count": 23,
   "id": "7c72b918",
   "metadata": {
    "ExecuteTime": {
     "end_time": "2021-07-15T20:36:52.905173Z",
     "start_time": "2021-07-15T20:36:52.899545Z"
    }
   },
   "outputs": [
    {
     "data": {
      "text/plain": [
       "6"
      ]
     },
     "execution_count": 23,
     "metadata": {},
     "output_type": "execute_result"
    }
   ],
   "source": [
    "add_one_lambda(5)"
   ]
  },
  {
   "cell_type": "markdown",
   "id": "6831a081",
   "metadata": {},
   "source": [
    "So the bound variable is the argument of your function, the body is what your function returns.\n",
    "\n",
    "A cool features is that you can define and use the function in the same command:"
   ]
  },
  {
   "cell_type": "code",
   "execution_count": 24,
   "id": "903006c4",
   "metadata": {
    "ExecuteTime": {
     "end_time": "2021-07-15T20:38:09.941246Z",
     "start_time": "2021-07-15T20:38:09.936019Z"
    }
   },
   "outputs": [
    {
     "data": {
      "text/plain": [
       "6"
      ]
     },
     "execution_count": 24,
     "metadata": {},
     "output_type": "execute_result"
    }
   ],
   "source": [
    "(lambda x: x+1)(5)"
   ]
  },
  {
   "cell_type": "markdown",
   "id": "e9572dd0",
   "metadata": {
    "ExecuteTime": {
     "end_time": "2021-07-15T20:38:42.343367Z",
     "start_time": "2021-07-15T20:38:42.336886Z"
    }
   },
   "source": [
    "without even have to give a name to that function! This can be useful when you need to define functions that you use only once, and maybe inside another function, for example, transforming a number into zero if it's negative:"
   ]
  },
  {
   "cell_type": "code",
   "execution_count": 37,
   "id": "efbd4d79",
   "metadata": {
    "ExecuteTime": {
     "end_time": "2021-07-15T20:54:51.770535Z",
     "start_time": "2021-07-15T20:54:51.767033Z"
    }
   },
   "outputs": [],
   "source": [
    "def function(y):\n",
    "    return y + (lambda x: x if x>=0 else 0)(y)"
   ]
  },
  {
   "cell_type": "code",
   "execution_count": 42,
   "id": "fc114222",
   "metadata": {
    "ExecuteTime": {
     "end_time": "2021-07-15T20:56:45.416352Z",
     "start_time": "2021-07-15T20:56:45.409373Z"
    }
   },
   "outputs": [
    {
     "data": {
      "text/plain": [
       "(2, -5, 12)"
      ]
     },
     "execution_count": 42,
     "metadata": {},
     "output_type": "execute_result"
    }
   ],
   "source": [
    "function(1), function(-5), function(6)"
   ]
  },
  {
   "cell_type": "markdown",
   "id": "ceed2b70",
   "metadata": {
    "ExecuteTime": {
     "end_time": "2021-07-15T20:57:26.614462Z",
     "start_time": "2021-07-15T20:57:26.609622Z"
    }
   },
   "source": [
    "A common use is for applying a transformation to all the elements of a pandas Series or DataFrame:"
   ]
  },
  {
   "cell_type": "code",
   "execution_count": 44,
   "id": "6a9d5678",
   "metadata": {
    "ExecuteTime": {
     "end_time": "2021-07-15T20:59:00.539745Z",
     "start_time": "2021-07-15T20:59:00.016961Z"
    }
   },
   "outputs": [],
   "source": [
    "import pandas as pd"
   ]
  },
  {
   "cell_type": "code",
   "execution_count": 45,
   "id": "8c1e423d",
   "metadata": {
    "ExecuteTime": {
     "end_time": "2021-07-15T20:59:45.374129Z",
     "start_time": "2021-07-15T20:59:45.362291Z"
    }
   },
   "outputs": [],
   "source": [
    "df = pd.DataFrame({\"column1\":[1,-1,-5], \"column2\":[2,\"0\",1]})"
   ]
  },
  {
   "cell_type": "code",
   "execution_count": 46,
   "id": "a1a6806f",
   "metadata": {
    "ExecuteTime": {
     "end_time": "2021-07-15T20:59:46.556411Z",
     "start_time": "2021-07-15T20:59:46.540562Z"
    }
   },
   "outputs": [
    {
     "data": {
      "text/html": [
       "<div>\n",
       "<style scoped>\n",
       "    .dataframe tbody tr th:only-of-type {\n",
       "        vertical-align: middle;\n",
       "    }\n",
       "\n",
       "    .dataframe tbody tr th {\n",
       "        vertical-align: top;\n",
       "    }\n",
       "\n",
       "    .dataframe thead th {\n",
       "        text-align: right;\n",
       "    }\n",
       "</style>\n",
       "<table border=\"1\" class=\"dataframe\">\n",
       "  <thead>\n",
       "    <tr style=\"text-align: right;\">\n",
       "      <th></th>\n",
       "      <th>column1</th>\n",
       "      <th>column2</th>\n",
       "    </tr>\n",
       "  </thead>\n",
       "  <tbody>\n",
       "    <tr>\n",
       "      <th>0</th>\n",
       "      <td>1</td>\n",
       "      <td>2</td>\n",
       "    </tr>\n",
       "    <tr>\n",
       "      <th>1</th>\n",
       "      <td>-1</td>\n",
       "      <td>0</td>\n",
       "    </tr>\n",
       "    <tr>\n",
       "      <th>2</th>\n",
       "      <td>-5</td>\n",
       "      <td>1</td>\n",
       "    </tr>\n",
       "  </tbody>\n",
       "</table>\n",
       "</div>"
      ],
      "text/plain": [
       "   column1 column2\n",
       "0        1       2\n",
       "1       -1       0\n",
       "2       -5       1"
      ]
     },
     "execution_count": 46,
     "metadata": {},
     "output_type": "execute_result"
    }
   ],
   "source": [
    "df"
   ]
  },
  {
   "cell_type": "code",
   "execution_count": 48,
   "id": "e349ba76",
   "metadata": {
    "ExecuteTime": {
     "end_time": "2021-07-15T21:00:31.554217Z",
     "start_time": "2021-07-15T21:00:31.544023Z"
    }
   },
   "outputs": [],
   "source": [
    "df[\"column1\"] = df[\"column1\"].apply(lambda x: 0 if x<0 else x)"
   ]
  },
  {
   "cell_type": "code",
   "execution_count": 49,
   "id": "0a848309",
   "metadata": {
    "ExecuteTime": {
     "end_time": "2021-07-15T21:00:33.668812Z",
     "start_time": "2021-07-15T21:00:33.658224Z"
    }
   },
   "outputs": [
    {
     "data": {
      "text/html": [
       "<div>\n",
       "<style scoped>\n",
       "    .dataframe tbody tr th:only-of-type {\n",
       "        vertical-align: middle;\n",
       "    }\n",
       "\n",
       "    .dataframe tbody tr th {\n",
       "        vertical-align: top;\n",
       "    }\n",
       "\n",
       "    .dataframe thead th {\n",
       "        text-align: right;\n",
       "    }\n",
       "</style>\n",
       "<table border=\"1\" class=\"dataframe\">\n",
       "  <thead>\n",
       "    <tr style=\"text-align: right;\">\n",
       "      <th></th>\n",
       "      <th>column1</th>\n",
       "      <th>column2</th>\n",
       "    </tr>\n",
       "  </thead>\n",
       "  <tbody>\n",
       "    <tr>\n",
       "      <th>0</th>\n",
       "      <td>1</td>\n",
       "      <td>2</td>\n",
       "    </tr>\n",
       "    <tr>\n",
       "      <th>1</th>\n",
       "      <td>0</td>\n",
       "      <td>0</td>\n",
       "    </tr>\n",
       "    <tr>\n",
       "      <th>2</th>\n",
       "      <td>0</td>\n",
       "      <td>1</td>\n",
       "    </tr>\n",
       "  </tbody>\n",
       "</table>\n",
       "</div>"
      ],
      "text/plain": [
       "   column1 column2\n",
       "0        1       2\n",
       "1        0       0\n",
       "2        0       1"
      ]
     },
     "execution_count": 49,
     "metadata": {},
     "output_type": "execute_result"
    }
   ],
   "source": [
    "df"
   ]
  },
  {
   "cell_type": "markdown",
   "id": "e4c38df4",
   "metadata": {},
   "source": [
    "where you see that all the negative elements of the columns have been transformed into 0."
   ]
  },
  {
   "cell_type": "markdown",
   "id": "612e1caa",
   "metadata": {},
   "source": [
    "## Exercises\n",
    "\n",
    "1. Convert the following functions in lambda functions:"
   ]
  },
  {
   "cell_type": "code",
   "execution_count": 50,
   "id": "37efeff3",
   "metadata": {
    "ExecuteTime": {
     "end_time": "2021-07-15T21:08:03.267669Z",
     "start_time": "2021-07-15T21:08:03.257068Z"
    }
   },
   "outputs": [],
   "source": [
    "def function1(x, y):\n",
    "    # Oh no! Multiple inputs! That's new!\n",
    "    return x + y\n",
    "\n",
    "def function2(j):\n",
    "    if j > 0:\n",
    "        return \"positive\"\n",
    "    else:\n",
    "        return \"negative\""
   ]
  },
  {
   "cell_type": "code",
   "execution_count": null,
   "id": "d842b50a",
   "metadata": {},
   "outputs": [],
   "source": []
  },
  {
   "cell_type": "code",
   "execution_count": null,
   "id": "5d8207cc",
   "metadata": {},
   "outputs": [],
   "source": []
  },
  {
   "cell_type": "code",
   "execution_count": 54,
   "id": "2960d4c7",
   "metadata": {
    "ExecuteTime": {
     "end_time": "2021-07-15T21:08:49.450133Z",
     "start_time": "2021-07-15T21:08:49.445444Z"
    }
   },
   "outputs": [
    {
     "data": {
      "text/plain": [
       "3"
      ]
     },
     "execution_count": 54,
     "metadata": {},
     "output_type": "execute_result"
    }
   ],
   "source": [
    "function1(1,2)"
   ]
  },
  {
   "cell_type": "code",
   "execution_count": 55,
   "id": "3124f76d",
   "metadata": {
    "ExecuteTime": {
     "end_time": "2021-07-15T21:08:58.477225Z",
     "start_time": "2021-07-15T21:08:58.472809Z"
    }
   },
   "outputs": [
    {
     "data": {
      "text/plain": [
       "'positive'"
      ]
     },
     "execution_count": 55,
     "metadata": {},
     "output_type": "execute_result"
    }
   ],
   "source": [
    "function2(5)"
   ]
  },
  {
   "cell_type": "code",
   "execution_count": 56,
   "id": "7201954a",
   "metadata": {
    "ExecuteTime": {
     "end_time": "2021-07-15T21:09:02.565936Z",
     "start_time": "2021-07-15T21:09:02.561148Z"
    }
   },
   "outputs": [
    {
     "data": {
      "text/plain": [
       "'negative'"
      ]
     },
     "execution_count": 56,
     "metadata": {},
     "output_type": "execute_result"
    }
   ],
   "source": [
    "function2(-1)"
   ]
  },
  {
   "cell_type": "markdown",
   "id": "580e9ecf",
   "metadata": {},
   "source": [
    "Transform all the negative elements of the columns \"hi\", \"hey\", and \"hello\" of the dataframe `df` into the string \"hello\"."
   ]
  },
  {
   "cell_type": "code",
   "execution_count": 100,
   "id": "6489f2c4",
   "metadata": {
    "ExecuteTime": {
     "end_time": "2021-07-15T21:25:55.001594Z",
     "start_time": "2021-07-15T21:25:54.995424Z"
    }
   },
   "outputs": [],
   "source": [
    "df = pd.DataFrame({\"first\":[1,-1,1.0,0.0],\n",
    "                   \"hi\":[0.1,0.0,1,-1],\n",
    "                  \"hey\":[1,-1,0,0.0],\n",
    "                  \"fourth\":[1,-1,2,0.0],\n",
    "                  \"hello\":[1,-1.9,0,2.0]\n",
    "                  })"
   ]
  },
  {
   "cell_type": "code",
   "execution_count": 101,
   "id": "085e0aec",
   "metadata": {
    "ExecuteTime": {
     "end_time": "2021-07-15T21:25:55.243758Z",
     "start_time": "2021-07-15T21:25:55.222380Z"
    }
   },
   "outputs": [
    {
     "data": {
      "text/html": [
       "<div>\n",
       "<style scoped>\n",
       "    .dataframe tbody tr th:only-of-type {\n",
       "        vertical-align: middle;\n",
       "    }\n",
       "\n",
       "    .dataframe tbody tr th {\n",
       "        vertical-align: top;\n",
       "    }\n",
       "\n",
       "    .dataframe thead th {\n",
       "        text-align: right;\n",
       "    }\n",
       "</style>\n",
       "<table border=\"1\" class=\"dataframe\">\n",
       "  <thead>\n",
       "    <tr style=\"text-align: right;\">\n",
       "      <th></th>\n",
       "      <th>first</th>\n",
       "      <th>hi</th>\n",
       "      <th>hey</th>\n",
       "      <th>fourth</th>\n",
       "      <th>hello</th>\n",
       "    </tr>\n",
       "  </thead>\n",
       "  <tbody>\n",
       "    <tr>\n",
       "      <th>0</th>\n",
       "      <td>1.0</td>\n",
       "      <td>0.1</td>\n",
       "      <td>1.0</td>\n",
       "      <td>1.0</td>\n",
       "      <td>1.0</td>\n",
       "    </tr>\n",
       "    <tr>\n",
       "      <th>1</th>\n",
       "      <td>-1.0</td>\n",
       "      <td>0.0</td>\n",
       "      <td>-1.0</td>\n",
       "      <td>-1.0</td>\n",
       "      <td>-1.9</td>\n",
       "    </tr>\n",
       "    <tr>\n",
       "      <th>2</th>\n",
       "      <td>1.0</td>\n",
       "      <td>1.0</td>\n",
       "      <td>0.0</td>\n",
       "      <td>2.0</td>\n",
       "      <td>0.0</td>\n",
       "    </tr>\n",
       "    <tr>\n",
       "      <th>3</th>\n",
       "      <td>0.0</td>\n",
       "      <td>-1.0</td>\n",
       "      <td>0.0</td>\n",
       "      <td>0.0</td>\n",
       "      <td>2.0</td>\n",
       "    </tr>\n",
       "  </tbody>\n",
       "</table>\n",
       "</div>"
      ],
      "text/plain": [
       "   first   hi  hey  fourth  hello\n",
       "0    1.0  0.1  1.0     1.0    1.0\n",
       "1   -1.0  0.0 -1.0    -1.0   -1.9\n",
       "2    1.0  1.0  0.0     2.0    0.0\n",
       "3    0.0 -1.0  0.0     0.0    2.0"
      ]
     },
     "execution_count": 101,
     "metadata": {},
     "output_type": "execute_result"
    }
   ],
   "source": [
    "df"
   ]
  },
  {
   "cell_type": "code",
   "execution_count": 103,
   "id": "1ac4af07",
   "metadata": {
    "ExecuteTime": {
     "end_time": "2021-07-15T21:25:56.779279Z",
     "start_time": "2021-07-15T21:25:56.759777Z"
    }
   },
   "outputs": [
    {
     "data": {
      "text/html": [
       "<div>\n",
       "<style scoped>\n",
       "    .dataframe tbody tr th:only-of-type {\n",
       "        vertical-align: middle;\n",
       "    }\n",
       "\n",
       "    .dataframe tbody tr th {\n",
       "        vertical-align: top;\n",
       "    }\n",
       "\n",
       "    .dataframe thead th {\n",
       "        text-align: right;\n",
       "    }\n",
       "</style>\n",
       "<table border=\"1\" class=\"dataframe\">\n",
       "  <thead>\n",
       "    <tr style=\"text-align: right;\">\n",
       "      <th></th>\n",
       "      <th>first</th>\n",
       "      <th>hi</th>\n",
       "      <th>hey</th>\n",
       "      <th>fourth</th>\n",
       "      <th>hello</th>\n",
       "    </tr>\n",
       "  </thead>\n",
       "  <tbody>\n",
       "    <tr>\n",
       "      <th>0</th>\n",
       "      <td>1.0</td>\n",
       "      <td>0.1</td>\n",
       "      <td>1.0</td>\n",
       "      <td>1.0</td>\n",
       "      <td>1.0</td>\n",
       "    </tr>\n",
       "    <tr>\n",
       "      <th>1</th>\n",
       "      <td>-1.0</td>\n",
       "      <td>0.0</td>\n",
       "      <td>hello</td>\n",
       "      <td>-1.0</td>\n",
       "      <td>hello</td>\n",
       "    </tr>\n",
       "    <tr>\n",
       "      <th>2</th>\n",
       "      <td>1.0</td>\n",
       "      <td>1.0</td>\n",
       "      <td>0.0</td>\n",
       "      <td>2.0</td>\n",
       "      <td>0.0</td>\n",
       "    </tr>\n",
       "    <tr>\n",
       "      <th>3</th>\n",
       "      <td>0.0</td>\n",
       "      <td>hello</td>\n",
       "      <td>0.0</td>\n",
       "      <td>0.0</td>\n",
       "      <td>2.0</td>\n",
       "    </tr>\n",
       "  </tbody>\n",
       "</table>\n",
       "</div>"
      ],
      "text/plain": [
       "   first     hi    hey  fourth  hello\n",
       "0    1.0    0.1    1.0     1.0    1.0\n",
       "1   -1.0    0.0  hello    -1.0  hello\n",
       "2    1.0    1.0    0.0     2.0    0.0\n",
       "3    0.0  hello    0.0     0.0    2.0"
      ]
     },
     "execution_count": 103,
     "metadata": {},
     "output_type": "execute_result"
    }
   ],
   "source": [
    "df"
   ]
  },
  {
   "cell_type": "code",
   "execution_count": null,
   "id": "44d678a4",
   "metadata": {},
   "outputs": [],
   "source": []
  }
 ],
 "metadata": {
  "kernelspec": {
   "display_name": "Python 3",
   "language": "python",
   "name": "python3"
  },
  "language_info": {
   "codemirror_mode": {
    "name": "ipython",
    "version": 3
   },
   "file_extension": ".py",
   "mimetype": "text/x-python",
   "name": "python",
   "nbconvert_exporter": "python",
   "pygments_lexer": "ipython3",
   "version": "3.9.5"
  },
  "varInspector": {
   "cols": {
    "lenName": 16,
    "lenType": 16,
    "lenVar": 40
   },
   "kernels_config": {
    "python": {
     "delete_cmd_postfix": "",
     "delete_cmd_prefix": "del ",
     "library": "var_list.py",
     "varRefreshCmd": "print(var_dic_list())"
    },
    "r": {
     "delete_cmd_postfix": ") ",
     "delete_cmd_prefix": "rm(",
     "library": "var_list.r",
     "varRefreshCmd": "cat(var_dic_list()) "
    }
   },
   "types_to_exclude": [
    "module",
    "function",
    "builtin_function_or_method",
    "instance",
    "_Feature"
   ],
   "window_display": false
  }
 },
 "nbformat": 4,
 "nbformat_minor": 5
}
