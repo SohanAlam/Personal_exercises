{
 "cells": [
  {
   "cell_type": "markdown",
   "metadata": {},
   "source": [
    "# API REQUEST"
   ]
  },
  {
   "cell_type": "code",
   "execution_count": 32,
   "metadata": {},
   "outputs": [
    {
     "output_type": "stream",
     "name": "stdout",
     "text": [
      "<Response [200]>\n{\n    \"message\": \"success\",\n    \"request\": {\n        \"altitude\": 100,\n        \"datetime\": 1622584397,\n        \"latitude\": 40.71,\n        \"longitude\": -74.0,\n        \"passes\": 5\n    },\n    \"response\": [\n        {\n            \"duration\": 565,\n            \"risetime\": 1622586645\n        },\n        {\n            \"duration\": 632,\n            \"risetime\": 1622592469\n        },\n        {\n            \"duration\": 637,\n            \"risetime\": 1622598278\n        },\n        {\n            \"duration\": 290,\n            \"risetime\": 1622604211\n        },\n        {\n            \"duration\": 495,\n            \"risetime\": 1622652747\n        }\n    ]\n}\n"
     ]
    }
   ],
   "source": [
    "import requests\n",
    "import json\n",
    "from bs4 import BeautifulSoup   \n",
    "\n",
    "# Set up the parameters we want to pass to the API.\n",
    "# This is the latitude and longitude of New York City.\n",
    "parameters = {\"lat\": 40.71, \"lon\": -74}\n",
    "# Make a get request with the pahttp://api.open-notify.orgrameters.\n",
    "response = requests.get(\"http://api.open-notify.org/iss-pass.json\", params=parameters)\n",
    "\n",
    "#is the response positive?\n",
    "print(response)\n",
    "\n",
    "# Print the content of the response (the data the server returned)\n",
    "#print(response.content)\n",
    "\n",
    "# save response into a much nicer format\n",
    "a = response.json()\n",
    "#print(response.json())\n",
    "\n",
    "pretty_json = json.dumps(a, indent=4, sort_keys=True)\n",
    "print(pretty_json)\n"
   ]
  },
  {
   "cell_type": "code",
   "execution_count": 33,
   "metadata": {},
   "outputs": [
    {
     "output_type": "stream",
     "name": "stdout",
     "text": [
      "{\n    \"message\": \"success\",\n    \"request\": {\n        \"altitude\": 100,\n        \"datetime\": 1622584397,\n        \"latitude\": 37.78,\n        \"longitude\": -122.41,\n        \"passes\": 5\n    },\n    \"response\": [\n        {\n            \"duration\": 642,\n            \"risetime\": 1622586003\n        },\n        {\n            \"duration\": 537,\n            \"risetime\": 1622591908\n        },\n        {\n            \"duration\": 493,\n            \"risetime\": 1622597819\n        },\n        {\n            \"duration\": 597,\n            \"risetime\": 1622603643\n        },\n        {\n            \"duration\": 651,\n            \"risetime\": 1622609441\n        }\n    ]\n}\n"
     ]
    }
   ],
   "source": [
    "# Make the same request we did earlier, but with the coordinates of San Francisco instead.\n",
    "parameters = {\"lat\": 37.78, \"lon\": -122.41}\n",
    "response = requests.get(\"http://api.open-notify.org/iss-pass.json\", params=parameters)\n",
    "# Get the response data as a python object. Verify that it's a dictionary.\n",
    "data = response.json()\n",
    "#print(type(data))\n",
    "#print(data)\n",
    "\n",
    "\n",
    "\n",
    "pretty_json = json.dumps(data, indent=4, sort_keys=True)\n",
    "print(pretty_json)\n"
   ]
  },
  {
   "cell_type": "code",
   "execution_count": 34,
   "metadata": {},
   "outputs": [
    {
     "output_type": "stream",
     "name": "stdout",
     "text": [
      "Duration: 594\nRiseTime: 1607524821\n\nDuration: 648\nRiseTime: 1607530588\n\nDuration: 581\nRiseTime: 1607536467\n\nDuration: 569\nRiseTime: 1607542344\n\nDuration: 638\nRiseTime: 1607548163\n\n"
     ]
    }
   ],
   "source": [
    "with open(\"latlong_ny.json\", \"w\") as fp:\n",
    "    json.dump(a,fp) \n",
    "\n",
    "with open('latlong.json') as json_file:\n",
    "    data = json.load(json_file)\n",
    "    for p in data['response']:\n",
    "        print(f\"Duration: {p['duration']}\")\n",
    "        print(f\"RiseTime: {p['risetime']}\")\n",
    "        print('')"
   ]
  },
  {
   "cell_type": "markdown",
   "metadata": {},
   "source": [
    "# CSV"
   ]
  },
  {
   "cell_type": "code",
   "execution_count": 35,
   "metadata": {},
   "outputs": [
    {
     "output_type": "stream",
     "name": "stdout",
     "text": [
      "Column names are Name, Appearance, Origin\n\t The beer Edelweiss is White, and it is from Austria.\n\t The beer CuvÃ©e des Trolls is Blond, and it is from Belgium.\n\t The beer Choulette AmbrÃ©e is Amber, and it is from France.\n\t The beer Gulden Draak is Dark, and it is from Belgium.\n\t The beer Water is Crystal Clear, and it is from Anywhere.\nProcessed 6 lines.\n"
     ]
    }
   ],
   "source": [
    "import csv\n",
    "\n",
    "with open('./data/beers.csv') as csv_file:\n",
    "    csv_reader = csv.reader(csv_file, delimiter=',')\n",
    "    line_count = 0\n",
    "    for row in csv_reader:\n",
    "        if line_count == 0:\n",
    "            print(f'Column names are {\", \".join(row)}')\n",
    "            line_count += 1\n",
    "        else:\n",
    "            print(f'\\t The beer {row[0]} is {row[1]}, and it is from {row[2]}.')\n",
    "            line_count += 1\n",
    "    print(f'Processed {line_count} lines.')\n"
   ]
  },
  {
   "cell_type": "markdown",
   "metadata": {},
   "source": [
    "# CSV into Dictionary"
   ]
  },
  {
   "cell_type": "code",
   "execution_count": 36,
   "metadata": {},
   "outputs": [
    {
     "output_type": "stream",
     "name": "stdout",
     "text": [
      "Column names are Name, Appearance, Origin\n\tThe beer Edelweiss is White, and it is from Austria.\n\tThe beer CuvÃ©e des Trolls is Blond, and it is from Belgium.\n\tThe beer Choulette AmbrÃ©e is Amber, and it is from France.\n\tThe beer Gulden Draak is Dark, and it is from Belgium.\n\tThe beer Water is Crystal Clear, and it is from Anywhere.\nProcessed 6 lines.\n"
     ]
    }
   ],
   "source": [
    "import csv\n",
    "\n",
    "with open('./data/beers.csv', mode='r') as csv_file:\n",
    "    csv_reader = csv.DictReader(csv_file)\n",
    "    line_count = 0\n",
    "    for row in csv_reader:\n",
    "        if line_count == 0:\n",
    "            print(f'Column names are {\", \".join(row)}')\n",
    "            line_count += 1\n",
    "        print(f'\\tThe beer {row[\"Name\"]} is {row[\"Appearance\"]}, and it is from {row[\"Origin\"]}.')\n",
    "        line_count += 1\n",
    "    print(f'Processed {line_count} lines.')\n"
   ]
  },
  {
   "cell_type": "markdown",
   "metadata": {},
   "source": [
    "# The Power of Pandas"
   ]
  },
  {
   "cell_type": "code",
   "execution_count": 37,
   "metadata": {},
   "outputs": [
    {
     "output_type": "stream",
     "name": "stdout",
     "text": [
      "               Name     Appearance    Origin\n0         Edelweiss          White   Austria\n1  Cuvée des Trolls          Blond   Belgium\n2  Choulette Ambrée          Amber    France\n3      Gulden Draak           Dark   Belgium\n4             Water  Crystal Clear  Anywhere\n"
     ]
    }
   ],
   "source": [
    "import pandas\n",
    "\n",
    "df = pandas.read_csv('./data/beers.csv')\n",
    "\n",
    "print(df)\n"
   ]
  },
  {
   "cell_type": "markdown",
   "metadata": {},
   "source": [
    "# downloading html with requests library"
   ]
  },
  {
   "cell_type": "code",
   "execution_count": 38,
   "metadata": {},
   "outputs": [
    {
     "output_type": "execute_result",
     "data": {
      "text/plain": [
       "<Response [200]>"
      ]
     },
     "metadata": {},
     "execution_count": 38
    }
   ],
   "source": [
    "import requests\n",
    "page = requests.get(\"http://dataquestio.github.io/web-scraping-pages/simple.html\")\n",
    "page"
   ]
  },
  {
   "cell_type": "markdown",
   "metadata": {},
   "source": [
    "# We can print out the HTML content of the page using the content property: "
   ]
  },
  {
   "cell_type": "code",
   "execution_count": 39,
   "metadata": {},
   "outputs": [
    {
     "output_type": "execute_result",
     "data": {
      "text/plain": [
       "b'<!DOCTYPE html>\\n<html>\\n    <head>\\n        <title>A simple example page</title>\\n    </head>\\n    <body>\\n        <p>Here is some simple content for this page.</p>\\n    </body>\\n</html>'"
      ]
     },
     "metadata": {},
     "execution_count": 39
    }
   ],
   "source": [
    "import requests\n",
    "page = requests.get(\"http://dataquestio.github.io/web-scraping-pages/simple.html\")\n",
    "page\n",
    "\n",
    "page.status_code\n",
    "page.content"
   ]
  },
  {
   "cell_type": "markdown",
   "metadata": {},
   "source": [
    "# Beautiful Soup"
   ]
  },
  {
   "cell_type": "code",
   "execution_count": 40,
   "metadata": {
    "tags": [
     "outputPrepend"
    ]
   },
   "outputs": [
    {
     "output_type": "stream",
     "name": "stdout",
     "text": [
      "SimpleSlider div{\nheight:22px;\nline-height:20px;\nwidth:20px;\n}\n#point-forecast-map-label {\ntext-align:center;\nfont-weight:bold;\ncolor:black;\n}\n@media (max-width: 767px) {\n#emap{\nmargin-top:.5em;\nheight:270px;\n}\n.disclaimer{\nmargin-top:250px;\n}\n}\n</style>\n<!-- forecast-map -->\n<div class=\"point-forecast-map\">\n<div class=\"point-forecast-map-header text-center\">\n<div id=\"toolbar\">\n<div id=\"switch-basemap-container\">\n<div id=\"basemap-selection-form\" title=\"Choose a Basemap\">\n<div id=\"basemap-menu\">\n<select autocomplete=\"off\" id=\"basemap-selected\" name=\"basemap-selected\" title=\"Basemap Dropdown Menu\">\n<option value=\"none\">Select Basemap</option>\n<option selected=\"\" value=\"topo\">Topographic</option>\n<option value=\"streets\">Streets</option>\n<option value=\"satellite\">Satellite</option>\n<option value=\"ocean\">Ocean</option>\n</select>\n</div>\n</div>\n<div id=\"point-forecast-map-label\">\n                    Click Map For Forecast\n                </div>\n</div><!-- //#switch-basemap-container -->\n<div style=\"clear:both;\"></div>\n</div><!-- //#toolbar -->\n</div><!-- //.point-forecast-map-header -->\n<div id=\"emap\">\n<noscript><center><br/><br/><b>Map function requires Javascript and a compatible browser.</b></center></noscript>\n<div class=\"disclaimer\"><a href=\"http://www.weather.gov/disclaimer#esri\">Disclaimer</a></div>\n</div><!-- //#emap -->\n<div class=\"point-forecast-map-footer\">\n<img alt=\"Map Legend\" height=\"16\" src=\"./images/wtf/maplegend_forecast-area.gif\" width=\"100\"/>\n</div><!-- //.point-forecast-map-footer -->\n</div> <!-- //.point-forecast-map -->\n<!-- //forecast-map -->\n<!-- //openlayer map -->\n<!-- About this Forecast -->\n<div id=\"about_forecast\">\n<div class=\"fullRow\">\n<div class=\"left\">Point Forecast:</div>\n<div class=\"right\">San Francisco CA<br/> 37.77°N 122.41°W (Elev. 131 ft)</div>\n</div>\n<div class=\"fullRow\">\n<div class=\"left\"><a href=\"//www.weather.gov/glossary/index.php?word=Last+update\" target=\"_blank\">Last Update</a>: </div>\n<div class=\"right\">1:57 pm PDT Jun 1, 2021</div>\n</div>\n<div class=\"fullRow\">\n<div class=\"left\"><a href=\"//www.weather.gov/glossary/index.php?word=forecast+valid+for\" target=\"_blank\">Forecast Valid</a>: </div>\n<div class=\"right\">2pm PDT Jun 1, 2021-6pm PDT Jun 7, 2021</div>\n</div>\n<div class=\"fullRow\">\n<div class=\"left\"> </div>\n<div class=\"right\"><a href=\"https://forecast.weather.gov/product.php?site=MTR&amp;issuedby=MTR&amp;product=AFD&amp;format=CI&amp;version=1&amp;glossary=1\">Forecast Discussion</a></div>\n</div>\n<div class=\"fullRow\">\n<div class=\"left\"> </div>\n<div class=\"right\">\n<a href=\"MapClick.php?lat=37.7771&amp;lon=-122.4196&amp;unit=0&amp;lg=english&amp;FcstType=kml\"><img alt=\"Get as KML\" height=\"17\" src=\"/images/wtf/kml_badge.png\" width=\"45\"/></a>\n<a href=\"MapClick.php?lat=37.7771&amp;lon=-122.4196&amp;unit=0&amp;lg=english&amp;FcstType=dwml\"><img alt=\"Get as XML\" height=\"17\" src=\"/images/wtf/xml_badge.png\" width=\"45\"/></a>\n</div>\n</div>\n</div>\n<!-- /About this Forecast -->\n</div>\n<!--additionalForecast-->\n<div class=\"panel panel-default\" id=\"additionalForecast\">\n<div class=\"panel-heading\">\n<h2 class=\"panel-title\">Additional Resources</h2>\n</div>\n<div class=\"panel-body\">\n<!-- Radar & Satellite Images -->\n<div class=\"subItem\" id=\"radar\">\n<h4>Radar &amp; Satellite Image</h4>\n<a href=\"https://radar.weather.gov/?settings=v1_eyJhZ2VuZGEiOnsiaWQiOiJsb2NhbCIsImNlbnRlciI6Wy0xMjEuODgyLDM3LjU4OF0sInpvb20iOjgsImZpbHRlciI6IldTUi04OEQiLCJsYXllciI6ImNyZWYiLCJzdGF0aW9uIjoiS01VWCIsInRyYW5zcGFyZW50Ijp0cnVlLCJhbGVydHNPdmVybGF5Ijp0cnVlLCJzdGF0aW9uSWNvbnNPdmVybGF5Ijp0cnVlfSwiYmFzZSI6InN0YW5kYXJkIiwiY291bnR5Ijp0cnVlLCJjd2EiOmZhbHNlLCJzdGF0ZSI6dHJ1ZSwibWVudSI6dHJ1ZSwic2hvcnRGdXNlZE9ubHkiOnRydWV9#/\"><img alt=\"Link to Local Radar Data\" class=\"radar-thumb\" src=\"//radar.weather.gov/ridge/lite/KMUX_0.gif\" title=\"Link to Local Radar Data\"/></a> <a href=\"https://www.star.nesdis.noaa.gov/GOES/sector.php?sat=G17§or=psw\"><img alt=\"Link to Satellite Data\" class=\"satellite-thumb\" src=\"https://cdn.star.nesdis.noaa.gov/GOES17/ABI/SECTOR/psw/GEOCOLOR/600x600.jpg\" title=\"Link to Satellite Data\"/></a> </div>\n<!-- /Radar & Satellite Images -->\n<!-- Hourly Weather Forecast -->\n<div class=\"subItem\" id=\"feature\">\n<h4>Hourly Weather Forecast</h4>\n<a href=\"MapClick.php?lat=37.7771&amp;lon=-122.4196&amp;unit=0&amp;lg=english&amp;FcstType=graphical\"><img class=\"img-responsive\" src=\"newimages/medium/hourlyweather.png\"/></a>\n</div>\n<!-- /Hourly Weather Forecast -->\n<!-- NDFD -->\n<div class=\"subItem\" id=\"NDFD\">\n<h4>National Digital Forecast Database</h4>\n<div class=\"one-sixth-first\"><a href=\"//graphical.weather.gov/sectors/pacsouthwest.php?element=MaxT\"><img alt=\"National Digital Forecast Database Maximum Temperature Forecast\" border=\"0\" height=\"150\" src=\"//graphical.weather.gov/images/thumbnail/latest_MaxMinT_pacsouthwest_thumbnail.png\" title=\"National Digital Forecast Database Maximum Temperature Forecast\" width=\"147\"/></a>\n<p><a href=\"//graphical.weather.gov/sectors/pacsouthwest.php?element=MaxT\">High Temperature</a></p></div><div class=\"one-sixth-first\"><a href=\"//graphical.weather.gov/sectors/pacsouthwest.php?element=Wx\"><img alt=\"National Digital Forecast Database Weather Element Forecast\" border=\"0\" height=\"150\" src=\"//graphical.weather.gov/images/thumbnail/latest_Wx_pacsouthwest_thumbnail.png\" title=\"National Digital Forecast Database Weather Element Forecast\" width=\"147\"/></a>\n<p><a href=\"//graphical.weather.gov/sectors/pacsouthwest.php?element=Wx\">Chance of Precipitation</a></p></div> </div>\n<!-- /NDFD -->\n</div>\n</div>\n<!-- /additionalForecast -->\n</div>\n<!-- /col-md-4 -->\n<!-- /right-side-data -->\n<script language=\"javascript\">$( document ).ready(function() { load_openlayers_map('', '', '', '{\"centroid_lat\":\"37.7771\",\"centroid_lon\":\"-122.4196\",\"lat1\":\"37.7595\",\"lon1\":\"-122.4205\",\"lat2\":\"37.781\",\"lon2\":\"-122.426\",\"lat3\":\"37.7855\",\"lon3\":\"-122.3985\",\"lat4\":\"37.764\",\"lon4\":\"-122.393\"}') });</script></div>\n<!-- /row  -->\n</img></div>\n<!-- /PageFormat-Land -->\n\n<footer>\n<div class=\"sitemap-content row\" id=\"sitemap\">\n<div class=\"col-xs-12\">\n<div class=\"sitemap-columns\">\n<div class=\"sitemap-section\">\n<div class=\"panel-heading\">\n<a class=\"sitemap-section-heading\" href=\" http://www.nws.noaa.gov/climate/\">PAST WEATHER</a>\n<button class=\"menu-toggle pull-right\" data-target=\"#sitemap-1\" data-toggle=\"collapse\" type=\"button\">\n<span class=\"sr-only\">Toggle menu</span>\n<span class=\"icon-bar\"></span>\n<span class=\"icon-bar\"></span>\n<span class=\"icon-bar\"></span>\n</button>\n</div>\n<div class=\"sitemap-section-body panel-body collapsable collapse\" id=\"sitemap-1\">\n<ul class=\"list-unstyled\">\n<li><a href=\" http://www.cpc.ncep.noaa.gov/products/MD_index.shtml\">Climate Monitoring </a></li>\n<li><a href=\"https://w2.weather.gov/climate/\">Past Weather </a></li>\n<li><a href=\" http://www.nws.noaa.gov/climate/\">Monthly Temps </a></li>\n<li><a href=\" http://www.nws.noaa.gov/climate/\">Records </a></li>\n<li><a href=\"https://www.esrl.noaa.gov/gmd/grad/solcalc/sunrise.html\">Astronomical Data </a></li>\n<li><a href=\"https://www.climate.gov/maps-data/dataset/past-weather-zip-code-data-table\">Certified Weather Data </a></li>\n</ul>\n</div>\n</div>\n<div class=\"sitemap-section\">\n<div class=\"panel-heading\">\n<a class=\"sitemap-section-heading\" href=\"http://alerts.weather.gov\">ACTIVE ALERTS</a>\n<button class=\"menu-toggle pull-right\" data-target=\"#sitemap-2\" data-toggle=\"collapse\" type=\"button\">\n<span class=\"sr-only\">Toggle menu</span>\n<span class=\"icon-bar\"></span>\n<span class=\"icon-bar\"></span>\n<span class=\"icon-bar\"></span>\n</button>\n</div>\n<div class=\"sitemap-section-body panel-body collapsable collapse\" id=\"sitemap-2\">\n<ul class=\"list-unstyled\">\n<li><a href=\" http://alerts.weather.gov\">Warnings By State</a></li>\n<li><a href=\" http://www.wpc.ncep.noaa.gov/ww.shtml\">Excessive Rainfall and Winter Weather Forecasts</a></li>\n<li><a href=\"http://water.weather.gov/ahps/?current_color=flood&amp;current_type=all&amp;fcst_type=obs&amp;conus_map=d_map\">River Flooding </a></li>\n<li><a href=\" http://www.weather.gov\">Latest Warnings</a></li>\n<li><a href=\" http://www.spc.noaa.gov/products/outlook/\">Thunderstorm/Tornado Outlook </a></li>\n<li><a href=\" http://www.nhc.noaa.gov/\">Hurricanes </a></li>\n<li><a href=\" http://www.spc.noaa.gov/products/fire_wx/\">Fire Weather Outlooks </a></li>\n<li><a href=\" http://www.cpc.ncep.noaa.gov/products/stratosphere/uv_index/uv_alert.shtml\">UV Alerts </a></li>\n<li><a href=\" http://www.drought.gov/\">Drought </a></li>\n<li><a href=\"http://www.swpc.noaa.gov/products/alerts-watches-and-warnings\">Space Weather </a></li>\n<li><a href=\" http://www.nws.noaa.gov/nwr/\">NOAA Weather Radio </a></li>\n<li><a href=\" http://alerts.weather.gov/\">NWS CAP Feeds </a></li>\n</ul>\n</div>\n</div>\n<div class=\"sitemap-section\">\n<div class=\"panel-heading\">\n<a class=\"sitemap-section-heading\" href=\"http://www.weather.gov/current\">CURRENT CONDITIONS</a>\n<button class=\"menu-toggle pull-right\" data-target=\"#sitemap-3\" data-toggle=\"collapse\" type=\"button\">\n<span class=\"sr-only\">Toggle menu</span>\n<span class=\"icon-bar\"></span>\n<span class=\"icon-bar\"></span>\n<span class=\"icon-bar\"></span>\n</button>\n</div>\n<div class=\"sitemap-section-body panel-body collapsable collapse\" id=\"sitemap-3\">\n<ul class=\"list-unstyled\">\n<li><a href=\" https://radar.weather.gov\">Radar </a></li>\n<li><a href=\"http://www.cpc.ncep.noaa.gov/products/monitoring_and_data/\">Climate Monitoring </a></li>\n<li><a href=\" http://water.weather.gov/ahps/\">River Levels </a></li>\n<li><a href=\" http://water.weather.gov/precip/\">Observed Precipitation </a></li>\n<li><a href=\"https://www.wpc.ncep.noaa.gov/sfc/sfcobs/sfcobs.shtml\">Surface Weather </a></li>\n<li><a href=\"http://www.spc.noaa.gov/obswx/maps/\">Upper Air </a></li>\n<li><a href=\" http://www.ndbc.noaa.gov/\">Marine and Buoy Reports </a></li>\n<li><a href=\"http://www.nohrsc.noaa.gov/interactive/html/map.html\">Snow Cover </a></li>\n<li><a href=\" http://www.weather.gov/satellite\">Satellite </a></li>\n<li><a href=\" http://www.swpc.noaa.gov/\">Space Weather </a></li>\n<li><a href=\"http://www.weather.gov/pr\">International Observations</a></li>\n</ul>\n</div>\n</div>\n<div class=\"sitemap-section\">\n<div class=\"panel-heading\">\n<a class=\"sitemap-section-heading\" href=\"http://weather.gov/forecastmaps\">FORECAST</a>\n<button class=\"menu-toggle pull-right\" data-target=\"#sitemap-4\" data-toggle=\"collapse\" type=\"button\">\n<span class=\"sr-only\">Toggle menu</span>\n<span class=\"icon-bar\"></span>\n<span class=\"icon-bar\"></span>\n<span class=\"icon-bar\"></span>\n</button>\n</div>\n<div class=\"sitemap-section-body panel-body collapsable collapse\" id=\"sitemap-4\">\n<ul class=\"list-unstyled\">\n<li><a href=\" http://www.weather.gov/\">Local Forecast </a></li>\n<li><a href=\"http://www.weather.gov/pr\">International Forecasts</a></li>\n<li><a href=\" http://www.spc.noaa.gov/\">Severe Weather </a></li>\n<li><a href=\" http://www.wpc.ncep.noaa.gov/\">Current Outlook Maps </a></li>\n<li><a href=\"http://www.cpc.ncep.noaa.gov/products/Drought\">Drought </a></li>\n<li><a href=\"http://www.weather.gov/fire\">Fire Weather </a></li>\n<li><a href=\" http://www.wpc.ncep.noaa.gov/\">Fronts/Precipitation Maps </a></li>\n<li><a href=\" http://www.nws.noaa.gov/forecasts/graphical/\">Current Graphical Forecast Maps </a></li>\n<li><a href=\"http://water.weather.gov/ahps/forecasts.php\">Rivers </a></li>\n<li><a href=\"https://www.weather.gov/marine/\">Marine </a></li>\n<li><a href=\"https://ocean.weather.gov/marine_areas.php\">Offshore and High Seas</a></li>\n<li><a href=\" http://www.nhc.noaa.gov/\">Hurricanes </a></li>\n<li><a href=\" http://aviationweather.gov\">Aviation Weather </a></li>\n<li><a href=\"http://www.cpc.ncep.noaa.gov/products/OUTLOOKS_index.shtml\">Climatic Outlook </a></li>\n</ul>\n</div>\n</div>\n<div class=\"sitemap-section\">\n<div class=\"panel-heading\">\n<a class=\"sitemap-section-heading\" href=\"http://www.weather.gov/informationcenter\">INFORMATION CENTER</a>\n<button class=\"menu-toggle pull-right\" data-target=\"#sitemap-5\" data-toggle=\"collapse\" type=\"button\">\n<span class=\"sr-only\">Toggle menu</span>\n<span class=\"icon-bar\"></span>\n<span class=\"icon-bar\"></span>\n<span class=\"icon-bar\"></span>\n</button>\n</div>\n<div class=\"sitemap-section-body panel-body collapsable collapse\" id=\"sitemap-5\">\n<ul class=\"list-unstyled\">\n<li><a href=\" http://www.spaceweather.gov\">Space Weather </a></li>\n<li><a href=\"http://www.weather.gov/briefing/\">Daily Briefing </a></li>\n<li><a href=\" http://www.nws.noaa.gov/om/marine/home.htm\">Marine </a></li>\n<li><a href=\"http://www.nws.noaa.gov/climate\">Climate </a></li>\n<li><a href=\"http://www.weather.gov/fire\">Fire Weather </a></li>\n<li><a href=\" http://www.aviationweather.gov/\">Aviation </a></li>\n<li><a href=\"http://mag.ncep.noaa.gov/\">Forecast Models </a></li>\n<li><a href=\"http://water.weather.gov/ahps/\">Water </a></li>\n<li><a href=\"https://www.weather.gov/gis/\">GIS</a></li>\n<li><a href=\" http://www.nws.noaa.gov/om/coop/\">Cooperative Observers </a></li>\n<li><a href=\"https://www.weather.gov/skywarn/\">Storm Spotters </a></li>\n<li><a href=\"http://www.tsunami.gov\">Tsunami Warning System</a></li>\n<li><a href=\"http://water.noaa.gov/\">National Water Center</a></li>\n<li><a href=\"http://www.weather.gov/pr\">International Weather</a></li>\n</ul>\n</div>\n</div>\n<div class=\"sitemap-section\">\n<div class=\"panel-heading\">\n<a class=\"sitemap-section-heading\" href=\"http://weather.gov/safety\">WEATHER SAFETY</a>\n<button class=\"menu-toggle pull-right\" data-target=\"#sitemap-6\" data-toggle=\"collapse\" type=\"button\">\n<span class=\"sr-only\">Toggle menu</span>\n<span class=\"icon-bar\"></span>\n<span class=\"icon-bar\"></span>\n<span class=\"icon-bar\"></span>\n</button>\n</div>\n<div class=\"sitemap-section-body panel-body collapsable collapse\" id=\"sitemap-6\">\n<ul class=\"list-unstyled\">\n<li><a href=\"http://www.weather.gov/nwr/\">NOAA Weather Radio</a></li>\n<li><a href=\"http://www.weather.gov/stormready/\">StormReady</a></li>\n<li><a href=\"http://www.nws.noaa.gov/om/heat/index.shtml\">Heat </a></li>\n<li><a href=\"https://www.weather.gov/safety/lightning\">Lightning </a></li>\n<li><a href=\" http://www.nhc.noaa.gov/prepare/\">Hurricanes </a></li>\n<li><a href=\"http://www.nws.noaa.gov/om/thunderstorm/\">Thunderstorms </a></li>\n<li><a href=\"https://www.weather.gov/safety/tornado\">Tornadoes </a></li>\n<li><a href=\"https://www.weather.gov/safety/ripcurrent\">Rip Currents </a></li>\n<li><a href=\"https://www.weather.gov/safety/flood\">Floods </a></li>\n<li><a href=\"https://www.weather.gov/safety/tsunami\">Tsunamis</a></li>\n<li><a href=\"https://www.weather.gov/tsunamiready/\">TsunamiReady</a></li>\n<li><a href=\" http://www.weather.gov/om/winter/index.shtml\">Winter Weather </a></li>\n<li><a href=\"http://www.nws.noaa.gov/om/heat/uv.shtml\">Ultra Violet Radiation </a></li>\n<li><a href=\" http://www.weather.gov/airquality/\">Air Quality </a></li>\n<li><a href=\" http://www.weather.gov/om/hazstats.shtml\">Damage/Fatality/Injury Statistics </a></li>\n<li><a href=\" http://www.redcross.org/\">Red Cross </a></li>\n<li><a href=\" http://www.fema.gov/\">Federal Emergency Management Agency (FEMA) </a></li>\n<li><a href=\" http://www.weather.gov/om/brochures.shtml\">Brochures </a></li>\n<li><a href=\"http://www.nws.noaa.gov/os/marine/safeboating/\">Safe Boating</a></li>\n</ul>\n</div>\n</div>\n<div class=\"sitemap-section\">\n<div class=\"panel-heading\">\n<a class=\"sitemap-section-heading\" href=\"http://weather.gov/news\">NEWS</a>\n<button class=\"menu-toggle pull-right\" data-target=\"#sitemap-7\" data-toggle=\"collapse\" type=\"button\">\n<span class=\"sr-only\">Toggle menu</span>\n<span class=\"icon-bar\"></span>\n<span class=\"icon-bar\"></span>\n<span class=\"icon-bar\"></span>\n</button>\n</div>\n<div class=\"sitemap-section-body panel-body collapsable collapse\" id=\"sitemap-7\">\n<ul class=\"list-unstyled\">\n<li><a href=\" http://weather.gov/news\">Newsroom</a></li>\n<li><a href=\" http://weather.gov/socialmedia\">Social Media </a></li>\n<li><a href=\"http://www.nws.noaa.gov/com/weatherreadynation/calendar.html\">Events</a></li>\n<li><a href=\" http://www.weather.gov/om/brochures.shtml\">Pubs/Brochures/Booklets </a></li>\n</ul>\n</div>\n</div>\n<div class=\"sitemap-section\">\n<div class=\"panel-heading\">\n<a class=\"sitemap-section-heading\" href=\"http://weather.gov/owlie\">EDUCATION</a>\n<button class=\"menu-toggle pull-right\" data-target=\"#sitemap-8\" data-toggle=\"collapse\" type=\"button\">\n<span class=\"sr-only\">Toggle menu</span>\n<span class=\"icon-bar\"></span>\n<span class=\"icon-bar\"></span>\n<span class=\"icon-bar\"></span>\n</button>\n</div>\n<div class=\"sitemap-section-body panel-body collapsable collapse\" id=\"sitemap-8\">\n<ul class=\"list-unstyled\">\n<li><a href=\"http://weather.gov/education\">NWS Education Home</a></li>\n<li><a href=\"http://www.nws.noaa.gov/com/weatherreadynation/force.html\">Be A Force of Nature</a></li>\n<li><a href=\" http://www.education.noaa.gov/Weather_and_Atmosphere/\">NOAA Education Resources </a></li>\n<li><a href=\" http://www.weather.gov/glossary/\">Glossary </a></li>\n<li><a href=\"https://www.weather.gov/jetstream/\">JetStream </a></li>\n<li><a href=\" http://www.weather.gov/training/\">NWS Training Portal </a></li>\n<li><a href=\"https://library.noaa.gov/\">NOAA Library </a></li>\n<li><a href=\"http://weather.gov/owlie\">For Students, Parents and Teachers</a></li>\n<li><a href=\"http://www.weather.gov/owlie/publication_brochures\">Brochures </a></li>\n</ul>\n</div>\n</div>\n<div class=\"sitemap-section\">\n<div class=\"panel-heading\">\n<a class=\"sitemap-section-heading\" href=\"http://weather.gov/about\">ABOUT</a>\n<button class=\"menu-toggle pull-right\" data-target=\"#sitemap-9\" data-toggle=\"collapse\" type=\"button\">\n<span class=\"sr-only\">Toggle menu</span>\n<span class=\"icon-bar\"></span>\n<span class=\"icon-bar\"></span>\n<span class=\"icon-bar\"></span>\n</button>\n</div>\n<div class=\"sitemap-section-body panel-body collapsable collapse\" id=\"sitemap-9\">\n<ul class=\"list-unstyled\">\n<li><a href=\"http://weather.gov/organization\">Organization </a></li>\n<li><a href=\"https://www.weather.gov/media/wrn/NWS_Weather-Ready-Nation_Strategic_Plan_2019-2022.pdf\">Strategic Plan </a></li>\n<li><a href=\"https://sites.google.com/a/noaa.gov/nws-best-practices/\">For NWS Employees </a></li>\n<li><a href=\"https://www.weather.gov/international/\">International </a></li>\n<li><a href=\"http://www.ncep.noaa.gov/\">National Centers </a></li>\n<li><a href=\" http://www.weather.gov/tg/\">Products and Services </a></li>\n<li><a href=\"http://www.weather.gov/careers/\">Careers</a></li>\n<li><a href=\" http://www.weather.gov/glossary/\">Glossary </a></li>\n<li><a href=\"http://weather.gov/contact\">Contact Us </a></li>\n</ul>\n</div>\n</div>\n</div>\n</div>\n</div>\n<!-- legal footer area -->\n<div class=\"footer-legal\">\n<div class=\"col-xs-12 col-sm-2 col-md-2\" id=\"footerLogo\">\n<a href=\"http://www.usa.gov\"><img alt=\"usa.gov\" height=\"30\" src=\"/css/images/usa_gov.png\" width=\"110\"/></a>\n</div>\n<div class=\"col-xs-12 col-sm-4 col-md-4\">\n<ul class=\"list-unstyled footer-legal-content\">\n<li><a href=\"http://www.commerce.gov\">US Dept of Commerce</a></li>\n<li><a href=\"http://www.noaa.gov\">National Oceanic and Atmospheric Administration</a></li>\n<li><a href=\"http://www.weather.gov\">National Weather Service</a></li>\n<li><a href=\"https://www.weather.gov/mtr\">San Francisco Bay Area, CA</a></li><li><br><a href=\"mailto:w-mtr.webmaster@noaa.gov\">Comments? Questions? Please Contact Us.</a></br></li> </ul>\n</div>\n<div class=\"col-xs-12 col-sm-3 col-md-3\">\n<ul class=\"list-unstyled\">\n<li><a href=\"https://www.weather.gov/disclaimer\">Disclaimer</a></li>\n<li><a href=\"http://www.cio.noaa.gov/services_programs/info_quality.html\">Information Quality</a></li>\n<li><a href=\"https://www.weather.gov/help\">Help</a></li>\n<li><a href=\"http://www.weather.gov/glossary\">Glossary</a></li>\n</ul>\n</div>\n<div class=\"col-xs-12 col-sm-3 col-md-3\">\n<ul class=\"list-unstyled\">\n<li><a href=\"https://www.weather.gov/privacy\">Privacy Policy</a></li>\n<li><a href=\"https://www.noaa.gov/foia-freedom-of-information-act\">Freedom of Information Act (FOIA)</a></li>\n<li><a href=\"https://www.weather.gov/about\">About Us</a></li>\n<li><a href=\"https://www.weather.gov/careers\">Career Opportunities</a></li>\n</ul>\n</div>\n</div>\n</footer>\n</main>\n</body>\n"
     ]
    },
    {
     "output_type": "execute_result",
     "data": {
      "text/plain": [
       "{'day1': ['sunday', '54', 'today was a great sunny day '],\n",
       " 'day2': ['monday', '54', 'today was a great sunny day ']}"
      ]
     },
     "metadata": {},
     "execution_count": 40
    }
   ],
   "source": [
    "# Weather.gov\n",
    "    \n",
    "import requests\n",
    "from bs4 import BeautifulSoup\n",
    "\n",
    "page = requests.get(\"https://forecast.weather.gov/MapClick.php?lat=37.777120000000025&lon=-122.41963999999996#.X9DVpBakolQ\")\n",
    "soup = BeautifulSoup(page.content, 'html.parser')\n",
    "html = list(soup.children)[2]\n",
    "body = list(html.children)[3]\n",
    "\n",
    "print(body)\n",
    "\n",
    "#target parents\n",
    "#go deeper into childen\n",
    "#find p element or relevant class\n",
    "\n",
    "    #target day\n",
    "    #target temperature\n",
    "    #target summary \n",
    "    \n",
    "#save into a list\n",
    "#save into a dictionary?\n",
    "\n",
    "{\"day1\":[\"sunday\", \"54\", 'today was a great sunny day '], \"day2\":[\"monday\", \"54\", 'today was a great sunny day ']}\n",
    "\n",
    "#load dict into pandas\n",
    "# create column names if needed"
   ]
  },
  {
   "cell_type": "code",
   "execution_count": 41,
   "metadata": {},
   "outputs": [
    {
     "name": "stdout",
     "output_type": "stream",
     "text": [
      "\n",
      "This are the children\n",
      "\n",
      "Here is some simple content for this page.\n"
     ]
    }
   ],
   "source": [
    "# For further information\n",
    "# https://www.dataquest.io/blog/python-api-tutorial/\n",
    "\n",
    "import requests\n",
    "from bs4 import BeautifulSoup\n",
    "\n",
    "page = requests.get(\"http://dataquestio.github.io/web-scraping-pages/simple.html\")\n",
    "# Print the status code of the response.\n",
    "\n",
    "soup = BeautifulSoup(page.content, 'html.parser')\n",
    "#print(soup.prettify())\n",
    "\n",
    "print()\n",
    "print(\"This are the children\")\n",
    "print()\n",
    "\n",
    "html = list(soup.children)[2]\n",
    "#print(html)\n",
    "\n",
    "body = list(html.children)[3]\n",
    "#print(body)\n",
    "\n",
    "p = list(body.children)[1]\n",
    "#print(p)\n",
    "\n",
    "#print(p.get_text())\n",
    "\n",
    "#Faster Way\n",
    "\n",
    "p = soup.find('p')\n",
    "\n",
    "print(p.get_text())\n"
   ]
  },
  {
   "cell_type": "code",
   "execution_count": 41,
   "metadata": {},
   "outputs": [],
   "source": [
    "l = ['html', '\\n', \"<html> <head> <title>A simple example page</title></head><body><p>Here is some simple content for this page.</p></body></html>\"]"
   ]
  },
  {
   "cell_type": "code",
   "execution_count": 42,
   "metadata": {},
   "outputs": [
    {
     "output_type": "execute_result",
     "data": {
      "text/plain": [
       "'<html> <head> <title>A simple example page</title></head><body><p>Here is some simple content for this page.</p></body></html>'"
      ]
     },
     "metadata": {},
     "execution_count": 42
    }
   ],
   "source": [
    "l[2]"
   ]
  },
  {
   "cell_type": "markdown",
   "metadata": {},
   "source": [
    "# FindAll with BS"
   ]
  },
  {
   "cell_type": "code",
   "execution_count": 56,
   "metadata": {},
   "outputs": [
    {
     "output_type": "stream",
     "name": "stdout",
     "text": [
      "<p class=\"outer-text first-item\" id=\"second\">\n<b>\n                First outer paragraph.\n            </b>\n</p>\n"
     ]
    }
   ],
   "source": [
    "# https://www.dataquest.io/blog/python-api-tutorial/\n",
    "\n",
    "import requests\n",
    "from bs4 import BeautifulSoup\n",
    "\n",
    "page =requests.get(\"http://dataquestio.github.io/web-scraping-pages/ids_and_classes.html\")\n",
    "# Print the status code of the response.\n",
    "\n",
    "soup =BeautifulSoup(page.content, 'html.parser')\n",
    "#print(soup.prettify())\n",
    "\n",
    "outer = soup.find_all('p', class_='outer-text')[0]\n",
    "#outer = soup.find(id='first').string\n",
    "print(outer)\n"
   ]
  },
  {
   "cell_type": "code",
   "execution_count": 58,
   "metadata": {},
   "outputs": [
    {
     "output_type": "execute_result",
     "data": {
      "text/plain": [
       "<b>\n",
       "                First outer paragraph.\n",
       "            </b>"
      ]
     },
     "metadata": {},
     "execution_count": 58
    }
   ],
   "source": [
    "outer.find_all('b')[0]"
   ]
  },
  {
   "cell_type": "code",
   "execution_count": null,
   "metadata": {},
   "outputs": [],
   "source": []
  }
 ],
 "metadata": {
  "kernelspec": {
   "name": "python388jvsc74a57bd0c2ad988b83bc3032ab0bc6c9b326315d9b3145f093b7c28f6f9e14e1089dbd73",
   "display_name": "Python 3.8.8 64-bit ('NLP': conda)"
  },
  "language_info": {
   "codemirror_mode": {
    "name": "ipython",
    "version": 3
   },
   "file_extension": ".py",
   "mimetype": "text/x-python",
   "name": "python",
   "nbconvert_exporter": "python",
   "pygments_lexer": "ipython3",
   "version": "3.8.8"
  }
 },
 "nbformat": 4,
 "nbformat_minor": 4
}