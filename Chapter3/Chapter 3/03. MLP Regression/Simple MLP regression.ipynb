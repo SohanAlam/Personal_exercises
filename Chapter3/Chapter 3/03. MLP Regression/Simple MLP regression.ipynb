{
 "cells": [
  {
   "cell_type": "markdown",
   "metadata": {},
   "source": [
    "### Simple Regression with PyTorch\n",
    "\n",
    "Let’s learn simple regression with PyTorch examples:"
   ]
  },
  {
   "cell_type": "code",
   "execution_count": null,
   "metadata": {},
   "outputs": [],
   "source": [
    "# Some useful imports\n",
    "\n",
    "import torch\n",
    "import torch.nn as nn\n",
    "import torch.nn.functional as F\n",
    "import matplotlib.pyplot as plt\n",
    "import numpy as np"
   ]
  },
  {
   "cell_type": "markdown",
   "metadata": {},
   "source": [
    "Our network model is a simple Linear layer with an input and an output shape of 1."
   ]
  },
  {
   "cell_type": "code",
   "execution_count": null,
   "metadata": {},
   "outputs": [],
   "source": [
    "class Net(nn.Module):\n",
    "   def __init__(self):\n",
    "       super(Net, self).__init__()\n",
    "       self.layer = torch.nn.Linear(1, 1)\n",
    "\n",
    "   def forward(self, x):\n",
    "       x = self.layer(x)      \n",
    "       return x\n",
    "\n",
    "net = Net()\n",
    "print(net)"
   ]
  },
  {
   "cell_type": "markdown",
   "metadata": {},
   "source": [
    "Before you start the training process, you need to know our data. You make a random function to test our model.\n",
    "\n",
    "Y = x^3 sin(x)+ 3x+0.8 rand(100)"
   ]
  },
  {
   "cell_type": "code",
   "execution_count": null,
   "metadata": {},
   "outputs": [],
   "source": [
    "# Visualize our data\n",
    "\n",
    "x = np.random.rand(100)\n",
    "y = np.sin(x) * np.power(x,3) + 3*x + np.random.rand(100)*0.8\n",
    "\n",
    "plt.scatter(x, y)\n",
    "plt.show()"
   ]
  },
  {
   "cell_type": "markdown",
   "metadata": {},
   "source": [
    "Before you start the training process, you need to convert the numpy array to Tensor."
   ]
  },
  {
   "cell_type": "code",
   "execution_count": null,
   "metadata": {},
   "outputs": [],
   "source": [
    "# convert numpy array to tensor in shape of input size\n",
    "x = torch.from_numpy(x.reshape(-1,1)).float()\n",
    "y = torch.from_numpy(y.reshape(-1,1)).float()\n",
    "print(x, y)"
   ]
  },
  {
   "cell_type": "markdown",
   "metadata": {},
   "source": [
    "Next, you should define the Optimizer and the Loss Function for our training process. Please note that we are using a different loss function. Can you guess why (of course you can)?"
   ]
  },
  {
   "cell_type": "code",
   "execution_count": null,
   "metadata": {},
   "outputs": [],
   "source": [
    "# Define Optimizer and Loss Function\n",
    "optimizer = torch.optim.SGD(net.parameters(), lr=0.2)\n",
    "loss_func = torch.nn.MSELoss()"
   ]
  },
  {
   "cell_type": "markdown",
   "metadata": {},
   "source": [
    "Now let’s start our training process. With an epoch of 250, you will iterate our data to find the best value for our weights and biases."
   ]
  },
  {
   "cell_type": "code",
   "execution_count": null,
   "metadata": {},
   "outputs": [],
   "source": [
    "for i in range(250):\n",
    "    \n",
    "    prediction = net(x)\n",
    "    loss = loss_func(prediction, y) \n",
    "    optimizer.zero_grad()\n",
    "    loss.backward()        \n",
    "    optimizer.step()       \n",
    "\n",
    "    if i % 10 == 0:\n",
    "        # plot and show learning process\n",
    "        plt.cla()\n",
    "        plt.scatter(x.data.numpy(), y.data.numpy())\n",
    "        plt.plot(x.data.numpy(), prediction.data.numpy(), 'r-', lw=2)\n",
    "        plt.text(0.5, 0, 'Loss=%.4f' % loss.data.numpy(), fontdict={'size': 10, 'color':  'red'})\n",
    "        plt.pause(0.1)\n",
    "\n",
    "plt.show()"
   ]
  },
  {
   "cell_type": "markdown",
   "metadata": {},
   "source": [
    "That's it! This was a really simple example, now you can try with an harder one. Pull the Github repo and work in team."
   ]
  }
 ],
 "metadata": {
  "interpreter": {
   "hash": "6d70a0436c50e7b6f498bd5bbc4667e2de2959c3796a9ad1ed0d0030ffa24a30"
  },
  "kernelspec": {
   "display_name": "Python 3.9.5 64-bit ('deep_learning': conda)",
   "language": "python",
   "name": "python3"
  },
  "language_info": {
   "codemirror_mode": {
    "name": "ipython",
    "version": 3
   },
   "file_extension": ".py",
   "mimetype": "text/x-python",
   "name": "python",
   "nbconvert_exporter": "python",
   "pygments_lexer": "ipython3",
   "version": "3.9.5"
  },
  "orig_nbformat": 4
 },
 "nbformat": 4,
 "nbformat_minor": 2
}
