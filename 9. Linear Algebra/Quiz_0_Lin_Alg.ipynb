{
 "cells": [
  {
   "cell_type": "markdown",
   "source": [
    "# Vectors and Matrices\n",
    "Time to work! Do it with numpy first and then if you have time, manually by hand :)"
   ],
   "metadata": {}
  },
  {
   "cell_type": "markdown",
   "source": [
    "## Vectors"
   ],
   "metadata": {}
  },
  {
   "cell_type": "markdown",
   "source": [
    "Lists can be used to represent mathematical vectors. In this exercise and several that follow you will write functions to perform standard operations on vectors. Create a file named vectors.py or use the Jupyter notebook provided\n",
    "\n",
    "Write a function add_vectors(u, v) that takes two lists of numbers of the same length, and returns a new list containing the sums of the corresponding elements of each.\n",
    "\n",
    "**Note that the text in \"\"\" \"\"\" is provided for you to accurately verify that your function works :)**"
   ],
   "metadata": {}
  },
  {
   "cell_type": "code",
   "execution_count": 5,
   "source": [
    "import numpy as np\r\n",
    "def add_vectors():\r\n",
    "\r\n",
    "    u = np.array([1,2,3,4,5])\r\n",
    "    v =np.array([9,8,7,6,5])\r\n",
    "    x =np.add(u,v)\r\n",
    "    print(x)\r\n",
    "\r\n",
    "add_vectors()\r\n"
   ],
   "outputs": [
    {
     "output_type": "stream",
     "name": "stdout",
     "text": [
      "[10 10 10 10 10]\n"
     ]
    }
   ],
   "metadata": {
    "ExecuteTime": {
     "end_time": "2021-06-07T12:55:04.065651Z",
     "start_time": "2021-06-07T12:55:04.052145Z"
    }
   }
  },
  {
   "cell_type": "markdown",
   "source": [
    "Write a function scalar_mult(s, v) that takes a number, s, and a list, v and returns the [scalar multiple](https://en.wikipedia.org/wiki/Scalar_multiplication) of v by s."
   ],
   "metadata": {}
  },
  {
   "cell_type": "code",
   "execution_count": 9,
   "source": [
    "def scalar_mult():\r\n",
    "  s = 5\r\n",
    "  v = np.array([2,3,4,5])\r\n",
    "  x1 = np.multiply(s,v)\r\n",
    "  print(x1)\r\n",
    "\r\n",
    "scalar_mult()"
   ],
   "outputs": [
    {
     "output_type": "stream",
     "name": "stdout",
     "text": [
      "[10 15 20 25]\n"
     ]
    }
   ],
   "metadata": {
    "ExecuteTime": {
     "end_time": "2021-06-07T12:55:19.258850Z",
     "start_time": "2021-06-07T12:55:19.249823Z"
    }
   }
  },
  {
   "cell_type": "markdown",
   "source": [
    "Write a function dot_product(u, v) that takes two lists of numbers of the same length, and returns the sum of the products of the corresponding elements of each (the [dot_product](https://en.wikipedia.org/wiki/Dot_product)."
   ],
   "metadata": {}
  },
  {
   "cell_type": "code",
   "execution_count": 11,
   "source": [
    "def dot_product():\r\n",
    "  p = np.array([2,4,6,8])\r\n",
    "  q = np.array([1,3,5,7])\r\n",
    "  r = np.sum([p,q])\r\n",
    "  print(r)\r\n",
    "\r\n",
    "dot_product()"
   ],
   "outputs": [
    {
     "output_type": "stream",
     "name": "stdout",
     "text": [
      "36\n"
     ]
    }
   ],
   "metadata": {
    "ExecuteTime": {
     "end_time": "2021-06-07T12:55:22.647998Z",
     "start_time": "2021-06-07T12:55:22.642607Z"
    }
   }
  },
  {
   "cell_type": "markdown",
   "source": [
    "## Matrices"
   ],
   "metadata": {}
  },
  {
   "cell_type": "markdown",
   "source": [
    "Create a new module named matrices.py or *use the Jupyter notebook provided* and add the following function, which returns a copy of nested lists of numbers such that the lists are not aliases:"
   ],
   "metadata": {}
  },
  {
   "cell_type": "code",
   "execution_count": 12,
   "source": [
    "def copy_matrix(matrix):\r\n",
    "    \"\"\"\r\n",
    "      >>> copy_matrix([[1, 2], [3, 4]])\r\n",
    "      [[1, 2], [3, 4]]\r\n",
    "      >>> copy_matrix([[1, 2, 3], [4, 5, 6]])\r\n",
    "      [[1, 2, 3], [4, 5, 6]]\r\n",
    "      >>> copy_matrix([[1, 2], [3, 4], [5, 6], [7, 8]])\r\n",
    "      [[1, 2], [3, 4], [5, 6], [7, 8]]\r\n",
    "      >>> m = [[1, 0, 0], [0, 2, 0], [0, 0, 3]]\r\n",
    "      >>> copyofm = copy_matrix(m)\r\n",
    "      >>> copyofm\r\n",
    "      [[1, 0, 0], [0, 2, 0], [0, 0, 3]]\r\n",
    "      >>> for row_num, row in enumerate(copyofm):\r\n",
    "      ...     for col_num, col_val in enumerate(row):\r\n",
    "      ...         copyofm[row_num][col_num] = 42\r\n",
    "      ...\r\n",
    "      >>> copyofm\r\n",
    "      [[42, 42, 42], [42, 42, 42], [42, 42, 42]]\r\n",
    "      >>> m\r\n",
    "      [[1, 0, 0], [0, 2, 0], [0, 0, 3]]\r\n",
    "    \"\"\"\r\n",
    "    pass"
   ],
   "outputs": [],
   "metadata": {
    "ExecuteTime": {
     "end_time": "2021-06-07T12:55:25.891991Z",
     "start_time": "2021-06-07T12:55:25.888466Z"
    }
   }
  },
  {
   "cell_type": "code",
   "execution_count": 5,
   "source": [
    "def add_row(matrix):\r\n",
    "    \"\"\"\r\n",
    "      >>> m = [[0, 0], [0, 0]]\r\n",
    "      >>> add_row(m)\r\n",
    "      [[0, 0], [0, 0], [0, 0]]\r\n",
    "      >>> n = [[3, 2, 5], [1, 4, 7]]\r\n",
    "      >>> add_row(n)\r\n",
    "      [[3, 2, 5], [1, 4, 7], [0, 0, 0]]\r\n",
    "      >>> n\r\n",
    "      [[3, 2, 5], [1, 4, 7]]\r\n",
    "    \"\"\"\r\n",
    "    pass"
   ],
   "outputs": [],
   "metadata": {
    "ExecuteTime": {
     "end_time": "2021-06-07T12:55:28.752996Z",
     "start_time": "2021-06-07T12:55:28.749066Z"
    }
   }
  },
  {
   "cell_type": "code",
   "execution_count": 6,
   "source": [
    "def add_column(matrix):\r\n",
    "    \"\"\"\r\n",
    "      >>> m = [[0, 0], [0, 0]]\r\n",
    "      >>> add_column(m)\r\n",
    "      [[0, 0, 0], [0, 0, 0]]\r\n",
    "      >>> n = [[3, 2], [5, 1], [4, 7]]\r\n",
    "      >>> add_column(n)\r\n",
    "      [[3, 2, 0], [5, 1, 0], [4, 7, 0]]\r\n",
    "      >>> n\r\n",
    "      [[3, 2], [5, 1], [4, 7]]\r\n",
    "    \"\"\"\r\n",
    "    pass"
   ],
   "outputs": [],
   "metadata": {
    "ExecuteTime": {
     "end_time": "2021-06-07T12:55:31.190111Z",
     "start_time": "2021-06-07T12:55:31.186840Z"
    }
   }
  },
  {
   "cell_type": "markdown",
   "source": [
    "Write a function add_matrices(m1, m2) that adds m1 and m2 and returns a new matrix containing their sum. You can assume that m1 and m2 are the same size. You add two matrices by adding their corresponding values."
   ],
   "metadata": {}
  },
  {
   "cell_type": "code",
   "execution_count": 13,
   "source": [
    "def add_matrices():\r\n",
    "    m1 = np.matrix([[1,2,3,4],[4,3,2,1]])\r\n",
    "    m2 = np.matrix([[9,8,7,6],[6,7,8,9]])\r\n",
    "    s = np.sum([m1,m2])\r\n",
    "    print(s)\r\n",
    "\r\n",
    "add_matrices()\r\n"
   ],
   "outputs": [
    {
     "output_type": "stream",
     "name": "stdout",
     "text": [
      "80\n"
     ]
    }
   ],
   "metadata": {
    "ExecuteTime": {
     "end_time": "2021-06-07T12:55:42.884497Z",
     "start_time": "2021-06-07T12:55:42.864759Z"
    }
   }
  },
  {
   "cell_type": "markdown",
   "source": [
    "Write a function scalar_mult(s, m) that multiplies a matrix, m, by a scalar, s."
   ],
   "metadata": {}
  },
  {
   "cell_type": "code",
   "execution_count": 14,
   "source": [
    "\r\n",
    "def scaler():\r\n",
    "    sc= 10\r\n",
    "    m = np.matrix([[2,4,6,8,],[1,3,5,7]])\r\n",
    "    mul =np.multiply(sc,m)\r\n",
    "    print(mul)\r\n",
    "\r\n",
    "scaler()"
   ],
   "outputs": [
    {
     "output_type": "stream",
     "name": "stdout",
     "text": [
      "[[20 40 60 80]\n",
      " [10 30 50 70]]\n"
     ]
    }
   ],
   "metadata": {
    "ExecuteTime": {
     "end_time": "2021-06-07T12:55:47.182931Z",
     "start_time": "2021-06-07T12:55:47.178180Z"
    }
   }
  },
  {
   "cell_type": "markdown",
   "source": [
    "Write functions row_times_column and matrix_mult:"
   ],
   "metadata": {}
  },
  {
   "cell_type": "code",
   "execution_count": 10,
   "source": [
    "def row_times_column(m1, row, m2, column):\r\n",
    "    \"\"\"\r\n",
    "      >>> row_times_column([[1, 2], [3, 4]], 0, [[5, 6], [7, 8]], 0)\r\n",
    "      19\r\n",
    "      >>> row_times_column([[1, 2], [3, 4]], 0, [[5, 6], [7, 8]], 1)\r\n",
    "      22\r\n",
    "      >>> row_times_column([[1, 2], [3, 4]], 1, [[5, 6], [7, 8]], 0)\r\n",
    "      43\r\n",
    "      >>> row_times_column([[1, 2], [3, 4]], 1, [[5, 6], [7, 8]], 1)\r\n",
    "      50\r\n",
    "    \"\"\"\r\n",
    "    pass"
   ],
   "outputs": [],
   "metadata": {
    "ExecuteTime": {
     "end_time": "2021-06-07T12:55:52.098971Z",
     "start_time": "2021-06-07T12:55:52.095060Z"
    }
   }
  },
  {
   "cell_type": "code",
   "execution_count": 13,
   "source": [
    "def matrix_mult(m1, m2):\r\n",
    "    \"\"\"\r\n",
    "      >>> matrix_mult([[1, 2], [3,  4]], [[5, 6], [7, 8]])\r\n",
    "      [[19, 22], [43, 50]]\r\n",
    "      >>> matrix_mult([[1, 2, 3], [4,  5, 6]], [[7, 8], [9, 1], [2, 3]])\r\n",
    "      [[31, 19], [85, 55]]\r\n",
    "      >>> matrix_mult([[7, 8], [9, 1], [2, 3]], [[1, 2, 3], [4, 5, 6]])\r\n",
    "      [[39, 54, 69], [13, 23, 33], [14, 19, 24]]\r\n",
    "    \"\"\"\r\n",
    "    pass"
   ],
   "outputs": [],
   "metadata": {
    "ExecuteTime": {
     "end_time": "2021-06-07T12:56:10.904256Z",
     "start_time": "2021-06-07T12:56:10.900955Z"
    }
   }
  },
  {
   "cell_type": "markdown",
   "source": [
    "Write a function transpose that takes a matrix as an argument and returns is transpose:"
   ],
   "metadata": {}
  },
  {
   "cell_type": "code",
   "execution_count": 16,
   "source": [
    "def transpose():\r\n",
    "    x = np.matrix([[1,2],[4,5]])\r\n",
    "    y = np.transpose(x)\r\n",
    "    print(y)\r\n",
    "\r\n",
    "transpose()"
   ],
   "outputs": [
    {
     "output_type": "stream",
     "name": "stdout",
     "text": [
      "[[1 4]\n",
      " [2 5]]\n"
     ]
    }
   ],
   "metadata": {
    "ExecuteTime": {
     "end_time": "2021-06-07T12:56:20.280054Z",
     "start_time": "2021-06-07T12:56:20.276651Z"
    }
   }
  },
  {
   "cell_type": "code",
   "execution_count": null,
   "source": [],
   "outputs": [],
   "metadata": {}
  }
 ],
 "metadata": {
  "kernelspec": {
   "name": "python3",
   "display_name": "Python 3.8.8 64-bit ('base': conda)"
  },
  "language_info": {
   "codemirror_mode": {
    "name": "ipython",
    "version": 3
   },
   "file_extension": ".py",
   "mimetype": "text/x-python",
   "name": "python",
   "nbconvert_exporter": "python",
   "pygments_lexer": "ipython3",
   "version": "3.8.8"
  },
  "varInspector": {
   "cols": {
    "lenName": 16,
    "lenType": 16,
    "lenVar": 40
   },
   "kernels_config": {
    "python": {
     "delete_cmd_postfix": "",
     "delete_cmd_prefix": "del ",
     "library": "var_list.py",
     "varRefreshCmd": "print(var_dic_list())"
    },
    "r": {
     "delete_cmd_postfix": ") ",
     "delete_cmd_prefix": "rm(",
     "library": "var_list.r",
     "varRefreshCmd": "cat(var_dic_list()) "
    }
   },
   "types_to_exclude": [
    "module",
    "function",
    "builtin_function_or_method",
    "instance",
    "_Feature"
   ],
   "window_display": false
  },
  "interpreter": {
   "hash": "83a2f9ca03f55ceb7ba34fffa46dc6dbeecdfd74c901df231d91189a23c4b669"
  }
 },
 "nbformat": 4,
 "nbformat_minor": 2
}