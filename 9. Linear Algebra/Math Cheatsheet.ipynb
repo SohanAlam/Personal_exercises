{
 "cells": [
  {
   "cell_type": "markdown",
   "id": "hollywood-semester",
   "metadata": {},
   "source": [
    "## Develop your own cheatsheet taking notes during the course\n",
    "\n",
    "You can either do it here or in Notion, if you want guidance for it you can rewatch the class taken by Umut about note taking https://strive-school.zoom.us/rec/share/bKqjQrgxpTljao75kpoesMafGtzQcwFtXuWqSVTOvuoO36i0b1pDTtVOK1RbwHRa.00z2B3Y_wtvKKbMA."
   ]
  },
  {
   "cell_type": "markdown",
   "id": "saved-transcript",
   "metadata": {},
   "source": [
    "It is convenient to have short notes with definitions, and an example with a snippet of code.\n",
    "\n",
    "Example:"
   ]
  },
  {
   "cell_type": "markdown",
   "id": "usual-surfing",
   "metadata": {},
   "source": [
    "### Norm of a vector\n",
    "\n",
    "$$ v = (v_{1}, v_{2}, ...,v_{n})$$\n",
    "\n",
    "$$ ||v|| = \\sqrt{v_{1}^{2}+v_{2}^{2} + ... + v_{n}^{2}}$$"
   ]
  },
  {
   "cell_type": "code",
   "execution_count": 2,
   "id": "tight-apparatus",
   "metadata": {
    "ExecuteTime": {
     "end_time": "2021-07-12T06:40:03.948538Z",
     "start_time": "2021-07-12T06:40:03.924970Z"
    }
   },
   "outputs": [
    {
     "data": {
      "text/plain": [
       "5.477225575051661"
      ]
     },
     "execution_count": 2,
     "metadata": {},
     "output_type": "execute_result"
    }
   ],
   "source": [
    "import numpy as np\n",
    "v = np.array([1,2,3,4])\n",
    "v_norm = np.linalg.norm(v)\n",
    "v_norm"
   ]
  },
  {
   "cell_type": "code",
   "execution_count": null,
   "id": "korean-optimization",
   "metadata": {},
   "outputs": [],
   "source": []
  }
 ],
 "metadata": {
  "kernelspec": {
   "display_name": "Python 3",
   "language": "python",
   "name": "python3"
  },
  "language_info": {
   "codemirror_mode": {
    "name": "ipython",
    "version": 3
   },
   "file_extension": ".py",
   "mimetype": "text/x-python",
   "name": "python",
   "nbconvert_exporter": "python",
   "pygments_lexer": "ipython3",
   "version": "3.9.1"
  },
  "varInspector": {
   "cols": {
    "lenName": 16,
    "lenType": 16,
    "lenVar": 40
   },
   "kernels_config": {
    "python": {
     "delete_cmd_postfix": "",
     "delete_cmd_prefix": "del ",
     "library": "var_list.py",
     "varRefreshCmd": "print(var_dic_list())"
    },
    "r": {
     "delete_cmd_postfix": ") ",
     "delete_cmd_prefix": "rm(",
     "library": "var_list.r",
     "varRefreshCmd": "cat(var_dic_list()) "
    }
   },
   "types_to_exclude": [
    "module",
    "function",
    "builtin_function_or_method",
    "instance",
    "_Feature"
   ],
   "window_display": false
  }
 },
 "nbformat": 4,
 "nbformat_minor": 5
}
